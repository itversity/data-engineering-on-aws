{
 "cells": [
  {
   "cell_type": "markdown",
   "metadata": {},
   "source": [
    "## Understanding GitHub APIs\n",
    "\n",
    "Let us spend some time to understand some of the APIs related to GitHub. We will populate the output of GitHub APIs to Databases as per our requirements.\n",
    "* Click [here](https://docs.github.com/en/rest) to go to the official page for GitHub developer APIs.\n",
    "* We will be primarily exploring APIs related to public repositories. You can access the details under this [link](https://docs.github.com/en/rest/reference/repos).\n",
    "* We will be using [list public repositories](https://docs.github.com/en/rest/reference/repos#list-public-repositories) and then [get repository](https://docs.github.com/en/rest/reference/repos#get-a-repository) to get details such as create time for a given repository.\n",
    "* We will store the following information from get repository API. Most of the information is available as part of **list-public-repositories** as well.\n",
    "  * id\n",
    "  * node_id\n",
    "  * name\n",
    "  * full_name\n",
    "  * owner.login\n",
    "  * owner.id\n",
    "  * owner.node_id\n",
    "  * owner.type\n",
    "  * owner.site_admin\n",
    "  * html_url\n",
    "  * description\n",
    "  * fork\n",
    "  * created_at\n",
    "* Some of the fields such as **created_at** are not available under list repositories.\n",
    "* Keep in mind that, we can get details of only one repo per call using **get repo** where as we can get up to 100 records using **list all repos**."
   ]
  },
  {
   "cell_type": "code",
   "execution_count": null,
   "metadata": {},
   "outputs": [],
   "source": []
  }
 ],
 "metadata": {
  "kernelspec": {
   "display_name": "Python 3",
   "language": "python",
   "name": "python3"
  },
  "language_info": {
   "codemirror_mode": {
    "name": "ipython",
    "version": 3
   },
   "file_extension": ".py",
   "mimetype": "text/x-python",
   "name": "python",
   "nbconvert_exporter": "python",
   "pygments_lexer": "ipython3",
   "version": "3.7.11"
  }
 },
 "nbformat": 4,
 "nbformat_minor": 4
}
