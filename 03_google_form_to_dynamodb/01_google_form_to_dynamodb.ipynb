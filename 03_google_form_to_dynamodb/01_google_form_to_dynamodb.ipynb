{
 "cells": [
  {
   "cell_type": "markdown",
   "metadata": {},
   "source": [
    "## Google form to Dynamodb\n",
    "\n",
    "Here are the high level steps to get the email data from Google form to Dynamodb.\n",
    "* Make sure to have table created in Dynamodb.\n",
    "* Create the form with all the relevant questions.\n",
    "* Convert the form to Google sheet.\n",
    "* Setup Project in Google Developer Console and download credentials.\n",
    "* Install required Python libraries\n",
    "* Read the data from Google Sheet\n",
    "* Apply all the transformations as per your requirements.\n",
    "* Populate the Dynamodb table."
   ]
  }
 ],
 "metadata": {
  "kernelspec": {
   "display_name": "Python 3",
   "language": "python",
   "name": "python3"
  },
  "language_info": {
   "codemirror_mode": {
    "name": "ipython",
    "version": 3
   },
   "file_extension": ".py",
   "mimetype": "text/x-python",
   "name": "python",
   "nbconvert_exporter": "python",
   "pygments_lexer": "ipython3",
   "version": "3.7.9"
  }
 },
 "nbformat": 4,
 "nbformat_minor": 4
}
