{
 "cells": [
  {
   "cell_type": "markdown",
   "metadata": {},
   "source": [
    "## Using AWS CLI\n",
    "Let us validate s3 and Glue using AWS CLI.\n",
    "\n",
    "* As we are using bastion with Administrator (IAM) Role, we can interact with all the services with out worrying about credentials using AWS CLI.\n",
    "* We can run below command to list all the buckets under an account."
   ]
  },
  {
   "cell_type": "code",
   "execution_count": 1,
   "metadata": {},
   "outputs": [
    {
     "name": "stdout",
     "output_type": "stream",
     "text": [
      "2016-11-30 09:17:19 ask-dg.com\n",
      "2020-11-22 06:41:36 aws-cloudtrail-logs-582845781536-85a675a2\n",
      "2020-08-27 14:41:04 aws-emr-resources-582845781536-us-east-1\n",
      "2020-10-15 17:02:19 aws-glue-assets-582845781536-us-east-1\n",
      "2017-06-30 05:28:52 aws-logs-582845781536-us-east-1\n",
      "2018-08-11 02:34:02 aws-logs-582845781536-us-east-2\n",
      "2018-08-12 16:44:22 bdclouddemo\n",
      "2017-01-21 09:09:28 bigdata-labs.com\n",
      "2017-07-06 23:56:55 corpitversity\n",
      "2018-02-06 19:42:32 emrlabs\n",
      "2019-10-01 04:56:24 itc-app-images\n",
      "2019-09-18 11:31:29 itc-course-images\n",
      "2019-10-01 04:46:36 itc-course-images-uat\n",
      "2019-10-01 04:49:17 itc-uat-images\n",
      "2019-10-01 05:00:59 itv-app-images\n",
      "2021-01-06 18:57:51 itvcdp\n",
      "2021-01-11 04:59:56 itvdemo\n",
      "2016-10-30 04:06:27 itversity\n",
      "2019-08-15 05:06:55 itversity-databricks\n",
      "2019-09-27 15:38:28 itversity-databricks-data\n",
      "2018-05-10 18:49:03 itversity-student-enroll\n",
      "2017-07-01 00:48:03 itversitydata\n",
      "2021-01-07 16:10:18 kaizen.itversity.com\n",
      "2017-01-21 05:58:18 labs.itversity.com\n",
      "2019-08-17 03:55:20 notifyme.itversity.com\n",
      "2019-03-16 08:34:01 pdcdemo\n",
      "2017-01-17 18:35:54 uat.bigdata-labs.com\n",
      "2017-01-17 18:36:31 uatlabs.itversity.com\n",
      "2018-12-02 06:18:09 usingboto3\n",
      "2017-01-21 09:10:36 www.bigdata-labs.com\n",
      "2017-01-26 01:01:38 www.itversity.com\n"
     ]
    }
   ],
   "source": [
    "%%sh\n",
    "\n",
    "aws s3 ls"
   ]
  },
  {
   "cell_type": "markdown",
   "metadata": {},
   "source": [
    "* We can list the current Glue Jobs under the AWS account. It is mandatory to specify the `--region` to interact with glue jobs using AWS CLI."
   ]
  },
  {
   "cell_type": "code",
   "execution_count": 2,
   "metadata": {},
   "outputs": [
    {
     "name": "stdout",
     "output_type": "stream",
     "text": [
      "{\n",
      "    \"JobNames\": [\n",
      "        \"Getting Started\"\n",
      "    ]\n",
      "}\n"
     ]
    }
   ],
   "source": [
    "%%sh\n",
    "\n",
    "aws glue --region us-east-1 list-jobs"
   ]
  },
  {
   "cell_type": "code",
   "execution_count": null,
   "metadata": {},
   "outputs": [],
   "source": []
  }
 ],
 "metadata": {
  "kernelspec": {
   "display_name": "Python 3",
   "language": "python",
   "name": "python3"
  },
  "language_info": {
   "codemirror_mode": {
    "name": "ipython",
    "version": 3
   },
   "file_extension": ".py",
   "mimetype": "text/x-python",
   "name": "python",
   "nbconvert_exporter": "python",
   "pygments_lexer": "ipython3",
   "version": "3.7.9"
  }
 },
 "nbformat": 4,
 "nbformat_minor": 4
}
