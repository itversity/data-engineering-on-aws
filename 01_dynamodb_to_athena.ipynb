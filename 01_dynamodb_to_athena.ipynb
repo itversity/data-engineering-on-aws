{
 "cells": [
  {
   "cell_type": "markdown",
   "metadata": {},
   "source": [
    "Here are the high level steps to take care getting data from Dynamodb to s3 in real time with basic transformations. \n",
    "\n",
    "* Step 1: Kinesis - Create Datastream in Kinesis \n",
    "* Step 2: DynamoDB Table - Enable \"Manage Streaming to Kinesis\" \n",
    "  * Make sure stream created in Step 1 is attached to DynamoDB Kinesis Stream. \n",
    "* Step 3: Create lambda function \n",
    "* Step 4: Create Glue Catalog table to support record format conversion \n",
    "  * The table structure should match the event record format based up on Lambda function created in Step 3. \n",
    "* Step 5: Create Glue Catalog table on s3 location where data will be written \n",
    "* Step 6: Create Delivery Stream \n",
    "  * Step 6a: Configure Kinesis Data Stream (from Step 1) \n",
    "  * Step 6b: Configure lambda function for source record transformation \n",
    "  * Step 6c: Configure schema using Glue Catalog table created in Step 4 to convert record format \n",
    "  * Step 6d: Configure s3 location to which data need to be written. Path should match the location specified in Step 5. \n",
    "* Step 7: Use Athena to run queries against the table created in Step 5 \n"
   ]
  },
  {
   "cell_type": "code",
   "execution_count": null,
   "metadata": {},
   "outputs": [],
   "source": []
  }
 ],
 "metadata": {
  "kernelspec": {
   "display_name": "Python 3",
   "language": "python",
   "name": "python3"
  },
  "language_info": {
   "codemirror_mode": {
    "name": "ipython",
    "version": 3
   },
   "file_extension": ".py",
   "mimetype": "text/x-python",
   "name": "python",
   "nbconvert_exporter": "python",
   "pygments_lexer": "ipython3",
   "version": "3.7.11"
  }
 },
 "nbformat": 4,
 "nbformat_minor": 4
}
