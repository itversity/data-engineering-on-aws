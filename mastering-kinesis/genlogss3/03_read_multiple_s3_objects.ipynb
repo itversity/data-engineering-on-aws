{
 "cells": [
  {
   "cell_type": "markdown",
   "id": "fantastic-strike",
   "metadata": {},
   "source": [
    "## Read multiple s3 objects\n",
    "\n",
    "Let us understand how we can read multiple s3 objects into the collection.\n",
    "* Create client using appropriate profile.\n",
    "* Get 10 objects using the client.\n",
    "* Read the content of all 10 objects into collection"
   ]
  },
  {
   "cell_type": "code",
   "execution_count": null,
   "id": "second-basket",
   "metadata": {},
   "outputs": [],
   "source": [
    "import boto3"
   ]
  },
  {
   "cell_type": "code",
   "execution_count": null,
   "id": "therapeutic-sunglasses",
   "metadata": {},
   "outputs": [],
   "source": [
    "import os\n",
    "os.environ.setdefault('AWS_PROFILE', 'itvgenlogs')"
   ]
  },
  {
   "cell_type": "code",
   "execution_count": null,
   "id": "compatible-motion",
   "metadata": {},
   "outputs": [],
   "source": [
    "s3_client = boto3.client('s3')"
   ]
  },
  {
   "cell_type": "code",
   "execution_count": null,
   "id": "dietary-indiana",
   "metadata": {},
   "outputs": [],
   "source": [
    "s3_objects = s3_client.list_objects(\n",
    "    Bucket='itv-genlogs',\n",
    "    Prefix='logs/year',\n",
    "    MaxKeys=10\n",
    ")"
   ]
  },
  {
   "cell_type": "code",
   "execution_count": null,
   "id": "classified-threat",
   "metadata": {},
   "outputs": [],
   "source": [
    "s3_objects['Contents']"
   ]
  },
  {
   "cell_type": "code",
   "execution_count": null,
   "id": "cubic-journalist",
   "metadata": {},
   "outputs": [],
   "source": [
    "s3_object_keys = [s3_object['Key'] for s3_object in s3_objects['Contents']]"
   ]
  },
  {
   "cell_type": "code",
   "execution_count": null,
   "id": "public-vatican",
   "metadata": {},
   "outputs": [],
   "source": [
    "s3_object_keys = []\n",
    "\n",
    "for s3_object in s3_objects['Contents']:\n",
    "    s3_object_key = s3_object['Key']\n",
    "    s3_object_keys.append(s3_object_key)"
   ]
  },
  {
   "cell_type": "code",
   "execution_count": null,
   "id": "vulnerable-somalia",
   "metadata": {},
   "outputs": [],
   "source": [
    "s3_object_keys[:3]"
   ]
  },
  {
   "cell_type": "code",
   "execution_count": null,
   "id": "labeled-moses",
   "metadata": {},
   "outputs": [],
   "source": [
    "import boto3\n",
    "\n",
    "import os\n",
    "os.environ.setdefault('AWS_PROFILE', 'itvgenlogs')\n",
    "\n",
    "s3_client = boto3.client('s3')\n",
    "\n",
    "s3_objects = s3_client.list_objects(\n",
    "    Bucket='itv-genlogs',\n",
    "    Prefix='logs/year'\n",
    ")\n",
    "\n",
    "s3_object_key = s3_objects['Contents'][0]['Key']\n",
    "s3_object = s3_client.get_object(\n",
    "    Bucket='itv-genlogs',\n",
    "    Key=s3_object_key\n",
    ")\n",
    "\n",
    "file_contents = s3_object['Body'].read().decode('utf-8')\n",
    "# s3_object['Body'] is of type botocore.response.StreamingBody\n",
    "len(file_contents.splitlines())"
   ]
  },
  {
   "cell_type": "code",
   "execution_count": null,
   "id": "accredited-bookmark",
   "metadata": {},
   "outputs": [],
   "source": [
    "l1 = [1, 2, 3]\n",
    "l2 = [3, 4, 5]\n",
    "l1 + l2"
   ]
  },
  {
   "cell_type": "code",
   "execution_count": null,
   "id": "smoking-bradford",
   "metadata": {},
   "outputs": [],
   "source": [
    "data = []\n",
    "for s3_object_key in s3_object_keys:\n",
    "    s3_object_contents = s3_client. \\\n",
    "        get_object(\n",
    "            Bucket='itv-genlogs',\n",
    "            Key=s3_object_key\n",
    "        )['Body']. \\\n",
    "        read(). \\\n",
    "        decode('utf-8'). \\\n",
    "        splitlines()\n",
    "    data += s3_object_contents"
   ]
  },
  {
   "cell_type": "code",
   "execution_count": null,
   "id": "international-chapel",
   "metadata": {},
   "outputs": [],
   "source": [
    "len(data)"
   ]
  },
  {
   "cell_type": "code",
   "execution_count": null,
   "id": "polished-premium",
   "metadata": {},
   "outputs": [],
   "source": [
    "data[:3]"
   ]
  },
  {
   "cell_type": "code",
   "execution_count": null,
   "id": "guided-cheese",
   "metadata": {},
   "outputs": [],
   "source": [
    "# You can further process data and store in database or a file"
   ]
  }
 ],
 "metadata": {
  "kernelspec": {
   "display_name": "Python 3",
   "language": "python",
   "name": "python3"
  },
  "language_info": {
   "codemirror_mode": {
    "name": "ipython",
    "version": 3
   },
   "file_extension": ".py",
   "mimetype": "text/x-python",
   "name": "python",
   "nbconvert_exporter": "python",
   "pygments_lexer": "ipython3",
   "version": "3.7.9"
  }
 },
 "nbformat": 4,
 "nbformat_minor": 5
}
