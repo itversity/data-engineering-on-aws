{
 "cells": [
  {
   "cell_type": "markdown",
   "metadata": {},
   "source": [
    "* Sign up for AWS Account\n",
    "* Overview of AWS Management Console\n",
    "* Overview of AWS Services\n",
    "* Overview of AWS Billing\n",
    "* Understanding AWS Regions and Availability Zones\n"
   ]
  }
 ],
 "metadata": {
  "language_info": {
   "name": "python"
  },
  "orig_nbformat": 4
 },
 "nbformat": 4,
 "nbformat_minor": 2
}
