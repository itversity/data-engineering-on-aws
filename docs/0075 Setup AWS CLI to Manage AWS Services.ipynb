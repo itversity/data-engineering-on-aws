{
 "cells": [
  {
   "cell_type": "markdown",
   "metadata": {},
   "source": [
    "* Review Options to setup AWS CLI\n",
    "* Install AWS CLI on Windows\n",
    "* Install AWS CLI on Mac\n",
    "* Install AWS CLI on WSL Ubuntu Linux\n",
    "* Configure AWS CLI with Credentials\n",
    "* Overview of AWS CLI Profiles\n",
    "* Exercise and Solution - Configure AWS CLI using Profile\n",
    "  * Configure AWS CLI using Profile for user itvdev1\n",
    "  * Make sure to list the details of the profile using relevant command.\n",
    "  * Also, get the aws_access_key_id and aws_secret_access_key details of the profile using relevant commands."
   ]
  }
 ],
 "metadata": {
  "language_info": {
   "name": "python"
  },
  "orig_nbformat": 4
 },
 "nbformat": 4,
 "nbformat_minor": 2
}
