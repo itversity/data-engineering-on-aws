{
 "cells": [
  {
   "cell_type": "markdown",
   "metadata": {},
   "source": [
    "* Create AWS s3 Bucket using Management Console\n",
    "* Upload Files and Folders to AWS s3\n",
    "* List AWS s3 Buckets and Objects using AWS CLI\n",
    "* Review Important AWS CLI s3 Commands\n",
    "* Exercise and Solution - Manage Buckets and Objects in AWS s3"
   ]
  }
 ],
 "metadata": {
  "language_info": {
   "name": "python"
  },
  "orig_nbformat": 4
 },
 "nbformat": 4,
 "nbformat_minor": 2
}
