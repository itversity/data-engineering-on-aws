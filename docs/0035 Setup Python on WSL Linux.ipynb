{
 "cells": [
  {
   "cell_type": "markdown",
   "metadata": {},
   "source": [
    "* Validate Installed Python Version\n",
    "* Setup pip and venv on WSL Ubuntu\n",
    "* Installing Multiple Versions of Python\n",
    "* Exercise and Solution - Setup another version of Python"
   ]
  },
  {
   "cell_type": "markdown",
   "metadata": {},
   "source": [
    "* Validate Installed Python Version\n",
    "\n",
    "The WSL Ubuntu comes with default Python Version. We can validate by following below steps.\n",
    "\n",
    "1. Launch Ubuntu using WSL\n",
    "2. Run `python --version` or `python3 --version` command to confirm if the Python is installed or not. It will also confirm the version of Python installed."
   ]
  },
  {
   "cell_type": "markdown",
   "metadata": {},
   "source": [
    "* Setup pip and venv on WSL Ubuntu\n",
    "\n",
    "1. Validate if pip is available or not by using `python3 -m pip --version`.\n",
    "2. If the command is not working install pip using `sudo apt install python3-pip`. You have to run `sudo apt update` before installing new OS Packages on newly setup Ubuntu VM.\n",
    "3. Similarly, validate if venv is available or not using `python3 -m venv dummy`\n",
    "4. If the command doesn't work install venv using `sudo apt install python3-full`.\n",
    "\n",
    "You can clean up virtual environment using `rm -rf dummy` command."
   ]
  },
  {
   "cell_type": "markdown",
   "metadata": {},
   "source": [
    "* Installing Multiple Versions of Python\n",
    "\n",
    "As we might end up building multiple applications using different versions of Python, it is important to have at least 2 version of Python. In case, if you need a different version later, you can use this lecture as reference and take care of setting up multiple versions.\n",
    "\n",
    "1. Validate existing versions of Python\n",
    "2. Install at least 2 versions of Python (Python 3.10, Python 3.11)."
   ]
  },
  {
   "cell_type": "markdown",
   "metadata": {},
   "source": [
    "Exercise - Setup another version of Python\n",
    "\n",
    "Install Python3.9 on the Ubuntu Virtual Machine.\n",
    "1. Add PPA repo using `sudo add-apt-repository ppa:deadsnakes/ppa`. This might not work in latest versions of Ubuntu such as 22.11.\n",
    "2. Ensure to run `apt update`.\n",
    "3. Install `python3.9` and `python3.9-full` using relevant command. Also make sure `python3.9-pip` is working as per the expectations.\n",
    "4. Validate by launching Python3.9 CLI.\n",
    "5. Create Python Virtual Environment by name `p39-venv`.\n",
    "6. Activate Python Virtual Environment and install configparser using `pip`.\n",
    "7. Deactivate and delete the created Python Virtual Environment."
   ]
  },
  {
   "cell_type": "markdown",
   "metadata": {},
   "source": [
    "Solution - Setup another version of Python\n",
    "\n",
    "Follow the video lecture for the solution."
   ]
  }
 ],
 "metadata": {
  "language_info": {
   "name": "python"
  },
  "orig_nbformat": 4
 },
 "nbformat": 4,
 "nbformat_minor": 2
}
