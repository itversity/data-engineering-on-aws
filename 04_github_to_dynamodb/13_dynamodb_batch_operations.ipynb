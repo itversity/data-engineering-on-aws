{
 "cells": [
  {
   "cell_type": "markdown",
   "metadata": {},
   "source": [
    "## Dynamodb Batch Operations\n",
    "\n",
    "Let us understand how we can take care of batch inserts into Dynamodb table using batch writer.\n",
    "* We can use `batch_writer` to load the data to dynamodb table in batches.\n",
    "* It can be used for deletes as well."
   ]
  },
  {
   "cell_type": "code",
   "execution_count": 1,
   "metadata": {},
   "outputs": [],
   "source": [
    "import requests"
   ]
  },
  {
   "cell_type": "code",
   "execution_count": 2,
   "metadata": {},
   "outputs": [],
   "source": [
    "import json"
   ]
  },
  {
   "cell_type": "code",
   "execution_count": 3,
   "metadata": {},
   "outputs": [],
   "source": [
    "def list_repos(token, since='333255899'):\n",
    "    res = requests.get(\n",
    "        f'https://api.github.com/repositories?since={since}',\n",
    "        headers={'Authorization': f'token {token}'}\n",
    "    )\n",
    "    return json.loads(res.content.decode('utf-8'))"
   ]
  },
  {
   "cell_type": "code",
   "execution_count": 4,
   "metadata": {},
   "outputs": [],
   "source": [
    "def get_repo_details(owner, name, token):\n",
    "    repo_details = json.loads(requests.get(\n",
    "        f'https://api.github.com/repos/{owner}/{name}',\n",
    "        headers={'Authorization': f'token {token}'}\n",
    "    ).content.decode('utf-8'))\n",
    "    return repo_details"
   ]
  },
  {
   "cell_type": "code",
   "execution_count": 5,
   "metadata": {},
   "outputs": [],
   "source": [
    "def extract_repo_fields(repo_details):\n",
    "    repo_fields = {\n",
    "        'id': repo_details['id'],\n",
    "        'node_id': repo_details['node_id'],\n",
    "        'name': repo_details['name'],\n",
    "        'full_name': repo_details['full_name'],\n",
    "        'owner': {\n",
    "            'login': repo_details['owner']['login'],\n",
    "            'id': repo_details['owner']['id'],\n",
    "            'node_id': repo_details['owner']['node_id'],\n",
    "            'type': repo_details['owner']['type'],\n",
    "            'site_admin': repo_details['owner']['site_admin']\n",
    "        },\n",
    "        'html_url': repo_details['html_url'],\n",
    "        'description': repo_details['description'],\n",
    "        'fork': repo_details['fork'],\n",
    "        'created_at': repo_details['created_at']\n",
    "    }\n",
    "    return repo_fields"
   ]
  },
  {
   "cell_type": "code",
   "execution_count": 6,
   "metadata": {},
   "outputs": [],
   "source": [
    "def get_repos(repos, token):\n",
    "    repos_details = []\n",
    "    for repo in repos:\n",
    "        try:\n",
    "            owner = repo['owner']['login']\n",
    "            name = repo['name']\n",
    "            repo_details = get_repo_details(owner, name, token)\n",
    "            repo_fields = extract_repo_fields(repo_details)\n",
    "            repos_details.append(repo_fields)\n",
    "        except:\n",
    "            pass\n",
    "    return repos_details"
   ]
  },
  {
   "cell_type": "code",
   "execution_count": 7,
   "metadata": {},
   "outputs": [],
   "source": [
    "repos = list_repos('bd8a9c237cfd84a454a69ab4f68bc799d4d2e08f')"
   ]
  },
  {
   "cell_type": "code",
   "execution_count": 8,
   "metadata": {},
   "outputs": [],
   "source": [
    "repos_details = get_repos(repos, 'bd8a9c237cfd84a454a69ab4f68bc799d4d2e08f')"
   ]
  },
  {
   "cell_type": "code",
   "execution_count": 9,
   "metadata": {},
   "outputs": [],
   "source": [
    "import boto3"
   ]
  },
  {
   "cell_type": "code",
   "execution_count": 10,
   "metadata": {},
   "outputs": [],
   "source": [
    "import os"
   ]
  },
  {
   "cell_type": "code",
   "execution_count": 11,
   "metadata": {},
   "outputs": [
    {
     "data": {
      "text/plain": [
       "'itvgithub'"
      ]
     },
     "execution_count": 11,
     "metadata": {},
     "output_type": "execute_result"
    }
   ],
   "source": [
    "os.environ.setdefault('AWS_PROFILE', 'itvgithub')"
   ]
  },
  {
   "cell_type": "code",
   "execution_count": 12,
   "metadata": {},
   "outputs": [
    {
     "data": {
      "text/plain": [
       "'us-east-1'"
      ]
     },
     "execution_count": 12,
     "metadata": {},
     "output_type": "execute_result"
    }
   ],
   "source": [
    "os.environ.setdefault('AWS_DEFAULT_REGION', 'us-east-1')"
   ]
  },
  {
   "cell_type": "code",
   "execution_count": 13,
   "metadata": {},
   "outputs": [],
   "source": [
    "dynamodb = boto3.resource('dynamodb')"
   ]
  },
  {
   "cell_type": "code",
   "execution_count": 14,
   "metadata": {},
   "outputs": [],
   "source": [
    "ghrepos_table = dynamodb.Table('ghrepos')"
   ]
  },
  {
   "cell_type": "code",
   "execution_count": null,
   "metadata": {},
   "outputs": [],
   "source": [
    "ghrepos_table.delete_item?"
   ]
  },
  {
   "cell_type": "code",
   "execution_count": null,
   "metadata": {},
   "outputs": [],
   "source": [
    "%%time\n",
    "\n",
    "for repo in ghrepos_table.scan()['Items']:\n",
    "    print(f'Deleting entry with repo id {repo[\"id\"]}')\n",
    "    ghrepos_table.delete_item(Key={'id': repo['id']})"
   ]
  },
  {
   "cell_type": "code",
   "execution_count": 17,
   "metadata": {},
   "outputs": [],
   "source": [
    "batch_writer = ghrepos_table.batch_writer()"
   ]
  },
  {
   "cell_type": "code",
   "execution_count": 18,
   "metadata": {},
   "outputs": [
    {
     "data": {
      "text/plain": [
       "boto3.dynamodb.table.BatchWriter"
      ]
     },
     "execution_count": 18,
     "metadata": {},
     "output_type": "execute_result"
    }
   ],
   "source": [
    "type(batch_writer)"
   ]
  },
  {
   "cell_type": "code",
   "execution_count": 35,
   "metadata": {},
   "outputs": [
    {
     "name": "stdout",
     "output_type": "stream",
     "text": [
      "Help on method put_item in module boto3.dynamodb.table:\n",
      "\n",
      "put_item(Item) method of boto3.dynamodb.table.BatchWriter instance\n",
      "\n"
     ]
    }
   ],
   "source": [
    "help(batch_writer.put_item)"
   ]
  },
  {
   "cell_type": "code",
   "execution_count": 36,
   "metadata": {},
   "outputs": [],
   "source": [
    "def load_repos(repos_details, ghrepos_table, batch_size=50):\n",
    "    with ghrepos_table.batch_writer() as batch:\n",
    "    \n",
    "        repos_count = len(repos_details)\n",
    "        for i in range(0, repos_count, batch_size):\n",
    "            print(f'Processing from {i} to {i+batch_size}')\n",
    "            for repo in repos_details[i:i+batch_size]:\n",
    "                batch.put_item(Item=repo)  "
   ]
  },
  {
   "cell_type": "code",
   "execution_count": 37,
   "metadata": {},
   "outputs": [
    {
     "data": {
      "text/plain": [
       "[0, 50]"
      ]
     },
     "execution_count": 37,
     "metadata": {},
     "output_type": "execute_result"
    }
   ],
   "source": [
    "list(range(0, 100, 50))"
   ]
  },
  {
   "cell_type": "code",
   "execution_count": 38,
   "metadata": {},
   "outputs": [
    {
     "name": "stdout",
     "output_type": "stream",
     "text": [
      "Processing from 0 to 50\n",
      "Processing from 50 to 100\n",
      "CPU times: user 58.4 ms, sys: 3.36 ms, total: 61.8 ms\n",
      "Wall time: 3.08 s\n"
     ]
    }
   ],
   "source": [
    "%%time\n",
    "load_repos(repos_details, ghrepos_table)"
   ]
  },
  {
   "cell_type": "code",
   "execution_count": 39,
   "metadata": {},
   "outputs": [],
   "source": [
    "rs = ghrepos_table.scan()"
   ]
  },
  {
   "cell_type": "code",
   "execution_count": 40,
   "metadata": {},
   "outputs": [
    {
     "data": {
      "text/plain": [
       "96"
      ]
     },
     "execution_count": 40,
     "metadata": {},
     "output_type": "execute_result"
    }
   ],
   "source": [
    "len(rs['Items'])"
   ]
  },
  {
   "cell_type": "code",
   "execution_count": 41,
   "metadata": {},
   "outputs": [
    {
     "data": {
      "text/plain": [
       "{'created_at': '2021-01-27T00:28:37Z',\n",
       " 'owner': {'site_admin': False,\n",
       "  'id': Decimal('57299679'),\n",
       "  'login': 'blorin948',\n",
       "  'type': 'User',\n",
       "  'node_id': 'MDQ6VXNlcjU3Mjk5Njc5'},\n",
       " 'full_name': 'blorin948/triche',\n",
       " 'html_url': 'https://github.com/blorin948/triche',\n",
       " 'description': None,\n",
       " 'id': Decimal('333255974'),\n",
       " 'fork': False,\n",
       " 'name': 'triche',\n",
       " 'node_id': 'MDEwOlJlcG9zaXRvcnkzMzMyNTU5NzQ='}"
      ]
     },
     "execution_count": 41,
     "metadata": {},
     "output_type": "execute_result"
    }
   ],
   "source": [
    "rs['Items'][0]"
   ]
  },
  {
   "cell_type": "code",
   "execution_count": 42,
   "metadata": {},
   "outputs": [],
   "source": [
    "def delete_repos(repos_details, ghrepos_table, batch_size=50):\n",
    "    with ghrepos_table.batch_writer() as batch:\n",
    "    \n",
    "        repos_count = len(repos_details)\n",
    "        for i in range(0, repos_count, batch_size):\n",
    "            print(f'Processing from {i} to {i+batch_size}')\n",
    "            for repo in repos_details[i:i+batch_size]:\n",
    "                key = {'id': repo['id']}\n",
    "                batch.delete_item(Key=key)  "
   ]
  },
  {
   "cell_type": "code",
   "execution_count": 43,
   "metadata": {},
   "outputs": [
    {
     "name": "stdout",
     "output_type": "stream",
     "text": [
      "Processing from 0 to 50\n",
      "Processing from 50 to 100\n",
      "CPU times: user 22.5 ms, sys: 2.01 ms, total: 24.5 ms\n",
      "Wall time: 1.07 s\n"
     ]
    }
   ],
   "source": [
    "%%time\n",
    "delete_repos(rs['Items'], ghrepos_table)"
   ]
  },
  {
   "cell_type": "code",
   "execution_count": 44,
   "metadata": {},
   "outputs": [
    {
     "data": {
      "text/plain": [
       "{'Items': [],\n",
       " 'Count': 0,\n",
       " 'ScannedCount': 0,\n",
       " 'ResponseMetadata': {'RequestId': '2DTSOOIG4MA04FBRKD735HQ5M7VV4KQNSO5AEMVJF66Q9ASUAAJG',\n",
       "  'HTTPStatusCode': 200,\n",
       "  'HTTPHeaders': {'server': 'Server',\n",
       "   'date': 'Sun, 31 Jan 2021 23:27:33 GMT',\n",
       "   'content-type': 'application/x-amz-json-1.0',\n",
       "   'content-length': '39',\n",
       "   'connection': 'keep-alive',\n",
       "   'x-amzn-requestid': '2DTSOOIG4MA04FBRKD735HQ5M7VV4KQNSO5AEMVJF66Q9ASUAAJG',\n",
       "   'x-amz-crc32': '3413411624'},\n",
       "  'RetryAttempts': 0}}"
      ]
     },
     "execution_count": 44,
     "metadata": {},
     "output_type": "execute_result"
    }
   ],
   "source": [
    "ghrepos_table.scan()"
   ]
  },
  {
   "cell_type": "code",
   "execution_count": null,
   "metadata": {},
   "outputs": [],
   "source": []
  }
 ],
 "metadata": {
  "kernelspec": {
   "display_name": "Python 3",
   "language": "python",
   "name": "python3"
  },
  "language_info": {
   "codemirror_mode": {
    "name": "ipython",
    "version": 3
   },
   "file_extension": ".py",
   "mimetype": "text/x-python",
   "name": "python",
   "nbconvert_exporter": "python",
   "pygments_lexer": "ipython3",
   "version": "3.7.11"
  }
 },
 "nbformat": 4,
 "nbformat_minor": 4
}
