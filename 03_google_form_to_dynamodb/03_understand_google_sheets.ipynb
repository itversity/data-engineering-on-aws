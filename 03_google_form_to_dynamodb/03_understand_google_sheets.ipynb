{
 "cells": [
  {
   "cell_type": "markdown",
   "metadata": {},
   "source": [
    "## Understanding Google Sheets\n",
    "\n",
    "Let us spend some time to understand some of the metadata of Google Sheet.\n",
    "* Every Google sheet will have name or title as well as id.\n",
    "* Google sheet id is unique.\n",
    "* The main document is also known as Spreadsheet and it can have more than one sheet or tab.\n",
    "* The names of the sheets with in the main sheet will be at bottom. They have to be unique.\n",
    "* Each sheet with in main sheet will contain cells, rows and columns. It is like a matrix.\n",
    "* Cells can be referred using the combination of column id and row id such as A1, B2, C1 etc.\n",
    "* We can access the range of cells either by using row or column or both.\n",
    "  * A1:A10 (all the cells in column A from row 1 to row 10)\n",
    "  * A1:D1 (all the cells in row 1 from column A to column D)\n",
    "  * A1:D4 (all the cells from A1 to A4, B1 to B4, C1 to C4 and then D1 to D4)."
   ]
  }
 ],
 "metadata": {
  "kernelspec": {
   "display_name": "Python 3",
   "language": "python",
   "name": "python3"
  },
  "language_info": {
   "codemirror_mode": {
    "name": "ipython",
    "version": 3
   },
   "file_extension": ".py",
   "mimetype": "text/x-python",
   "name": "python",
   "nbconvert_exporter": "python",
   "pygments_lexer": "ipython3",
   "version": "3.7.9"
  }
 },
 "nbformat": 4,
 "nbformat_minor": 4
}
