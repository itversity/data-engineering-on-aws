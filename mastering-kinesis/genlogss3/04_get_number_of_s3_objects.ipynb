{
 "cells": [
  {
   "cell_type": "markdown",
   "id": "polyphonic-tiffany",
   "metadata": {},
   "source": [
    "## Get number of s3 objects\n",
    "\n",
    "Let us go through the details about how we can get number of s3 objects. We will understand the relevance of **Marker** to paginate `list_objects` output using boto3.\n",
    "\n",
    "* One of the way to get s3 object metadata from a given bucket is to use `list_objects`.\n",
    "* However, `list_objects` gets metadata only for 1000 objects at max.\n",
    "* We need to paginate using `Marker` and iterate until we get details about all the objects.\n",
    "\n",
    "Here are the steps we can follow to get the number of s3 objects with in a bucket.\n",
    "* Create s3 client with appropriate profile.\n",
    "* Invoke list_objects incrementally using `Marker` until you get details about all the objects.\n",
    "* Get number of elements in the `Contents` and add it to object count. We can break the loop when the size of `Contents` list is less than 1000 or when `Contents` does not exists as part of the response."
   ]
  },
  {
   "cell_type": "code",
   "execution_count": 1,
   "id": "sealed-germany",
   "metadata": {},
   "outputs": [],
   "source": [
    "import boto3"
   ]
  },
  {
   "cell_type": "code",
   "execution_count": 2,
   "id": "intellectual-regular",
   "metadata": {},
   "outputs": [
    {
     "data": {
      "text/plain": [
       "'itvgenlogs'"
      ]
     },
     "execution_count": 2,
     "metadata": {},
     "output_type": "execute_result"
    }
   ],
   "source": [
    "import os\n",
    "os.environ.setdefault('AWS_PROFILE', 'itvgenlogs')"
   ]
  },
  {
   "cell_type": "code",
   "execution_count": 3,
   "id": "polished-skill",
   "metadata": {},
   "outputs": [],
   "source": [
    "s3_client = boto3.client('s3')"
   ]
  },
  {
   "cell_type": "code",
   "execution_count": 4,
   "id": "working-there",
   "metadata": {},
   "outputs": [],
   "source": [
    "s3_objects = s3_client.list_objects(\n",
    "    Bucket='itv-genlogs',\n",
    "    Prefix='logs/year'\n",
    ")"
   ]
  },
  {
   "cell_type": "code",
   "execution_count": 5,
   "id": "later-database",
   "metadata": {},
   "outputs": [
    {
     "data": {
      "text/plain": [
       "dict_keys(['ResponseMetadata', 'IsTruncated', 'Marker', 'Contents', 'Name', 'Prefix', 'MaxKeys', 'EncodingType'])"
      ]
     },
     "execution_count": 5,
     "metadata": {},
     "output_type": "execute_result"
    }
   ],
   "source": [
    "s3_objects.keys()"
   ]
  },
  {
   "cell_type": "code",
   "execution_count": 6,
   "id": "built-dylan",
   "metadata": {},
   "outputs": [
    {
     "data": {
      "text/plain": [
       "''"
      ]
     },
     "execution_count": 6,
     "metadata": {},
     "output_type": "execute_result"
    }
   ],
   "source": [
    "s3_objects['Marker']"
   ]
  },
  {
   "cell_type": "code",
   "execution_count": 7,
   "id": "alpine-clear",
   "metadata": {},
   "outputs": [
    {
     "data": {
      "text/plain": [
       "1000"
      ]
     },
     "execution_count": 7,
     "metadata": {},
     "output_type": "execute_result"
    }
   ],
   "source": [
    "s3_objects['MaxKeys']"
   ]
  },
  {
   "cell_type": "code",
   "execution_count": 8,
   "id": "dried-aircraft",
   "metadata": {},
   "outputs": [
    {
     "data": {
      "text/plain": [
       "1000"
      ]
     },
     "execution_count": 8,
     "metadata": {},
     "output_type": "execute_result"
    }
   ],
   "source": [
    "len(s3_objects['Contents'])"
   ]
  },
  {
   "cell_type": "code",
   "execution_count": 9,
   "id": "offshore-forwarding",
   "metadata": {},
   "outputs": [
    {
     "data": {
      "text/plain": [
       "'logs/year=2021/month=01/day=20/gen_logs_s3-3-2021-01-20-21-26-01-e132440e-9f75-4c02-a94d-8c6d09f2c087'"
      ]
     },
     "execution_count": 9,
     "metadata": {},
     "output_type": "execute_result"
    }
   ],
   "source": [
    "s3_objects['Contents'][-1]['Key']"
   ]
  },
  {
   "cell_type": "code",
   "execution_count": 10,
   "id": "broken-recruitment",
   "metadata": {},
   "outputs": [],
   "source": [
    "marker = s3_objects['Contents'][-1]['Key']"
   ]
  },
  {
   "cell_type": "code",
   "execution_count": 11,
   "id": "funded-vision",
   "metadata": {},
   "outputs": [],
   "source": [
    "s3_objects = s3_client.list_objects(\n",
    "    Bucket='itv-genlogs',\n",
    "    Prefix='logs/year',\n",
    "    Marker=marker\n",
    ")"
   ]
  },
  {
   "cell_type": "code",
   "execution_count": 12,
   "id": "acceptable-multimedia",
   "metadata": {},
   "outputs": [
    {
     "data": {
      "text/plain": [
       "'logs/year=2021/month=01/day=20/gen_logs_s3-3-2021-01-20-21-26-01-e132440e-9f75-4c02-a94d-8c6d09f2c087'"
      ]
     },
     "execution_count": 12,
     "metadata": {},
     "output_type": "execute_result"
    }
   ],
   "source": [
    "s3_objects['Marker']"
   ]
  },
  {
   "cell_type": "code",
   "execution_count": 14,
   "id": "suspended-heritage",
   "metadata": {},
   "outputs": [
    {
     "data": {
      "text/plain": [
       "380"
      ]
     },
     "execution_count": 14,
     "metadata": {},
     "output_type": "execute_result"
    }
   ],
   "source": [
    "len(s3_objects['Contents'])"
   ]
  },
  {
   "cell_type": "code",
   "execution_count": 21,
   "id": "single-progressive",
   "metadata": {},
   "outputs": [
    {
     "name": "stdout",
     "output_type": "stream",
     "text": [
      "logs/year=2021/month=01/day=20/gen_logs_s3-3-2021-01-20-03-50-42-3dee3808-1a7c-4d75-b435-b97d97c04d17\n",
      "logs/year=2021/month=01/day=20/gen_logs_s3-3-2021-01-20-08-13-00-2ac79807-47d1-4d43-8929-9cd492e1be0d\n",
      "logs/year=2021/month=01/day=20/gen_logs_s3-3-2021-01-20-12-40-24-359c1ed3-ed6e-4465-a5ac-cbbe04ea6fb6\n",
      "logs/year=2021/month=01/day=20/gen_logs_s3-3-2021-01-20-16-57-37-37df71b3-9571-46b5-afa3-723d42323fd4\n",
      "logs/year=2021/month=01/day=20/gen_logs_s3-3-2021-01-20-21-26-01-e132440e-9f75-4c02-a94d-8c6d09f2c087\n",
      "logs/year=2021/month=01/day=21/gen_logs_s3-3-2021-01-21-01-52-25-8585ddba-c5e1-4b0d-8491-7c730dd09f6c\n",
      "logs/year=2021/month=01/day=21/gen_logs_s3-3-2021-01-21-06-15-22-4d987e84-d7c2-45a4-abf1-0c0b3d646e1c\n"
     ]
    }
   ],
   "source": [
    "marker = ''\n",
    "object_count = 0\n",
    "while True:\n",
    "    s3_objects = s3_client.list_objects(\n",
    "        Bucket='itv-genlogs',\n",
    "        Prefix='logs/year',\n",
    "        Marker=marker,\n",
    "        MaxKeys=200\n",
    "    ).get('Contents')\n",
    "    if not s3_objects:\n",
    "        break\n",
    "    object_count += len(s3_objects)\n",
    "    marker = s3_objects[-1]['Key']\n",
    "    print(marker)"
   ]
  },
  {
   "cell_type": "code",
   "execution_count": 22,
   "id": "narrow-smith",
   "metadata": {},
   "outputs": [
    {
     "data": {
      "text/plain": [
       "1380"
      ]
     },
     "execution_count": 22,
     "metadata": {},
     "output_type": "execute_result"
    }
   ],
   "source": [
    "object_count"
   ]
  },
  {
   "cell_type": "code",
   "execution_count": null,
   "id": "proper-inspection",
   "metadata": {},
   "outputs": [],
   "source": []
  }
 ],
 "metadata": {
  "kernelspec": {
   "display_name": "Python 3",
   "language": "python",
   "name": "python3"
  },
  "language_info": {
   "codemirror_mode": {
    "name": "ipython",
    "version": 3
   },
   "file_extension": ".py",
   "mimetype": "text/x-python",
   "name": "python",
   "nbconvert_exporter": "python",
   "pygments_lexer": "ipython3",
   "version": "3.7.9"
  }
 },
 "nbformat": 4,
 "nbformat_minor": 5
}
