{
 "cells": [
  {
   "cell_type": "markdown",
   "metadata": {},
   "source": [
    "* Overview of Boto3 and Dynamodb Integration\n",
    "* Managing Dynamodb Tables using Boto3\n",
    "* Dynamodb CRUD Operations using Boto3\n",
    "* Overview of Bulk Insert using Boto3\n",
    "* Difference between Scan and Get Item\n",
    "* Exercise and Solution - Manage Dynamodb Tables and Data using Boto3\n"
   ]
  }
 ],
 "metadata": {
  "language_info": {
   "name": "python"
  },
  "orig_nbformat": 4
 },
 "nbformat": 4,
 "nbformat_minor": 2
}
