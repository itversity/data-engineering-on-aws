{
 "cells": [
  {
   "cell_type": "code",
   "execution_count": null,
   "metadata": {},
   "outputs": [],
   "source": [
    "import boto3"
   ]
  },
  {
   "cell_type": "code",
   "execution_count": null,
   "metadata": {},
   "outputs": [],
   "source": [
    "import os\n",
    "os.environ.setdefault('AWS_PROFILE', 'itvgenlogs')"
   ]
  },
  {
   "cell_type": "code",
   "execution_count": null,
   "metadata": {},
   "outputs": [],
   "source": [
    "s3_client = boto3.client('s3')"
   ]
  },
  {
   "cell_type": "code",
   "execution_count": 1,
   "metadata": {},
   "outputs": [],
   "source": [
    "def get_marker(file_name):\n",
    "    marker_file_read = open('s3_marker.txt', 'r')\n",
    "    marker = marker_file_read.read()\n",
    "    return marker"
   ]
  },
  {
   "cell_type": "code",
   "execution_count": 2,
   "metadata": {},
   "outputs": [],
   "source": [
    "def get_object_keys(Bucket, Prefix, Marker, MaxKeys):\n",
    "    s3_objects = s3_client.list_objects(\n",
    "        Bucket=Bucket,\n",
    "        Prefix=Prefix,\n",
    "        Marker=Marker,\n",
    "        MaxKeys=MaxKeys\n",
    "    ).get('Contents')\n",
    "    if not s3_objects:\n",
    "        return None\n",
    "    s3_object_keys = [s3_object['Key'] for s3_object in s3_objects]   \n",
    "    return s3_object_keys"
   ]
  },
  {
   "cell_type": "code",
   "execution_count": null,
   "metadata": {},
   "outputs": [],
   "source": [
    "def get_data(s3_object_keys):\n",
    "    data = []\n",
    "    for s3_object_key in s3_object_keys:\n",
    "        s3_object_contents = s3_client. \\\n",
    "            get_object(\n",
    "                Bucket='itv-genlogs',\n",
    "                Key=s3_object_key\n",
    "            )['Body']. \\\n",
    "            read(). \\\n",
    "            decode('utf-8'). \\\n",
    "            splitlines()\n",
    "        data += s3_object_contents\n",
    "    return data"
   ]
  },
  {
   "cell_type": "code",
   "execution_count": null,
   "metadata": {},
   "outputs": [],
   "source": [
    "def checkpoint(s3_object_keys):\n",
    "    marker = s3_object_keys[-1]\n",
    "    marker_file_write = open('s3_marker.txt', 'w')\n",
    "    marker_file_write.write(marker)\n",
    "    marker_file_write.close()\n",
    "    return marker"
   ]
  },
  {
   "cell_type": "code",
   "execution_count": null,
   "metadata": {},
   "outputs": [],
   "source": [
    "while True:\n",
    "    marker = get_marker(file_name)\n",
    "\n",
    "    s3_object_keys = get_object_keys(\n",
    "        Bucket='itv-genlogs',\n",
    "        Prefix='logs/year',\n",
    "        Marker=marker,\n",
    "        MaxKeys=10\n",
    "    )\n",
    "    if not s3_object_keys: break\n",
    "    \n",
    "    data = get_data(s3_object_keys)\n",
    "\n",
    "    # Process data further and save to target\n",
    "\n",
    "    marker = checkpoint(s3_object_keys)\n",
    " \n",
    "    print(marker)"
   ]
  },
  {
   "cell_type": "code",
   "execution_count": null,
   "metadata": {},
   "outputs": [],
   "source": []
  }
 ],
 "metadata": {
  "kernelspec": {
   "display_name": "Python 3",
   "language": "python",
   "name": "python3"
  },
  "language_info": {
   "codemirror_mode": {
    "name": "ipython",
    "version": 3
   },
   "file_extension": ".py",
   "mimetype": "text/x-python",
   "name": "python",
   "nbconvert_exporter": "python",
   "pygments_lexer": "ipython3",
   "version": "3.7.11"
  }
 },
 "nbformat": 4,
 "nbformat_minor": 5
}
