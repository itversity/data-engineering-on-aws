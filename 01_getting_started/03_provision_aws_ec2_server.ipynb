{
 "cells": [
  {
   "cell_type": "markdown",
   "metadata": {},
   "source": [
    "## Provision AWS EC2 Server\n",
    "\n",
    "Let us go ahead and provision AWS EC2 Server on which we will be setting up Jupyter based environment to learn technologies like Glue, Athena, Kinesis in interactive fashion.\n",
    "\n",
    "* Make sure to have Key Pair created. You can follow [this video](https://www.youtube.com/watch?v=XFbW-l3QPTs) to create Key Pair.\n",
    "* Choose Amazon Linux AMI for the bastion server.\n",
    "* Configure required amount of storage.\n",
    "* Make sure to choose IAM Role **Administrator** which is created earlier.\n",
    "* Make sure to configure Security Group as well as Key Pair. I will create new Secuity Group and use existing key pair.\n",
    "* Assign Elastic ip and also open port number 8888 as part of the security group so that we can connect to Jupyter based environment to practice."
   ]
  },
  {
   "cell_type": "code",
   "execution_count": null,
   "metadata": {},
   "outputs": [],
   "source": []
  }
 ],
 "metadata": {
  "kernelspec": {
   "display_name": "Python 3",
   "language": "python",
   "name": "python3"
  },
  "language_info": {
   "codemirror_mode": {
    "name": "ipython",
    "version": 3
   },
   "file_extension": ".py",
   "mimetype": "text/x-python",
   "name": "python",
   "nbconvert_exporter": "python",
   "pygments_lexer": "ipython3",
   "version": "3.7.9"
  }
 },
 "nbformat": 4,
 "nbformat_minor": 4
}
