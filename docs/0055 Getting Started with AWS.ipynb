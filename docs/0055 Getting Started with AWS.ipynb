{
 "cells": [
  {
   "cell_type": "markdown",
   "metadata": {},
   "source": [
    "* Sign up for AWS Account\n",
    "* Overview of AWS Management Console\n",
    "* Overview of AWS Services\n",
    "* Overview of AWS Billing\n",
    "* Understanding AWS Regions and Availability Zones\n",
    "* Review VPC and Setup AWS S3 Bucket\n",
    "* Exercise and Solution - Create AWS S3 Bucket"
   ]
  },
  {
   "cell_type": "markdown",
   "metadata": {},
   "source": [
    "* Sign up for AWS Account\n",
    "\n",
    "Here are the steps to setup AWS Account.\n",
    "1. Make sure to have credit card ready as it requires credit card to sign up for AWS.\n",
    "2. Follow the instructions and complete the sign up process."
   ]
  },
  {
   "cell_type": "markdown",
   "metadata": {},
   "source": [
    "* Overview of AWS Management Console\n",
    "\n",
    "Here is an overview of AWS Management Console.\n",
    "1. Go to `https://aws.amazon.com` and login using email id and password.\n",
    "2. You will be logging in using root account.\n",
    "3. You can manage all the services on AWS using AWS Management Console by logging in using root account"
   ]
  },
  {
   "cell_type": "markdown",
   "metadata": {},
   "source": [
    "* Overview of AWS Services"
   ]
  },
  {
   "cell_type": "markdown",
   "metadata": {},
   "source": [
    "* Overview of AWS Billing"
   ]
  },
  {
   "cell_type": "markdown",
   "metadata": {},
   "source": [
    "* Understanding AWS Regions and Availability Zones"
   ]
  },
  {
   "cell_type": "markdown",
   "metadata": {},
   "source": [
    "* Review VPC and Setup AWS S3 Bucket"
   ]
  },
  {
   "cell_type": "markdown",
   "metadata": {},
   "source": [
    "* Exercise - Create AWS S3 Bucket\n",
    "\n",
    "Navigate s3 using AWS Web Console and create a bucket by name `prefix-demo`.\n",
    "1. Go to AWS Management Console and Navigate to s3 Console.\n",
    "2. Create bucket by name `prefix-demo`. Make sure replace prefix with some initials so that we give unique for the bucket."
   ]
  },
  {
   "cell_type": "markdown",
   "metadata": {},
   "source": [
    "* Solution - Create AWS S3 Bucket\n",
    "\n",
    "Go to AWS Management Console and create bucket by name similar to `itv-demo`. Try to make it as unique as possible."
   ]
  }
 ],
 "metadata": {
  "language_info": {
   "name": "python"
  },
  "orig_nbformat": 4
 },
 "nbformat": 4,
 "nbformat_minor": 2
}
