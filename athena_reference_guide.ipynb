{
 "cells": [
  {
   "cell_type": "markdown",
   "id": "2b62a5fc-f32b-49da-83a5-6076f418a93f",
   "metadata": {},
   "source": [
    "* Get help and list Athena databases"
   ]
  },
  {
   "cell_type": "code",
   "execution_count": null,
   "id": "5f803f0d-6404-4159-8a75-e7d190ed41b5",
   "metadata": {},
   "outputs": [],
   "source": [
    "!aws athena help"
   ]
  },
  {
   "cell_type": "code",
   "execution_count": null,
   "id": "44c6666d-be6b-41b1-b2e0-f78f81bfcd01",
   "metadata": {},
   "outputs": [],
   "source": [
    "!aws athena list-databases help"
   ]
  },
  {
   "cell_type": "code",
   "execution_count": null,
   "id": "45d0c122-c404-4302-b196-2fa633f673cf",
   "metadata": {},
   "outputs": [],
   "source": [
    "!aws athena list-databases \\\n",
    "    --catalog-name AwsDataCatalog \\\n",
    "    --region us-east-1"
   ]
  },
  {
   "cell_type": "markdown",
   "id": "f8c0580c-1907-4512-9bac-929af1989e76",
   "metadata": {},
   "source": [
    "* Managing Athena Workgroups using AWS CLI"
   ]
  },
  {
   "cell_type": "code",
   "execution_count": null,
   "id": "4da09b67-b814-4572-ae31-b0dee8fb31b2",
   "metadata": {},
   "outputs": [],
   "source": [
    "!aws athena list-work-groups \\\n",
    "    --region us-east-1"
   ]
  },
  {
   "cell_type": "code",
   "execution_count": null,
   "id": "7aa2b141-161a-4662-a976-e44e0ae783ef",
   "metadata": {},
   "outputs": [],
   "source": [
    "!aws athena get-work-group \\\n",
    "    --work-group primary \\\n",
    "    --region us-east-1"
   ]
  },
  {
   "cell_type": "markdown",
   "id": "9132ae6a-0108-4470-8cc1-7a4458cd579d",
   "metadata": {},
   "source": [
    "* Run Athena Queries using AWS CLI"
   ]
  },
  {
   "cell_type": "code",
   "execution_count": null,
   "id": "3fd13660-dbaa-4f2b-9c66-abbff4d21a78",
   "metadata": {},
   "outputs": [],
   "source": [
    "!aws athena start-query-execution help"
   ]
  },
  {
   "cell_type": "code",
   "execution_count": null,
   "id": "32973cb1-2eda-42b6-a8d8-220fd80aa970",
   "metadata": {},
   "outputs": [],
   "source": [
    "!aws athena start-query-execution \\\n",
    "    --query-string \"SELECT count(*) FROM myretail.orders\" \\\n",
    "    --region us-east-1\n",
    "# Capture query execution id"
   ]
  },
  {
   "cell_type": "code",
   "execution_count": null,
   "id": "f35374e8-71ca-490d-bda7-1f4cf8c6ec88",
   "metadata": {},
   "outputs": [],
   "source": [
    "!aws athena get-query-execution help"
   ]
  },
  {
   "cell_type": "code",
   "execution_count": null,
   "id": "46e1f3d5-847f-4648-85f2-e01c3baa64bc",
   "metadata": {},
   "outputs": [],
   "source": [
    "!aws athena get-query-execution \\\n",
    "    --query-execution-id 4631659e-e58d-49b8-b83e-8d137719d72e \\\n",
    "    --region us-east-1"
   ]
  },
  {
   "cell_type": "markdown",
   "id": "606daa09-f004-40bc-853c-16d85e94a5d9",
   "metadata": {},
   "source": [
    "* Get Athena Table Metadata using AWS CLI"
   ]
  },
  {
   "cell_type": "code",
   "execution_count": null,
   "id": "b5e8b35d-ee68-4c53-b1c3-7b2ddb12cd2c",
   "metadata": {},
   "outputs": [],
   "source": [
    "!aws athena list-table-metadata help"
   ]
  },
  {
   "cell_type": "code",
   "execution_count": null,
   "id": "2127edb6-72fa-4254-8135-d7a7df36dbe9",
   "metadata": {},
   "outputs": [],
   "source": [
    "!aws athena list-table-metadata \\\n",
    "    --catalog-name AwsDataCatalog \\\n",
    "    --database-name myretail \\\n",
    "    --region us-east-1"
   ]
  },
  {
   "cell_type": "code",
   "execution_count": null,
   "id": "f64b06e5-eda6-4e6e-b42d-d832dc50852b",
   "metadata": {},
   "outputs": [],
   "source": [
    "!aws athena get-table-metadata help"
   ]
  },
  {
   "cell_type": "code",
   "execution_count": null,
   "id": "9e86e12e-68c1-40b9-a8b1-d14f3631f9ae",
   "metadata": {},
   "outputs": [],
   "source": [
    "!aws athena get-table-metadata \\\n",
    "    --catalog-name AwsDataCatalog \\\n",
    "    --database-name myretail \\\n",
    "    --table-name orders \\\n",
    "    --region us-east-1"
   ]
  },
  {
   "cell_type": "code",
   "execution_count": null,
   "id": "dbc2b8f4-5dfa-4b3f-b6bf-22c18e6c52bf",
   "metadata": {},
   "outputs": [],
   "source": [
    "!aws athena start-query-execution help"
   ]
  },
  {
   "cell_type": "code",
   "execution_count": null,
   "id": "db4f4ec3-830e-468b-93a8-415cb182ba3b",
   "metadata": {},
   "outputs": [],
   "source": [
    "!aws athena start-query-execution \\\n",
    "    --query-string \"SELECT count(*) FROM myretail.orders\" \\\n",
    "    --result-configuration OutputLocation=s3://itv-retail/myretail/order_count_awscli \\\n",
    "    --region us-east-1"
   ]
  },
  {
   "cell_type": "code",
   "execution_count": null,
   "id": "f8f0db59-cd88-48e2-9bd2-9d39e5771943",
   "metadata": {},
   "outputs": [],
   "source": [
    "!aws athena get-query-execution \\\n",
    "    --query-execution-id e303ff4d-bb46-4018-9c78-dc9bff90f718 \\\n",
    "    --region us-east-1"
   ]
  },
  {
   "cell_type": "code",
   "execution_count": null,
   "id": "3a215ca1-5e0b-4da8-a7b8-e723f5267130",
   "metadata": {},
   "outputs": [],
   "source": [
    "!aws athena start-query-execution \\\n",
    "    --query-string \"DROP TABLE myretail.order_items\" \\\n",
    "    --region us-east-1"
   ]
  },
  {
   "cell_type": "code",
   "execution_count": null,
   "id": "40271928-70f1-4d8e-8b1e-9f176246eb34",
   "metadata": {},
   "outputs": [],
   "source": [
    "!aws athena get-query-execution \\\n",
    "    --query-execution-id 34a18dde-b71a-4ea3-847f-cb10bc9b5c5a \\\n",
    "    --region us-east-1"
   ]
  },
  {
   "cell_type": "code",
   "execution_count": null,
   "id": "d0ebdf6d-073e-4846-9480-530a6ea6a3da",
   "metadata": {},
   "outputs": [],
   "source": [
    "!aws s3 ls s3://itv-retail/myretail/order_items"
   ]
  },
  {
   "cell_type": "code",
   "execution_count": null,
   "id": "9d862241-f9da-4357-8d43-d260c14e8f52",
   "metadata": {},
   "outputs": [],
   "source": [
    "!aws s3 rm s3://itv-retail/myretail/order_items/ --recursive"
   ]
  },
  {
   "cell_type": "code",
   "execution_count": null,
   "id": "b539cae1-cc80-4230-97a3-d8d92ff5fbe1",
   "metadata": {},
   "outputs": [],
   "source": [
    "!aws s3 ls s3://itv-retail/myretail/"
   ]
  },
  {
   "cell_type": "code",
   "execution_count": 28,
   "id": "020c511b-ebc7-4874-af0c-a168a5793529",
   "metadata": {},
   "outputs": [
    {
     "name": "stdout",
     "output_type": "stream",
     "text": [
      "{\n",
      "    \"QueryExecutionId\": \"9eb94e4e-1613-43e7-a933-00453b169cf1\"\n",
      "}\n"
     ]
    }
   ],
   "source": [
    "!aws athena start-query-execution \\\n",
    "    --query-string \"CREATE TABLE myretail.order_items \\\n",
    "        WITH ( \\\n",
    "            format = 'TEXTFILE', \\\n",
    "            external_location = 's3://itv-retail/myretail/order_items/', \\\n",
    "            field_delimiter = ',' \\\n",
    "        ) \\\n",
    "        AS \\\n",
    "        SELECT * FROM retail_db.order_items\" \\\n",
    "    --region us-east-1"
   ]
  },
  {
   "cell_type": "code",
   "execution_count": 29,
   "id": "f17cf06c-d4da-497d-bafa-bb386673e092",
   "metadata": {},
   "outputs": [
    {
     "name": "stdout",
     "output_type": "stream",
     "text": [
      "{\n",
      "    \"QueryExecution\": {\n",
      "        \"QueryExecutionId\": \"9eb94e4e-1613-43e7-a933-00453b169cf1\",\n",
      "        \"Query\": \"CREATE TABLE myretail.order_items          WITH (              format = 'TEXTFILE',              external_location = 's3://itv-retail/myretail/order_items/',              field_delimiter = ','          )          AS          SELECT * FROM retail_db.order_items\",\n",
      "        \"StatementType\": \"DDL\",\n",
      "        \"ResultConfiguration\": {\n",
      "            \"OutputLocation\": \"s3://itvathena/wgprimary/tables/9eb94e4e-1613-43e7-a933-00453b169cf1\"\n",
      "        },\n",
      "        \"QueryExecutionContext\": {},\n",
      "        \"Status\": {\n",
      "            \"State\": \"SUCCEEDED\",\n",
      "            \"SubmissionDateTime\": \"2021-09-25T12:40:29.542000-05:00\",\n",
      "            \"CompletionDateTime\": \"2021-09-25T12:40:32.592000-05:00\"\n",
      "        },\n",
      "        \"Statistics\": {\n",
      "            \"EngineExecutionTimeInMillis\": 2803,\n",
      "            \"DataScannedInBytes\": 28655610,\n",
      "            \"DataManifestLocation\": \"s3://itvathena/wgprimary/tables/9eb94e4e-1613-43e7-a933-00453b169cf1-manifest.csv\",\n",
      "            \"TotalExecutionTimeInMillis\": 3050,\n",
      "            \"QueryQueueTimeInMillis\": 183,\n",
      "            \"QueryPlanningTimeInMillis\": 122,\n",
      "            \"ServiceProcessingTimeInMillis\": 64\n",
      "        },\n",
      "        \"WorkGroup\": \"primary\",\n",
      "        \"EngineVersion\": {\n",
      "            \"SelectedEngineVersion\": \"Athena engine version 2\",\n",
      "            \"EffectiveEngineVersion\": \"Athena engine version 2\"\n",
      "        }\n",
      "    }\n",
      "}\n"
     ]
    }
   ],
   "source": [
    "!aws athena get-query-execution \\\n",
    "    --query-execution-id 9eb94e4e-1613-43e7-a933-00453b169cf1 \\\n",
    "    --region us-east-1"
   ]
  },
  {
   "cell_type": "code",
   "execution_count": 30,
   "id": "09f25b01-042e-4907-bf6f-f7f5f83768db",
   "metadata": {},
   "outputs": [
    {
     "name": "stdout",
     "output_type": "stream",
     "text": [
      "2021-09-25 12:40:32     166154 20210925_174029_00090_ft8h6_0cb1f97c-3824-45b9-be9b-02de9eac2ef4.gz\n",
      "2021-09-25 12:40:32     163302 20210925_174029_00090_ft8h6_24273de6-46f0-44e7-be6c-5f8d8b9d30bc.gz\n",
      "2021-09-25 12:40:32      38494 20210925_174029_00090_ft8h6_4e8f3921-46c6-4db8-9f10-b0cb4fbce67d.gz\n",
      "2021-09-25 12:40:32     164353 20210925_174029_00090_ft8h6_715cb569-26e8-4231-8f8c-3abc893cd59b.gz\n",
      "2021-09-25 12:40:32     165718 20210925_174029_00090_ft8h6_76205edd-c608-4fb8-8f47-c523cf697355.gz\n",
      "2021-09-25 12:40:32     166379 20210925_174029_00090_ft8h6_785c7405-6ea8-4f3f-afc8-f999f95f8dd9.gz\n",
      "2021-09-25 12:40:32     166293 20210925_174029_00090_ft8h6_8252d67c-3479-4d74-944a-c32db1aa8afc.gz\n"
     ]
    }
   ],
   "source": [
    "!aws s3 ls s3://itv-retail/myretail/order_items/"
   ]
  },
  {
   "cell_type": "code",
   "execution_count": null,
   "id": "f8f25bc3-c63d-4e47-bee4-85964feb75a7",
   "metadata": {},
   "outputs": [],
   "source": []
  }
 ],
 "metadata": {
  "kernelspec": {
   "display_name": "Python 3 (ipykernel)",
   "language": "python",
   "name": "python3"
  },
  "language_info": {
   "codemirror_mode": {
    "name": "ipython",
    "version": 3
   },
   "file_extension": ".py",
   "mimetype": "text/x-python",
   "name": "python",
   "nbconvert_exporter": "python",
   "pygments_lexer": "ipython3",
   "version": "3.8.10"
  }
 },
 "nbformat": 4,
 "nbformat_minor": 5
}
