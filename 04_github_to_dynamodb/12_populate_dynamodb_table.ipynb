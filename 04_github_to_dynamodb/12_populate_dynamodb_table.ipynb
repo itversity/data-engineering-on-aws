{
 "cells": [
  {
   "cell_type": "markdown",
   "metadata": {},
   "source": [
    "## Populate Dynamodb Table\n",
    "\n",
    "As we are ready with the logic to build the list using GitHub REST API calls, now it is time for us to populate the Dynamodb table. Here are the steps we need to follow:\n",
    "\n",
    "* Make sure the table is created by name `ghrepos` and it is empty.\n",
    "* Make sure the functions to invoke GitHub APIs and build the list are created.\n",
    "* Use the function and build the list.\n",
    "* Create dynamo resource using `boto3`.\n",
    "* Create table object using the resource object.\n",
    "* Load the data from the list into `ghrepos` table and validate."
   ]
  },
  {
   "cell_type": "code",
   "execution_count": null,
   "metadata": {},
   "outputs": [],
   "source": [
    "import requests"
   ]
  },
  {
   "cell_type": "code",
   "execution_count": null,
   "metadata": {},
   "outputs": [],
   "source": [
    "import json"
   ]
  },
  {
   "cell_type": "code",
   "execution_count": null,
   "metadata": {},
   "outputs": [],
   "source": [
    "def list_repos(token, since='333255899'):\n",
    "    res = requests.get(\n",
    "        f'https://api.github.com/repositories?since={since}',\n",
    "        headers={'Authorization': f'token {token}'}\n",
    "    )\n",
    "    return json.loads(res.content.decode('utf-8'))"
   ]
  },
  {
   "cell_type": "code",
   "execution_count": null,
   "metadata": {},
   "outputs": [],
   "source": [
    "def get_repo_details(owner, name, token):\n",
    "    repo_details = json.loads(requests.get(\n",
    "        f'https://api.github.com/repos/{owner}/{name}',\n",
    "        headers={'Authorization': f'token {token}'}\n",
    "    ).content.decode('utf-8'))\n",
    "    return repo_details"
   ]
  },
  {
   "cell_type": "code",
   "execution_count": null,
   "metadata": {},
   "outputs": [],
   "source": [
    "def extract_repo_fields(repo_details):\n",
    "    repo_fields = {\n",
    "        'id': repo_details['id'],\n",
    "        'node_id': repo_details['node_id'],\n",
    "        'name': repo_details['name'],\n",
    "        'full_name': repo_details['full_name'],\n",
    "        'owner': {\n",
    "            'login': repo_details['owner']['login'],\n",
    "            'id': repo_details['owner']['id'],\n",
    "            'node_id': repo_details['owner']['node_id'],\n",
    "            'type': repo_details['owner']['type'],\n",
    "            'site_admin': repo_details['owner']['site_admin']\n",
    "        },\n",
    "        'html_url': repo_details['html_url'],\n",
    "        'description': repo_details['description'],\n",
    "        'fork': repo_details['fork'],\n",
    "        'created_at': repo_details['created_at']\n",
    "    }\n",
    "    return repo_fields"
   ]
  },
  {
   "cell_type": "code",
   "execution_count": null,
   "metadata": {},
   "outputs": [],
   "source": [
    "def get_repos(repos, token):\n",
    "    repos_details = []\n",
    "    for repo in repos:\n",
    "        try:\n",
    "            owner = repo['owner']['login']\n",
    "            name = repo['name']\n",
    "            repo_details = get_repo_details(owner, name, token)\n",
    "            repo_fields = extract_repo_fields(repo_details)\n",
    "            repos_details.append(repo_fields)\n",
    "        except:\n",
    "            pass\n",
    "    return repos_details"
   ]
  },
  {
   "cell_type": "code",
   "execution_count": null,
   "metadata": {},
   "outputs": [],
   "source": [
    "repos = list_repos('bd8a9c237cfd84a454a69ab4f68bc799d4d2e08f')"
   ]
  },
  {
   "cell_type": "code",
   "execution_count": null,
   "metadata": {},
   "outputs": [],
   "source": [
    "repos_details = get_repos(repos, 'bd8a9c237cfd84a454a69ab4f68bc799d4d2e08f')"
   ]
  },
  {
   "cell_type": "code",
   "execution_count": null,
   "metadata": {},
   "outputs": [],
   "source": [
    "len(repos_details)"
   ]
  },
  {
   "cell_type": "code",
   "execution_count": null,
   "metadata": {},
   "outputs": [],
   "source": [
    "repos_details[0]"
   ]
  },
  {
   "cell_type": "code",
   "execution_count": 5,
   "metadata": {},
   "outputs": [],
   "source": [
    "import boto3"
   ]
  },
  {
   "cell_type": "code",
   "execution_count": 6,
   "metadata": {},
   "outputs": [],
   "source": [
    "import os"
   ]
  },
  {
   "cell_type": "code",
   "execution_count": 7,
   "metadata": {},
   "outputs": [
    {
     "data": {
      "text/plain": [
       "'itvgithub'"
      ]
     },
     "execution_count": 7,
     "metadata": {},
     "output_type": "execute_result"
    }
   ],
   "source": [
    "os.environ.setdefault('AWS_PROFILE', 'itvgithub')"
   ]
  },
  {
   "cell_type": "code",
   "execution_count": 8,
   "metadata": {},
   "outputs": [
    {
     "data": {
      "text/plain": [
       "'us-east-1'"
      ]
     },
     "execution_count": 8,
     "metadata": {},
     "output_type": "execute_result"
    }
   ],
   "source": [
    "os.environ.setdefault('AWS_DEFAULT_REGION', 'us-east-1')"
   ]
  },
  {
   "cell_type": "code",
   "execution_count": 12,
   "metadata": {},
   "outputs": [],
   "source": [
    "dynamodb = boto3.resource('dynamodb')"
   ]
  },
  {
   "cell_type": "code",
   "execution_count": 13,
   "metadata": {},
   "outputs": [],
   "source": [
    "ghrepos_table = dynamodb.Table('ghrepos')"
   ]
  },
  {
   "cell_type": "code",
   "execution_count": 14,
   "metadata": {},
   "outputs": [
    {
     "data": {
      "text/plain": [
       "4556"
      ]
     },
     "execution_count": 14,
     "metadata": {},
     "output_type": "execute_result"
    }
   ],
   "source": [
    "ghrepos_table.item_count"
   ]
  },
  {
   "cell_type": "code",
   "execution_count": null,
   "metadata": {},
   "outputs": [],
   "source": [
    "ghrepos_table.scan()['Items'][0]"
   ]
  },
  {
   "cell_type": "code",
   "execution_count": null,
   "metadata": {},
   "outputs": [],
   "source": [
    "def load_repos(repos_details, ghrepos_table):\n",
    "    for repo in repos_details:\n",
    "        ghrepos_table.put_item(Item=repo)"
   ]
  },
  {
   "cell_type": "code",
   "execution_count": null,
   "metadata": {},
   "outputs": [],
   "source": [
    "%%time\n",
    "load_repos(repos_details, ghrepos_table)"
   ]
  },
  {
   "cell_type": "code",
   "execution_count": null,
   "metadata": {},
   "outputs": [],
   "source": [
    "items = ghrepos_table.scan()"
   ]
  },
  {
   "cell_type": "code",
   "execution_count": null,
   "metadata": {},
   "outputs": [],
   "source": [
    "len(items['Items'])"
   ]
  },
  {
   "cell_type": "code",
   "execution_count": null,
   "metadata": {},
   "outputs": [],
   "source": [
    "items['Items'][0]"
   ]
  },
  {
   "cell_type": "code",
   "execution_count": null,
   "metadata": {},
   "outputs": [],
   "source": []
  }
 ],
 "metadata": {
  "kernelspec": {
   "display_name": "Python 3",
   "language": "python",
   "name": "python3"
  },
  "language_info": {
   "codemirror_mode": {
    "name": "ipython",
    "version": 3
   },
   "file_extension": ".py",
   "mimetype": "text/x-python",
   "name": "python",
   "nbconvert_exporter": "python",
   "pygments_lexer": "ipython3",
   "version": "3.7.11"
  }
 },
 "nbformat": 4,
 "nbformat_minor": 4
}
