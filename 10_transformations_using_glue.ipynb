{
 "cells": [
  {
   "cell_type": "markdown",
   "metadata": {},
   "source": [
    "## Transformations using Glue\n",
    "\n",
    "Let us see how we can perform transformations using Glue.\n",
    "* We will be reading data from s3 bucket and write it back to s3 bucket."
   ]
  },
  {
   "cell_type": "markdown",
   "metadata": {},
   "source": [
    "## Creating Job Skeleton\n",
    "\n",
    "Here are the steps involved.\n",
    "* Choose source and target (s3 to s3).\n",
    "* Go to job details and configure these.\n",
    "  * Name\n",
    "  * IAM Role (We need to have at least read only access on source s3 and write acces on target s3)\n",
    "  * Number of Workers (default 10)\n",
    "  * Worker Types\n",
    "* Configure source s3\n",
    "  * Database Name\n",
    "  * Table Name\n",
    "* Configure target s3\n",
    "  * Format\n",
    "  * Compression Type\n",
    "  \n",
    "Once all the details are added make sure to save the job."
   ]
  },
  {
   "cell_type": "markdown",
   "metadata": {},
   "source": [
    "## Configure Job Dependencies\n",
    "\n",
    "Our jobs will typically be dependent on existing 3rd party libraries. Let us understand how we can configure.\n",
    "* Identify all the dependencies you need to use.\n",
    "* Setup and Activate Python Virtual Environment.\n",
    "* Install all the dependencies using `pip`. You can also install into specific directories.\n",
    "* Buile zip file using `zip -r` using the name of your choice.\n",
    "* Upload the zip file to s3 bucket.\n",
    "* Configure that s3 bucket as part of the job."
   ]
  },
  {
   "cell_type": "code",
   "execution_count": null,
   "metadata": {},
   "outputs": [],
   "source": []
  }
 ],
 "metadata": {
  "kernelspec": {
   "display_name": "Python 3",
   "language": "python",
   "name": "python3"
  },
  "language_info": {
   "codemirror_mode": {
    "name": "ipython",
    "version": 3
   },
   "file_extension": ".py",
   "mimetype": "text/x-python",
   "name": "python",
   "nbconvert_exporter": "python",
   "pygments_lexer": "ipython3",
   "version": "3.7.9"
  }
 },
 "nbformat": 4,
 "nbformat_minor": 4
}
