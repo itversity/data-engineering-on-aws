{
 "cells": [
  {
   "cell_type": "markdown",
   "metadata": {},
   "source": [
    "* AWS CLI Commands to Manage AWS EC2 Instances\n",
    "* Review AWS EC2 Instance Metadata\n",
    "* Filter AWS EC2 Instances base on states\n",
    "* Overview of Managing AWS EC2 Instances using Boto3\n",
    "* List AWS EC2 Instances using AWS Boto3\n",
    "* Exercise and Solution - Restart AWS EC2 Instance using Boto3"
   ]
  }
 ],
 "metadata": {
  "language_info": {
   "name": "python"
  },
  "orig_nbformat": 4
 },
 "nbformat": 4,
 "nbformat_minor": 2
}
