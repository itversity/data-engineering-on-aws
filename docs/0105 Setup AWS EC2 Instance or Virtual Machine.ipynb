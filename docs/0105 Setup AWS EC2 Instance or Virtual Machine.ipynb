{
 "cells": [
  {
   "cell_type": "markdown",
   "metadata": {},
   "source": [
    "* Review Steps to setup AWS EC2 Instance\n",
    "* Create AWS EC2 Key Pair for SSH Authentication\n",
    "* Setup AWS EC2 Instance using Management Console\n",
    "* Review Public and Private Keys of AWS EC2 Instance\n",
    "* Validate SSH Connectivity to AWS EC2 Instance\n",
    "* Understand AWS EC2 Instance States\n",
    "* Terminate AWS EC2 Instance\n",
    "* Exercise and Solution - Manage AWS EC2 Instance"
   ]
  }
 ],
 "metadata": {
  "language_info": {
   "name": "python"
  },
  "orig_nbformat": 4
 },
 "nbformat": 4,
 "nbformat_minor": 2
}
