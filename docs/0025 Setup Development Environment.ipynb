{
 "cells": [
  {
   "cell_type": "markdown",
   "metadata": {},
   "source": [
    "* Setup Ubuntu using WSL\n",
    "* Validate Installed Python Version\n",
    "* Installing Multiple Versions of Python\n",
    "* Setup Visual Studio Code\n",
    "* Install VS Code Remote Development Pack"
   ]
  }
 ],
 "metadata": {
  "language_info": {
   "name": "python"
  },
  "orig_nbformat": 4
 },
 "nbformat": 4,
 "nbformat_minor": 2
}
