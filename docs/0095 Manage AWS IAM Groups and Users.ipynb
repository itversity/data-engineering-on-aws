{
 "cells": [
  {
   "cell_type": "markdown",
   "metadata": {},
   "source": [
    "* Overview of AWS IAM Groups\n",
    "* Create AWS IAM Group using Management Console\n",
    "* Assign IAM Policy to the Group\n",
    "* Create AWS IAM User using Management Console\n",
    "* Validate AWS IAM User using AWS CLI\n",
    "* Exercise and Solution - Add Permissions to the User via IAM Policy"
   ]
  }
 ],
 "metadata": {
  "language_info": {
   "name": "python"
  },
  "orig_nbformat": 4
 },
 "nbformat": 4,
 "nbformat_minor": 2
}
