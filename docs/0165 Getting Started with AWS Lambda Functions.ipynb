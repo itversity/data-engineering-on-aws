{
 "cells": [
  {
   "cell_type": "markdown",
   "metadata": {},
   "source": [
    "* Create Hello World Lambda Function\n",
    "* Run and Validate Hello World Lambda Function\n",
    "* Add Functionality to Compute Commission Amount\n",
    "* Run and Validate the Lambda Function\n",
    "* Exercise and Solution - Update and Validate Lambda Function"
   ]
  }
 ],
 "metadata": {
  "language_info": {
   "name": "python"
  },
  "orig_nbformat": 4
 },
 "nbformat": 4,
 "nbformat_minor": 2
}
