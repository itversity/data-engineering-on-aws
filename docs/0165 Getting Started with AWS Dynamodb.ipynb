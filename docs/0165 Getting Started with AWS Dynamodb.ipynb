{
 "cells": [
  {
   "cell_type": "markdown",
   "metadata": {},
   "source": [
    "* Overview of NoSQL Databases\n",
    "* Create AWS Dynamodb Table using Management Console\n",
    "* Overview of Data Types of AWS Dynamodb Table\n",
    "* Dynamodb CRUD Operations using Management Console\n",
    "* Managing Dynamodb Tables and Data using AWS CLI\n",
    "* Exercise and Solution - Managing Dynamodb Tables and Data"
   ]
  }
 ],
 "metadata": {
  "language_info": {
   "name": "python"
  },
  "orig_nbformat": 4
 },
 "nbformat": 4,
 "nbformat_minor": 2
}
