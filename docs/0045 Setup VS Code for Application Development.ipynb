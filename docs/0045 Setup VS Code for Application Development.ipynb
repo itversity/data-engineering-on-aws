{
 "cells": [
  {
   "cell_type": "markdown",
   "metadata": {},
   "source": [
    "* Setup Visual Studio Code\n",
    "* Install VS Code Remote Development Pack\n",
    "* Setup VS Code Workspace for Python using WSL Ubuntu\n",
    "* Overview of VS Code Windows and Folders\n",
    "* Overview of VS Code Terminal\n",
    "* Validate Git Integration with VS Code\n",
    "* Exercise and Solution - Setup Project using VS Code"
   ]
  },
  {
   "cell_type": "markdown",
   "metadata": {},
   "source": [
    "* Setup Visual Studio Code\n",
    "\n",
    "1. Download VS Code from official website\n",
    "2. Install VS Code using downloaded file\n",
    "\n",
    "Visual Studio Code is a generic IDE which can used to develop applications using any programming language (such as Python, Java, Java Script, Go, etc)."
   ]
  },
  {
   "cell_type": "markdown",
   "metadata": {},
   "source": [
    "* Install VS Code Remote Development Pack\n",
    "\n",
    "VS Code Remote Development Pack will facilitate us to develop applications using remote servers via SSH, WSL, Docker Containers, etc.\n",
    "\n",
    "1. Go to VS Code Market Place and search for **Remote Development**.\n",
    "2. Install **Remote Development Pack**.\n",
    "3. Validate VS Code connection with WSL Ubuntu.\n",
    "4. Launch Terminal and run Linux Commands."
   ]
  },
  {
   "cell_type": "markdown",
   "metadata": {},
   "source": [
    "* Setup VS Code Workspace for Python using WSL Ubuntu"
   ]
  },
  {
   "cell_type": "markdown",
   "metadata": {},
   "source": [
    "* Exercise - Setup Project using VS Code\n",
    "\n",
    "Setup project using VS Code by name `data-engineering-on-aws`.\n",
    "1. Ensure VS Code is setup and Connect to WSL using remote development extension pack.\n",
    "2. Create new folder by name `data-engineering-on-aws`.\n",
    "3. Open the folder on WSL Ubuntu using VS Code.\n",
    "4. Create `hw.py` with below code.\n",
    "\n",
    "```python\n",
    "def main():\n",
    "    print('Hello World')\n",
    "\n",
    "\n",
    "if __name__ == '__main__':\n",
    "    main()\n",
    "```\n",
    "\n",
    "5. Make sure to integrate VS Code workspace with Python 3.11 and run the program to validate."
   ]
  },
  {
   "cell_type": "markdown",
   "metadata": {},
   "source": [
    "* Solution - Setup Project using VS Code\n",
    "\n",
    "Follow Video Lecture to review the solution in case of any issues."
   ]
  }
 ],
 "metadata": {
  "language_info": {
   "name": "python"
  },
  "orig_nbformat": 4
 },
 "nbformat": 4,
 "nbformat_minor": 2
}
