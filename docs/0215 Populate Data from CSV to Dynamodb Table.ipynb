{
 "cells": [
  {
   "cell_type": "markdown",
   "metadata": {},
   "source": [
    "* Overview of the Dynamodb Data Loader Application\n",
    "* Read Data from CSV into Python List\n",
    "* Review Data using Python List APIs\n",
    "* Develop Logic to populate data into Dynamodb Table\n",
    "* Validate the Data populated into Dynamodb Table\n",
    "* Exercise and Solution - Populate JSON Data into Dynamodb Table"
   ]
  }
 ],
 "metadata": {
  "language_info": {
   "name": "python"
  },
  "orig_nbformat": 4
 },
 "nbformat": 4,
 "nbformat_minor": 2
}
