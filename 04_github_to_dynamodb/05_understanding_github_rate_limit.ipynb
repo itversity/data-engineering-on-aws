{
 "cells": [
  {
   "cell_type": "markdown",
   "metadata": {},
   "source": [
    "## Understanding GitHub Rate Limit\n",
    "\n",
    "Let us spend some time in understanding GitHub Rate Limit.\n",
    "\n",
    "* We can make up to 5000 API calls per hour as authenticated user.\n",
    "* We can either use password based authentication or token based authentication.\n",
    "* List APIs typically return details about multiple items. For example `GET /repositories` to list public repositories can get details about up to 100 repositories per call.\n",
    "* In our case we will use `GET /repositories` to get login id and repo name then use `GET /repos/{owner}/{repo}` to get additional details.\n",
    "* In 1 hour we can make up to 49 `GET /repositories` calls and then 4900 `GET /repos/{owner}/{repo}` calls. They will take up to 4949 API calls. We can partially process next set as well.\n",
    "* We can get rate limit using `GET /rate_limit` and the calls to that API will not count against rate limit."
   ]
  },
  {
   "cell_type": "code",
   "execution_count": 3,
   "metadata": {},
   "outputs": [
    {
     "name": "stdout",
     "output_type": "stream",
     "text": [
      "{\n",
      "  \"resources\": {\n",
      "    \"core\": {\n",
      "      \"limit\": 60,\n",
      "      \"remaining\": 58,\n",
      "      \"reset\": 1611706291,\n",
      "      \"used\": 2\n",
      "    },\n",
      "    \"graphql\": {\n",
      "      \"limit\": 0,\n",
      "      \"remaining\": 0,\n",
      "      \"reset\": 1611706637,\n",
      "      \"used\": 0\n",
      "    },\n",
      "    \"integration_manifest\": {\n",
      "      \"limit\": 5000,\n",
      "      \"remaining\": 5000,\n",
      "      \"reset\": 1611706637,\n",
      "      \"used\": 0\n",
      "    },\n",
      "    \"search\": {\n",
      "      \"limit\": 10,\n",
      "      \"remaining\": 10,\n",
      "      \"reset\": 1611703097,\n",
      "      \"used\": 0\n",
      "    }\n",
      "  },\n",
      "  \"rate\": {\n",
      "    \"limit\": 60,\n",
      "    \"remaining\": 58,\n",
      "    \"reset\": 1611706291,\n",
      "    \"used\": 2\n",
      "  }\n",
      "}\n"
     ]
    },
    {
     "name": "stderr",
     "output_type": "stream",
     "text": [
      "  % Total    % Received % Xferd  Average Speed   Time    Time     Time  Current\n",
      "                                 Dload  Upload   Total   Spent    Left  Speed\n",
      "100   565  100   565    0     0   4185      0 --:--:-- --:--:-- --:--:--  4185\n"
     ]
    }
   ],
   "source": [
    "%%sh\n",
    "\n",
    "curl \\\n",
    "    -H \"Accept: application/vnd.github.v3+json\" \\\n",
    "    https://api.github.com/rate_limit"
   ]
  },
  {
   "cell_type": "code",
   "execution_count": 2,
   "metadata": {},
   "outputs": [
    {
     "name": "stdout",
     "output_type": "stream",
     "text": [
      "{\n",
      "  \"resources\": {\n",
      "    \"core\": {\n",
      "      \"limit\": 5000,\n",
      "      \"used\": 2,\n",
      "      \"remaining\": 4998,\n",
      "      \"reset\": 1611705759\n",
      "    },\n",
      "    \"search\": {\n",
      "      \"limit\": 30,\n",
      "      \"used\": 0,\n",
      "      \"remaining\": 30,\n",
      "      \"reset\": 1611702948\n",
      "    },\n",
      "    \"graphql\": {\n",
      "      \"limit\": 5000,\n",
      "      \"used\": 0,\n",
      "      \"remaining\": 5000,\n",
      "      \"reset\": 1611706488\n",
      "    },\n",
      "    \"integration_manifest\": {\n",
      "      \"limit\": 5000,\n",
      "      \"used\": 0,\n",
      "      \"remaining\": 5000,\n",
      "      \"reset\": 1611706488\n",
      "    },\n",
      "    \"source_import\": {\n",
      "      \"limit\": 100,\n",
      "      \"used\": 0,\n",
      "      \"remaining\": 100,\n",
      "      \"reset\": 1611702948\n",
      "    },\n",
      "    \"code_scanning_upload\": {\n",
      "      \"limit\": 500,\n",
      "      \"used\": 0,\n",
      "      \"remaining\": 500,\n",
      "      \"reset\": 1611706488\n",
      "    }\n",
      "  },\n",
      "  \"rate\": {\n",
      "    \"limit\": 5000,\n",
      "    \"used\": 2,\n",
      "    \"remaining\": 4998,\n",
      "    \"reset\": 1611705759\n",
      "  }\n",
      "}\n"
     ]
    },
    {
     "name": "stderr",
     "output_type": "stream",
     "text": [
      "  % Total    % Received % Xferd  Average Speed   Time    Time     Time  Current\n",
      "                                 Dload  Upload   Total   Spent    Left  Speed\n",
      "100   820  100   820    0     0   2484      0 --:--:-- --:--:-- --:--:--  2484\n"
     ]
    }
   ],
   "source": [
    "%%sh\n",
    "\n",
    "curl \\\n",
    "    -u dgadiraju:bd8a9c237cfd84a454a69ab4f68bc799d4d2e08f \\\n",
    "    -H \"Accept: application/vnd.github.v3+json\" \\\n",
    "    https://api.github.com/rate_limit"
   ]
  },
  {
   "cell_type": "code",
   "execution_count": null,
   "metadata": {},
   "outputs": [],
   "source": []
  }
 ],
 "metadata": {
  "kernelspec": {
   "display_name": "Python 3",
   "language": "python",
   "name": "python3"
  },
  "language_info": {
   "codemirror_mode": {
    "name": "ipython",
    "version": 3
   },
   "file_extension": ".py",
   "mimetype": "text/x-python",
   "name": "python",
   "nbconvert_exporter": "python",
   "pygments_lexer": "ipython3",
   "version": "3.7.11"
  }
 },
 "nbformat": 4,
 "nbformat_minor": 4
}
