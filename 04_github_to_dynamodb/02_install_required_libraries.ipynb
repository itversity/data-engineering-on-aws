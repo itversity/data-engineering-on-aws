{
 "cells": [
  {
   "cell_type": "markdown",
   "metadata": {},
   "source": [
    "## Install required libraries\n",
    "\n",
    "We will be using `requests` library to get data from GitHub APIs and store in Dynamo DB table.\n",
    "* We will be using `pandas` to process the data before writing to Dynamo DB table.\n",
    "* We need `boto3` to write data to AWS Dynamodb.\n",
    "* Make sure that `pandas` as well as `boto3` installed. You can also check for `requests` and make sure that it is installed."
   ]
  },
  {
   "cell_type": "code",
   "execution_count": 1,
   "metadata": {},
   "outputs": [
    {
     "name": "stdout",
     "output_type": "stream",
     "text": [
      "Name: requests\n",
      "Version: 2.25.1\n",
      "Summary: Python HTTP for Humans.\n",
      "Home-page: https://requests.readthedocs.io\n",
      "Author: Kenneth Reitz\n",
      "Author-email: me@kennethreitz.org\n",
      "License: Apache 2.0\n",
      "Location: /Users/itversity/Projects/Internal/bootcamp/itversity-material/data-engineering-on-aws/deaws-env/lib/python3.7/site-packages\n",
      "Requires: idna, certifi, urllib3, chardet\n",
      "Required-by: requests-oauthlib, PyGithub, jupyterlab-server, google-api-core\n"
     ]
    }
   ],
   "source": [
    "!pip show requests"
   ]
  },
  {
   "cell_type": "code",
   "execution_count": 2,
   "metadata": {},
   "outputs": [
    {
     "name": "stdout",
     "output_type": "stream",
     "text": [
      "Name: pandas\n",
      "Version: 1.1.5\n",
      "Summary: Powerful data structures for data analysis, time series, and statistics\n",
      "Home-page: https://pandas.pydata.org\n",
      "Author: None\n",
      "Author-email: None\n",
      "License: BSD\n",
      "Location: /Users/itversity/Projects/Internal/bootcamp/itversity-material/data-engineering-on-aws/deaws-env/lib/python3.7/site-packages\n",
      "Requires: numpy, pytz, python-dateutil\n",
      "Required-by: \n"
     ]
    }
   ],
   "source": [
    "!pip show pandas"
   ]
  },
  {
   "cell_type": "code",
   "execution_count": 3,
   "metadata": {},
   "outputs": [
    {
     "name": "stdout",
     "output_type": "stream",
     "text": [
      "Name: boto3\n",
      "Version: 1.16.40\n",
      "Summary: The AWS SDK for Python\n",
      "Home-page: https://github.com/boto/boto3\n",
      "Author: Amazon Web Services\n",
      "Author-email: UNKNOWN\n",
      "License: Apache License 2.0\n",
      "Location: /Users/itversity/Projects/Internal/bootcamp/itversity-material/data-engineering-on-aws/deaws-env/lib/python3.7/site-packages\n",
      "Requires: s3transfer, jmespath, botocore\n",
      "Required-by: \n"
     ]
    }
   ],
   "source": [
    "!pip show boto3"
   ]
  },
  {
   "cell_type": "code",
   "execution_count": 4,
   "metadata": {},
   "outputs": [
    {
     "name": "stdout",
     "output_type": "stream",
     "text": [
      "Requirement already up-to-date: requests in /Users/itversity/Projects/Internal/bootcamp/itversity-material/data-engineering-on-aws/deaws-env/lib/python3.7/site-packages (2.25.1)\n",
      "Requirement already satisfied, skipping upgrade: urllib3<1.27,>=1.21.1 in /Users/itversity/Projects/Internal/bootcamp/itversity-material/data-engineering-on-aws/deaws-env/lib/python3.7/site-packages (from requests) (1.26.2)\n",
      "Requirement already satisfied, skipping upgrade: idna<3,>=2.5 in /Users/itversity/Projects/Internal/bootcamp/itversity-material/data-engineering-on-aws/deaws-env/lib/python3.7/site-packages (from requests) (2.10)\n",
      "Requirement already satisfied, skipping upgrade: certifi>=2017.4.17 in /Users/itversity/Projects/Internal/bootcamp/itversity-material/data-engineering-on-aws/deaws-env/lib/python3.7/site-packages (from requests) (2020.12.5)\n",
      "Requirement already satisfied, skipping upgrade: chardet<5,>=3.0.2 in /Users/itversity/Projects/Internal/bootcamp/itversity-material/data-engineering-on-aws/deaws-env/lib/python3.7/site-packages (from requests) (4.0.0)\n",
      "\u001b[33mWARNING: You are using pip version 20.1.1; however, version 20.3.3 is available.\n",
      "You should consider upgrading via the '/Users/itversity/Projects/Internal/bootcamp/itversity-material/data-engineering-on-aws/deaws-env/bin/python3.7 -m pip install --upgrade pip' command.\u001b[0m\n"
     ]
    }
   ],
   "source": [
    "!pip install --upgrade requests"
   ]
  },
  {
   "cell_type": "code",
   "execution_count": 8,
   "metadata": {},
   "outputs": [
    {
     "name": "stdout",
     "output_type": "stream",
     "text": [
      "Collecting pandas\n",
      "  Using cached pandas-1.2.1.tar.gz (5.5 MB)\n",
      "  Installing build dependencies ... \u001b[?25ldone\n",
      "\u001b[?25h  Getting requirements to build wheel ... \u001b[?25ldone\n",
      "\u001b[?25h    Preparing wheel metadata ... \u001b[?25ldone\n",
      "\u001b[?25hRequirement already satisfied, skipping upgrade: python-dateutil>=2.7.3 in /Users/itversity/Projects/Internal/bootcamp/itversity-material/data-engineering-on-aws/deaws-env/lib/python3.7/site-packages (from pandas) (2.8.1)\n",
      "Requirement already satisfied, skipping upgrade: numpy>=1.16.5 in /Users/itversity/Projects/Internal/bootcamp/itversity-material/data-engineering-on-aws/deaws-env/lib/python3.7/site-packages (from pandas) (1.19.4)\n",
      "Requirement already satisfied, skipping upgrade: pytz>=2017.3 in /Users/itversity/Projects/Internal/bootcamp/itversity-material/data-engineering-on-aws/deaws-env/lib/python3.7/site-packages (from pandas) (2020.4)\n",
      "Requirement already satisfied, skipping upgrade: six>=1.5 in /Users/itversity/Projects/Internal/bootcamp/itversity-material/data-engineering-on-aws/deaws-env/lib/python3.7/site-packages (from python-dateutil>=2.7.3->pandas) (1.15.0)\n",
      "Building wheels for collected packages: pandas\n",
      "  Building wheel for pandas (PEP 517) ... \u001b[?25ldone\n",
      "\u001b[?25h  Created wheel for pandas: filename=pandas-1.2.1-cp37-cp37m-macosx_11_0_x86_64.whl size=10077140 sha256=1f18b90473970fcf1e92791244c294adbc946d912185fd83d70a18e06de199f3\n",
      "  Stored in directory: /Users/itversity/Library/Caches/pip/wheels/7e/35/62/2957e195f0aed9c87865fe88da442e87ad85d477b794207927\n",
      "Successfully built pandas\n",
      "Installing collected packages: pandas\n",
      "  Attempting uninstall: pandas\n",
      "    Found existing installation: pandas 1.1.5\n",
      "    Uninstalling pandas-1.1.5:\n",
      "      Successfully uninstalled pandas-1.1.5\n",
      "Successfully installed pandas-1.2.1\n",
      "\u001b[33mWARNING: You are using pip version 20.1.1; however, version 20.3.3 is available.\n",
      "You should consider upgrading via the '/Users/itversity/Projects/Internal/bootcamp/itversity-material/data-engineering-on-aws/deaws-env/bin/python3.7 -m pip install --upgrade pip' command.\u001b[0m\n"
     ]
    }
   ],
   "source": [
    "!pip install --upgrade pandas"
   ]
  },
  {
   "cell_type": "code",
   "execution_count": 7,
   "metadata": {},
   "outputs": [
    {
     "name": "stdout",
     "output_type": "stream",
     "text": [
      "Collecting boto3\n",
      "  Downloading boto3-1.16.60-py2.py3-none-any.whl (130 kB)\n",
      "\u001b[K     |████████████████████████████████| 130 kB 3.3 MB/s eta 0:00:01\n",
      "\u001b[?25hCollecting botocore<1.20.0,>=1.19.60\n",
      "  Downloading botocore-1.19.60-py2.py3-none-any.whl (7.2 MB)\n",
      "\u001b[K     |████████████████████████████████| 7.2 MB 5.8 MB/s eta 0:00:01\n",
      "\u001b[?25hRequirement already satisfied, skipping upgrade: s3transfer<0.4.0,>=0.3.0 in /Users/itversity/Projects/Internal/bootcamp/itversity-material/data-engineering-on-aws/deaws-env/lib/python3.7/site-packages (from boto3) (0.3.3)\n",
      "Requirement already satisfied, skipping upgrade: jmespath<1.0.0,>=0.7.1 in /Users/itversity/Projects/Internal/bootcamp/itversity-material/data-engineering-on-aws/deaws-env/lib/python3.7/site-packages (from boto3) (0.10.0)\n",
      "Requirement already satisfied, skipping upgrade: urllib3<1.27,>=1.25.4; python_version != \"3.4\" in /Users/itversity/Projects/Internal/bootcamp/itversity-material/data-engineering-on-aws/deaws-env/lib/python3.7/site-packages (from botocore<1.20.0,>=1.19.60->boto3) (1.26.2)\n",
      "Requirement already satisfied, skipping upgrade: python-dateutil<3.0.0,>=2.1 in /Users/itversity/Projects/Internal/bootcamp/itversity-material/data-engineering-on-aws/deaws-env/lib/python3.7/site-packages (from botocore<1.20.0,>=1.19.60->boto3) (2.8.1)\n",
      "Requirement already satisfied, skipping upgrade: six>=1.5 in /Users/itversity/Projects/Internal/bootcamp/itversity-material/data-engineering-on-aws/deaws-env/lib/python3.7/site-packages (from python-dateutil<3.0.0,>=2.1->botocore<1.20.0,>=1.19.60->boto3) (1.15.0)\n",
      "Installing collected packages: botocore, boto3\n",
      "  Attempting uninstall: botocore\n",
      "    Found existing installation: botocore 1.19.40\n",
      "    Uninstalling botocore-1.19.40:\n",
      "      Successfully uninstalled botocore-1.19.40\n",
      "  Attempting uninstall: boto3\n",
      "    Found existing installation: boto3 1.16.40\n",
      "    Uninstalling boto3-1.16.40:\n",
      "      Successfully uninstalled boto3-1.16.40\n",
      "Successfully installed boto3-1.16.60 botocore-1.19.60\n",
      "\u001b[33mWARNING: You are using pip version 20.1.1; however, version 20.3.3 is available.\n",
      "You should consider upgrading via the '/Users/itversity/Projects/Internal/bootcamp/itversity-material/data-engineering-on-aws/deaws-env/bin/python3.7 -m pip install --upgrade pip' command.\u001b[0m\n"
     ]
    }
   ],
   "source": [
    "!pip install --upgrade boto3"
   ]
  },
  {
   "cell_type": "code",
   "execution_count": null,
   "metadata": {},
   "outputs": [],
   "source": []
  }
 ],
 "metadata": {
  "kernelspec": {
   "display_name": "Python 3",
   "language": "python",
   "name": "python3"
  },
  "language_info": {
   "codemirror_mode": {
    "name": "ipython",
    "version": 3
   },
   "file_extension": ".py",
   "mimetype": "text/x-python",
   "name": "python",
   "nbconvert_exporter": "python",
   "pygments_lexer": "ipython3",
   "version": "3.7.9"
  }
 },
 "nbformat": 4,
 "nbformat_minor": 4
}
