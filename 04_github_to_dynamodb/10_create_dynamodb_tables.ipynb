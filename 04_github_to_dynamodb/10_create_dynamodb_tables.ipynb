{
 "cells": [
  {
   "cell_type": "markdown",
   "metadata": {},
   "source": [
    "## Create Dynamodb Tables\n",
    "\n",
    "Let us create tables for both storing GitHub Repo data as well as the marker or bookmark. Marker or Bookmark will be used to invoke the API and get the data in incremental fashion.\n",
    "* Create table called as `ghrepos` for following fields from API output.\n",
    "  * id\n",
    "  * node_id\n",
    "  * name\n",
    "  * full_name\n",
    "  * owner.login\n",
    "  * owner.id\n",
    "  * owner.node_id\n",
    "  * owner.type\n",
    "  * owner.site_admin\n",
    "  * html_url\n",
    "  * description\n",
    "  * fork\n",
    "  * created_at\n",
    "* Create table called as `ghmarker`. It will only contain one record with 3 columns.\n",
    "  * tn (table name - ghrepos)\n",
    "  * marker (last id from each list all repos call). We will store it as string as we can use it for other API calls to populate other tables.\n",
    "  * status (success or failed)\n",
    "* As Dynamodb is NoSQL database, we cannot specify the column names while creating the tables. We specify the column names along with data while loading data into the table.\n",
    "* We can use `ghmarker` for other similar scenarios (invoke APIs incrementally and populate the table). "
   ]
  },
  {
   "cell_type": "code",
   "execution_count": null,
   "metadata": {},
   "outputs": [],
   "source": [
    "%%sh\n",
    "\n",
    "aws dynamodb list-tables --profile itvgithub --region us-east-1"
   ]
  },
  {
   "cell_type": "code",
   "execution_count": null,
   "metadata": {},
   "outputs": [],
   "source": [
    "import boto3"
   ]
  },
  {
   "cell_type": "code",
   "execution_count": null,
   "metadata": {},
   "outputs": [],
   "source": [
    "import os"
   ]
  },
  {
   "cell_type": "code",
   "execution_count": null,
   "metadata": {},
   "outputs": [],
   "source": [
    "os.environ.setdefault('AWS_PROFILE', 'itvgithub')"
   ]
  },
  {
   "cell_type": "code",
   "execution_count": null,
   "metadata": {},
   "outputs": [],
   "source": [
    "os.environ.setdefault('AWS_DEFAULT_REGION', 'us-east-1')"
   ]
  },
  {
   "cell_type": "code",
   "execution_count": null,
   "metadata": {},
   "outputs": [],
   "source": [
    "dynamodb = boto3.resource('dynamodb')"
   ]
  },
  {
   "cell_type": "code",
   "execution_count": null,
   "metadata": {},
   "outputs": [],
   "source": [
    "dynamodb.create_table?"
   ]
  },
  {
   "cell_type": "code",
   "execution_count": null,
   "metadata": {},
   "outputs": [],
   "source": [
    "ghmarker = dynamodb.create_table(\n",
    "      TableName='ghmarker',\n",
    "      KeySchema=[\n",
    "          {\n",
    "              'AttributeName': 'tn',\n",
    "              'KeyType': 'HASH'\n",
    "          },\n",
    "      ],\n",
    "      AttributeDefinitions=[\n",
    "          {\n",
    "              'AttributeName': 'tn',\n",
    "              'AttributeType': 'S'              \n",
    "          },\n",
    "      ],\n",
    "      BillingMode='PAY_PER_REQUEST'\n",
    "  )"
   ]
  },
  {
   "cell_type": "code",
   "execution_count": null,
   "metadata": {},
   "outputs": [],
   "source": [
    "ghmarker.name"
   ]
  },
  {
   "cell_type": "code",
   "execution_count": null,
   "metadata": {},
   "outputs": [],
   "source": [
    "ghmarker.table_status"
   ]
  },
  {
   "cell_type": "code",
   "execution_count": null,
   "metadata": {},
   "outputs": [],
   "source": [
    "ghm_table = dynamodb.Table('ghmarker')"
   ]
  },
  {
   "cell_type": "code",
   "execution_count": null,
   "metadata": {},
   "outputs": [],
   "source": [
    "ghm_table.table_status"
   ]
  },
  {
   "cell_type": "code",
   "execution_count": null,
   "metadata": {},
   "outputs": [],
   "source": [
    "ghrepos = dynamodb.create_table(\n",
    "      TableName='ghrepos',\n",
    "      KeySchema=[\n",
    "          {\n",
    "              'AttributeName': 'id',\n",
    "              'KeyType': 'HASH'\n",
    "          },\n",
    "      ],\n",
    "      AttributeDefinitions=[\n",
    "          {\n",
    "              'AttributeName': 'id',\n",
    "              'AttributeType': 'N'\n",
    "          },\n",
    "      ],\n",
    "      BillingMode='PAY_PER_REQUEST'\n",
    "  )"
   ]
  },
  {
   "cell_type": "code",
   "execution_count": null,
   "metadata": {},
   "outputs": [],
   "source": [
    "ghrepos.name"
   ]
  },
  {
   "cell_type": "code",
   "execution_count": null,
   "metadata": {},
   "outputs": [],
   "source": [
    "ghrepos.table_status"
   ]
  },
  {
   "cell_type": "code",
   "execution_count": null,
   "metadata": {},
   "outputs": [],
   "source": [
    "ghr_table = dynamodb.Table('ghrepos')"
   ]
  },
  {
   "cell_type": "code",
   "execution_count": null,
   "metadata": {},
   "outputs": [],
   "source": [
    "ghr_table.table_status"
   ]
  },
  {
   "cell_type": "code",
   "execution_count": null,
   "metadata": {},
   "outputs": [],
   "source": []
  }
 ],
 "metadata": {
  "kernelspec": {
   "display_name": "Python 3",
   "language": "python",
   "name": "python3"
  },
  "language_info": {
   "codemirror_mode": {
    "name": "ipython",
    "version": 3
   },
   "file_extension": ".py",
   "mimetype": "text/x-python",
   "name": "python",
   "nbconvert_exporter": "python",
   "pygments_lexer": "ipython3",
   "version": "3.7.11"
  }
 },
 "nbformat": 4,
 "nbformat_minor": 4
}
