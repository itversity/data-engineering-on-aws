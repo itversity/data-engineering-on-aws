{
 "cells": [
  {
   "cell_type": "markdown",
   "metadata": {},
   "source": [
    "* Getting Started with AWS Boto3 for s3\n",
    "* Manage AWS s3 Buckets using Boto3\n",
    "* List AWS s3 objects using Boto3\n",
    "* Upload Files to AWS s3 using Boto3\n",
    "* Understand AWS s3 object Metadata\n",
    "* Exercise and Solution - Upload and List AWS s3 Objects"
   ]
  },
  {
   "cell_type": "markdown",
   "metadata": {},
   "source": [
    "Make sure to delete the objects uploaded earlier using `aws s3 rm` command.\n",
    "\n",
    "```shell\n",
    "aws s3 rm s3://itvawsdata/retail_db/ \\\n",
    "    --recursive \\\n",
    "    --profile itvdev1\n",
    "\n",
    "aws s3 rm s3://itvawsdata/retail_db_json/ \\\n",
    "    --recursive \\\n",
    "    --profile itvdev1\n",
    "```"
   ]
  },
  {
   "cell_type": "markdown",
   "metadata": {},
   "source": [
    "* Getting Started with AWS Boto3 for s3"
   ]
  },
  {
   "cell_type": "code",
   "execution_count": null,
   "metadata": {},
   "outputs": [],
   "source": [
    "import boto3"
   ]
  },
  {
   "cell_type": "code",
   "execution_count": null,
   "metadata": {},
   "outputs": [],
   "source": [
    "s3_client = boto3.client('s3')"
   ]
  },
  {
   "cell_type": "code",
   "execution_count": null,
   "metadata": {},
   "outputs": [],
   "source": [
    "bucket = 'itvawsdata'"
   ]
  },
  {
   "cell_type": "code",
   "execution_count": null,
   "metadata": {},
   "outputs": [],
   "source": [
    "bucket = 'itversitydata'"
   ]
  },
  {
   "cell_type": "code",
   "execution_count": null,
   "metadata": {},
   "outputs": [],
   "source": [
    "import os"
   ]
  },
  {
   "cell_type": "code",
   "execution_count": null,
   "metadata": {},
   "outputs": [],
   "source": [
    "os.environ.setdefault('AWS_PROFILE', 'itvdev1')"
   ]
  },
  {
   "cell_type": "markdown",
   "metadata": {},
   "source": [
    "* Manage AWS s3 Buckets using Boto3\n",
    "\n",
    "1. `s3_client.list_buckets` to list buckets.\n",
    "2. `s3_client.list_objects` to list objects.\n",
    "3. `s3_client.put_object` to put object in specified location.\n",
    "4. `s3_client.delete_object` to delete specified object.\n",
    "5. `s3_client.delete_objects` to delete objects based on bucket and list of objects specified.\n",
    "5. `s3_client.delete_bucket` to delete the empty bucket."
   ]
  },
  {
   "cell_type": "markdown",
   "metadata": {},
   "source": [
    "* List AWS s3 objects using Boto3"
   ]
  },
  {
   "cell_type": "code",
   "execution_count": null,
   "metadata": {},
   "outputs": [],
   "source": [
    "s3_client.list_objects(Bucket=bucket)"
   ]
  },
  {
   "cell_type": "markdown",
   "metadata": {},
   "source": [
    "* Upload Files to AWS s3 using Boto3"
   ]
  },
  {
   "cell_type": "code",
   "execution_count": null,
   "metadata": {},
   "outputs": [],
   "source": [
    "import glob"
   ]
  },
  {
   "cell_type": "code",
   "execution_count": null,
   "metadata": {},
   "outputs": [],
   "source": [
    "files = glob.glob('data/retail_db/**', recursive=True)"
   ]
  },
  {
   "cell_type": "code",
   "execution_count": null,
   "metadata": {},
   "outputs": [],
   "source": [
    "import os"
   ]
  },
  {
   "cell_type": "code",
   "execution_count": null,
   "metadata": {},
   "outputs": [],
   "source": [
    "for file in files:\n",
    "    if os.path.isfile(file):\n",
    "        print(f'Uploading {file} to S3 bucket {bucket}')\n",
    "        s3_client.put_object(\n",
    "            Bucket=bucket, \n",
    "            Key=file.replace('data/', ''),\n",
    "            Body=open(file, 'rb')\n",
    "        )"
   ]
  },
  {
   "cell_type": "markdown",
   "metadata": {},
   "source": [
    "We can list the files using `aws s3 ls` command.\n",
    "\n",
    "```shell\n",
    "aws s3 ls s3://itvawsdata/retail_db/ \\\n",
    "    --recursive \\\n",
    "    --profile itvdev1\n",
    "```"
   ]
  },
  {
   "cell_type": "code",
   "execution_count": null,
   "metadata": {},
   "outputs": [],
   "source": [
    "s3_objects = s3_client.list_objects(\n",
    "    Bucket=bucket,\n",
    "    Prefix='retail_db/'\n",
    ")"
   ]
  },
  {
   "cell_type": "code",
   "execution_count": null,
   "metadata": {},
   "outputs": [],
   "source": [
    "[item['Key'] for item in s3_objects['Contents']]"
   ]
  },
  {
   "cell_type": "markdown",
   "metadata": {},
   "source": [
    "* Understand AWS s3 object Metadata"
   ]
  },
  {
   "cell_type": "code",
   "execution_count": null,
   "metadata": {},
   "outputs": [],
   "source": [
    "s3_objects = s3_client.list_objects(\n",
    "    Bucket=bucket,\n",
    "    Prefix='retail_db/'\n",
    ")"
   ]
  },
  {
   "cell_type": "code",
   "execution_count": null,
   "metadata": {},
   "outputs": [],
   "source": [
    "s3_objects"
   ]
  },
  {
   "cell_type": "code",
   "execution_count": null,
   "metadata": {},
   "outputs": [],
   "source": [
    "s3_objects.keys()"
   ]
  },
  {
   "cell_type": "code",
   "execution_count": null,
   "metadata": {},
   "outputs": [],
   "source": [
    "s3_objects['Contents']"
   ]
  },
  {
   "cell_type": "code",
   "execution_count": null,
   "metadata": {},
   "outputs": [],
   "source": [
    "len(s3_objects['Contents'])"
   ]
  },
  {
   "cell_type": "code",
   "execution_count": null,
   "metadata": {},
   "outputs": [],
   "source": [
    "[item['Key'] for item in s3_objects['Contents']]"
   ]
  },
  {
   "cell_type": "code",
   "execution_count": null,
   "metadata": {},
   "outputs": [],
   "source": [
    "[(item['Key'], item['Size'], item['LastModified']) for item in s3_objects['Contents']]"
   ]
  },
  {
   "cell_type": "code",
   "execution_count": null,
   "metadata": {},
   "outputs": [],
   "source": [
    "for i in [(item['Key'], item['Size'], item['LastModified']) for item in s3_objects['Contents']]:\n",
    "    print(i)"
   ]
  },
  {
   "cell_type": "markdown",
   "metadata": {},
   "source": [
    "* Exercise - Upload and List AWS s3 Objects\n",
    "\n",
    "1. Review NYSE Data - `data/nyse_all`\n",
    "2. Upload all the files into s3 by retaining the relative path from nyse_all. The target path should be `s3://bucket_name/nyse_all`.\n",
    "3. List all the objects from the bucket with prefix `nyse_all`."
   ]
  },
  {
   "cell_type": "markdown",
   "metadata": {},
   "source": [
    "* Solution - Upload and List AWS s3 Objects\n",
    "\n",
    "1. Review NYSE Data - `data/nyse_all`\n",
    "\n",
    "```shell\n",
    "find data/nyse_all\n",
    "```\n",
    "\n",
    "2. Upload all the files into s3 by retaining the relative path from nyse_all. The target path should be `s3://bucket_name/nyse_all`.\n",
    "\n",
    "```python\n",
    "import glob\n",
    "import os\n",
    "\n",
    "files = glob.glob('data/nyse_all/**', recursive=True)\n",
    "for file in files:\n",
    "    if os.path.isfile(file):\n",
    "        print(f'Uploading {file} to S3 bucket {bucket}')\n",
    "        s3_client.put_object(\n",
    "            Bucket=bucket, \n",
    "            Key=file.replace('data/', ''),\n",
    "            Body=open(file, 'rb')\n",
    "        )\n",
    "```\n",
    "\n",
    "3. List all the objects from the bucket with prefix `nyse_all`. Create a list with the names of the objects (keys) in s3.\n",
    "\n",
    "```python\n",
    "s3_objects = s3_client.list_objects(\n",
    "    Bucket=bucket,\n",
    "    Prefix='nyse_all/'\n",
    ")\n",
    "\n",
    "[item['Key'] for item in s3_objects['Contents']]\n",
    "```"
   ]
  },
  {
   "cell_type": "code",
   "execution_count": null,
   "metadata": {},
   "outputs": [],
   "source": [
    "import glob\n",
    "import os\n",
    "\n",
    "files = glob.glob('data/nyse_all/**', recursive=True)\n",
    "for file in files:\n",
    "    if os.path.isfile(file):\n",
    "        print(f'Uploading {file} to S3 bucket {bucket}')\n",
    "        s3_client.put_object(\n",
    "            Bucket=bucket, \n",
    "            Key=file.replace('data/', ''),\n",
    "            Body=open(file, 'rb')\n",
    "        )"
   ]
  },
  {
   "cell_type": "code",
   "execution_count": null,
   "metadata": {},
   "outputs": [],
   "source": [
    "help(s3_client.delete_objects)"
   ]
  },
  {
   "cell_type": "code",
   "execution_count": null,
   "metadata": {},
   "outputs": [],
   "source": []
  }
 ],
 "metadata": {
  "kernelspec": {
   "display_name": "Python 3",
   "language": "python",
   "name": "python3"
  },
  "language_info": {
   "codemirror_mode": {
    "name": "ipython",
    "version": 3
   },
   "file_extension": ".py",
   "mimetype": "text/x-python",
   "name": "python",
   "nbconvert_exporter": "python",
   "pygments_lexer": "ipython3",
   "version": "3.11.2"
  },
  "orig_nbformat": 4
 },
 "nbformat": 4,
 "nbformat_minor": 2
}
