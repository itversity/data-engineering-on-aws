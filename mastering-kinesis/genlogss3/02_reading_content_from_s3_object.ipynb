{
 "cells": [
  {
   "cell_type": "markdown",
   "metadata": {},
   "source": [
    "## Reading Content from s3 Object\n",
    "\n",
    "Let us understand how we can read the content from s3 Object or file using Python boto3.\n",
    "* Create s3 client using appropriate profile.\n",
    "* Get one of the object name. We can use `list_objects` to get the object names. It can get up to 1000 object keys or names in each iteration.\n",
    "* We can pick one of the object key or name and pass it on to `get_object` along with bucket name.\n",
    "* The response will contain `Body` of type byte stream. We can decode the `Body` to string.\n",
    "* We can further process the data using relevant string manipulation functions as per our requirements."
   ]
  },
  {
   "cell_type": "code",
   "execution_count": 1,
   "metadata": {},
   "outputs": [],
   "source": [
    "import boto3"
   ]
  },
  {
   "cell_type": "code",
   "execution_count": 2,
   "metadata": {},
   "outputs": [
    {
     "data": {
      "text/plain": [
       "'itvgenlogs'"
      ]
     },
     "execution_count": 2,
     "metadata": {},
     "output_type": "execute_result"
    }
   ],
   "source": [
    "import os\n",
    "os.environ.setdefault('AWS_PROFILE', 'itvgenlogs')"
   ]
  },
  {
   "cell_type": "code",
   "execution_count": 3,
   "metadata": {},
   "outputs": [],
   "source": [
    "s3_client = boto3.client('s3')"
   ]
  },
  {
   "cell_type": "code",
   "execution_count": null,
   "metadata": {},
   "outputs": [],
   "source": [
    "s3_client.list_objects?"
   ]
  },
  {
   "cell_type": "code",
   "execution_count": 6,
   "metadata": {},
   "outputs": [],
   "source": [
    "s3_objects = s3_client.list_objects(\n",
    "    Bucket='itv-genlogs',\n",
    "    Prefix='logs/year'\n",
    ")"
   ]
  },
  {
   "cell_type": "code",
   "execution_count": null,
   "metadata": {},
   "outputs": [],
   "source": [
    "s3_objects"
   ]
  },
  {
   "cell_type": "code",
   "execution_count": null,
   "metadata": {},
   "outputs": [],
   "source": [
    "s3_objects['Contents']"
   ]
  },
  {
   "cell_type": "code",
   "execution_count": 9,
   "metadata": {},
   "outputs": [
    {
     "data": {
      "text/plain": [
       "1000"
      ]
     },
     "execution_count": 9,
     "metadata": {},
     "output_type": "execute_result"
    }
   ],
   "source": [
    "len(s3_objects['Contents'])"
   ]
  },
  {
   "cell_type": "code",
   "execution_count": 10,
   "metadata": {},
   "outputs": [
    {
     "data": {
      "text/plain": [
       "{'Key': 'logs/year=2021/month=01/day=19/gen_logs_s3-3-2021-01-19-23-25-20-5e0bdd17-4852-4923-8bda-907badd4f180',\n",
       " 'LastModified': datetime.datetime(2021, 1, 19, 23, 26, 22, tzinfo=tzutc()),\n",
       " 'ETag': '\"63414c2398f48cd7c5affe0ae3af2132\"',\n",
       " 'Size': 24460,\n",
       " 'StorageClass': 'STANDARD'}"
      ]
     },
     "execution_count": 10,
     "metadata": {},
     "output_type": "execute_result"
    }
   ],
   "source": [
    "s3_objects['Contents'][0]"
   ]
  },
  {
   "cell_type": "code",
   "execution_count": 11,
   "metadata": {},
   "outputs": [
    {
     "data": {
      "text/plain": [
       "'logs/year=2021/month=01/day=19/gen_logs_s3-3-2021-01-19-23-25-20-5e0bdd17-4852-4923-8bda-907badd4f180'"
      ]
     },
     "execution_count": 11,
     "metadata": {},
     "output_type": "execute_result"
    }
   ],
   "source": [
    "s3_objects['Contents'][0]['Key']"
   ]
  },
  {
   "cell_type": "code",
   "execution_count": 12,
   "metadata": {},
   "outputs": [],
   "source": [
    "s3_object_key = s3_objects['Contents'][0]['Key']"
   ]
  },
  {
   "cell_type": "code",
   "execution_count": null,
   "metadata": {},
   "outputs": [],
   "source": [
    "s3_client.get_object?"
   ]
  },
  {
   "cell_type": "code",
   "execution_count": 22,
   "metadata": {},
   "outputs": [],
   "source": [
    "s3_object = s3_client.get_object(\n",
    "    Bucket='itv-genlogs',\n",
    "    Key=s3_object_key\n",
    ")"
   ]
  },
  {
   "cell_type": "code",
   "execution_count": 16,
   "metadata": {},
   "outputs": [
    {
     "data": {
      "text/plain": [
       "dict"
      ]
     },
     "execution_count": 16,
     "metadata": {},
     "output_type": "execute_result"
    }
   ],
   "source": [
    "type(s3_object)"
   ]
  },
  {
   "cell_type": "code",
   "execution_count": 17,
   "metadata": {},
   "outputs": [
    {
     "data": {
      "text/plain": [
       "{'ResponseMetadata': {'RequestId': '18DF74A6099C14E8',\n",
       "  'HostId': 'Zc7O64jogDyT5G2UpD03lHMitBPl+f5+jYjTHLhw1XF253zz0BNK4ZpjA2pxALbcd+EZDMx5s3g=',\n",
       "  'HTTPStatusCode': 200,\n",
       "  'HTTPHeaders': {'x-amz-id-2': 'Zc7O64jogDyT5G2UpD03lHMitBPl+f5+jYjTHLhw1XF253zz0BNK4ZpjA2pxALbcd+EZDMx5s3g=',\n",
       "   'x-amz-request-id': '18DF74A6099C14E8',\n",
       "   'date': 'Wed, 20 Jan 2021 23:28:49 GMT',\n",
       "   'last-modified': 'Tue, 19 Jan 2021 23:26:22 GMT',\n",
       "   'etag': '\"63414c2398f48cd7c5affe0ae3af2132\"',\n",
       "   'accept-ranges': 'bytes',\n",
       "   'content-type': 'application/octet-stream',\n",
       "   'content-length': '24460',\n",
       "   'server': 'AmazonS3'},\n",
       "  'RetryAttempts': 0},\n",
       " 'AcceptRanges': 'bytes',\n",
       " 'LastModified': datetime.datetime(2021, 1, 19, 23, 26, 22, tzinfo=tzutc()),\n",
       " 'ContentLength': 24460,\n",
       " 'ETag': '\"63414c2398f48cd7c5affe0ae3af2132\"',\n",
       " 'ContentType': 'application/octet-stream',\n",
       " 'Metadata': {},\n",
       " 'Body': <botocore.response.StreamingBody at 0x117d5a690>}"
      ]
     },
     "execution_count": 17,
     "metadata": {},
     "output_type": "execute_result"
    }
   ],
   "source": [
    "s3_object"
   ]
  },
  {
   "cell_type": "code",
   "execution_count": 18,
   "metadata": {},
   "outputs": [
    {
     "data": {
      "text/plain": [
       "<botocore.response.StreamingBody at 0x117d5a690>"
      ]
     },
     "execution_count": 18,
     "metadata": {},
     "output_type": "execute_result"
    }
   ],
   "source": [
    "s3_object['Body']"
   ]
  },
  {
   "cell_type": "code",
   "execution_count": null,
   "metadata": {},
   "outputs": [],
   "source": [
    "help(s3_object['Body'])"
   ]
  },
  {
   "cell_type": "code",
   "execution_count": null,
   "metadata": {},
   "outputs": [],
   "source": [
    "s3_object['Body'].read()"
   ]
  },
  {
   "cell_type": "code",
   "execution_count": null,
   "metadata": {},
   "outputs": [],
   "source": [
    "s3_object['Body'].read().decode('utf-8')"
   ]
  },
  {
   "cell_type": "code",
   "execution_count": 24,
   "metadata": {},
   "outputs": [],
   "source": [
    "import boto3\n",
    "\n",
    "import os\n",
    "os.environ.setdefault('AWS_PROFILE', 'itvgenlogs')\n",
    "\n",
    "s3_client = boto3.client('s3')\n",
    "\n",
    "s3_objects = s3_client.list_objects(\n",
    "    Bucket='itv-genlogs',\n",
    "    Prefix='logs/year'\n",
    ")\n",
    "\n",
    "s3_object_key = s3_objects['Contents'][0]['Key']\n",
    "s3_object = s3_client.get_object(\n",
    "    Bucket='itv-genlogs',\n",
    "    Key=s3_object_key\n",
    ")\n",
    "\n",
    "file_contents = s3_object['Body'].read().decode('utf-8')"
   ]
  },
  {
   "cell_type": "code",
   "execution_count": 25,
   "metadata": {},
   "outputs": [],
   "source": [
    "file_records = file_contents.splitlines()"
   ]
  },
  {
   "cell_type": "code",
   "execution_count": 26,
   "metadata": {},
   "outputs": [
    {
     "data": {
      "text/plain": [
       "['22.160.191.22 - - [19/Jan/2021:18:24:20 -0800] \"GET /departments HTTP/1.1\" 200 1338 \"-\" \"Mozilla/5.0 (Macintosh; Intel Mac OS X 10_9_4) AppleWebKit/537.36 (KHTML, like Gecko) Chrome/35.0.1916.153 Safari/537.36\"',\n",
       " '148.185.154.242 - - [19/Jan/2021:18:24:21 -0800] \"GET /checkout HTTP/1.1\" 200 326 \"-\" \"Mozilla/5.0 (Windows NT 6.3; WOW64; rv:30.0) Gecko/20100101 Firefox/30.0\"',\n",
       " '160.130.14.64 - - [19/Jan/2021:18:24:22 -0800] \"GET /support HTTP/1.1\" 200 749 \"-\" \"Mozilla/5.0 (Macintosh; Intel Mac OS X 10_9_4) AppleWebKit/537.36 (KHTML, like Gecko) Chrome/36.0.1985.125 Safari/537.36\"']"
      ]
     },
     "execution_count": 26,
     "metadata": {},
     "output_type": "execute_result"
    }
   ],
   "source": [
    "file_records[:3]"
   ]
  },
  {
   "cell_type": "code",
   "execution_count": null,
   "metadata": {},
   "outputs": [],
   "source": []
  }
 ],
 "metadata": {
  "kernelspec": {
   "display_name": "Python 3",
   "language": "python",
   "name": "python3"
  },
  "language_info": {
   "codemirror_mode": {
    "name": "ipython",
    "version": 3
   },
   "file_extension": ".py",
   "mimetype": "text/x-python",
   "name": "python",
   "nbconvert_exporter": "python",
   "pygments_lexer": "ipython3",
   "version": "3.7.11"
  }
 },
 "nbformat": 4,
 "nbformat_minor": 5
}
