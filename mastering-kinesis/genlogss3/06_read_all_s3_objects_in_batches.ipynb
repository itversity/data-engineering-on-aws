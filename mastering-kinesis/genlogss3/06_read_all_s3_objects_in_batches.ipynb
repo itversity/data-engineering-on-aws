{
 "cells": [
  {
   "cell_type": "markdown",
   "metadata": {},
   "source": [
    "## Read all s3 objects in batches\n",
    "\n",
    "Let us go through the details about how we can get all the object keys in batches and process.\n",
    "\n",
    "* Create s3 client with appropriate profile.\n",
    "* Get 10 object keys at a time by using `MaxKeys` and `Marker`. We will keep track of `Marker` in a file.\n",
    "* `Marker` is nothing but the last object key from the last run.\n",
    "* We can read the contents for the 10 objects into a list.\n",
    "* We need to update the file with the last object key from which data is read.\n",
    "* The entire logic can be placed in an infinite `while` loop. We can break the loop when we are done with reading all the files."
   ]
  },
  {
   "cell_type": "code",
   "execution_count": null,
   "metadata": {},
   "outputs": [],
   "source": [
    "import boto3"
   ]
  },
  {
   "cell_type": "code",
   "execution_count": null,
   "metadata": {},
   "outputs": [],
   "source": [
    "import os\n",
    "os.environ.setdefault('AWS_PROFILE', 'itvgenlogs')"
   ]
  },
  {
   "cell_type": "code",
   "execution_count": null,
   "metadata": {},
   "outputs": [],
   "source": [
    "s3_client = boto3.client('s3')"
   ]
  },
  {
   "cell_type": "code",
   "execution_count": null,
   "metadata": {},
   "outputs": [],
   "source": [
    "marker_file = open('s3_marker.txt', 'r')\n",
    "marker = marker_file.read()\n",
    "marker"
   ]
  },
  {
   "cell_type": "code",
   "execution_count": null,
   "metadata": {},
   "outputs": [],
   "source": [
    "while True:\n",
    "    marker_file_read = open('s3_marker.txt', 'r')\n",
    "    marker = marker_file_read.read()\n",
    "    s3_objects = s3_client.list_objects(\n",
    "        Bucket='itv-genlogs',\n",
    "        Prefix='logs/year',\n",
    "        Marker=marker,\n",
    "        MaxKeys=10\n",
    "    ).get('Contents')\n",
    "    if not s3_objects:\n",
    "        break\n",
    "    s3_object_keys = [s3_object['Key'] for s3_object in s3_objects]\n",
    "    data = []\n",
    "    for s3_object_key in s3_object_keys:\n",
    "        s3_object_contents = s3_client. \\\n",
    "            get_object(\n",
    "                Bucket='itv-genlogs',\n",
    "                Key=s3_object_key\n",
    "            )['Body']. \\\n",
    "            read(). \\\n",
    "            decode('utf-8'). \\\n",
    "            splitlines()\n",
    "        data += s3_object_contents\n",
    "    # Process data further and save to target\n",
    "    marker = s3_object_keys[-1]\n",
    "    marker_file_write = open('s3_marker.txt', 'w')\n",
    "    marker_file_write.write(marker)\n",
    "    marker_file_write.close()\n",
    "    print(marker)"
   ]
  },
  {
   "cell_type": "code",
   "execution_count": null,
   "metadata": {},
   "outputs": [],
   "source": [
    "text = 'testing'\n",
    "\n",
    "file = open('testing.txt', 'w')"
   ]
  },
  {
   "cell_type": "code",
   "execution_count": null,
   "metadata": {},
   "outputs": [],
   "source": [
    "file.write(text)"
   ]
  },
  {
   "cell_type": "code",
   "execution_count": null,
   "metadata": {},
   "outputs": [],
   "source": [
    "file.close()"
   ]
  }
 ],
 "metadata": {
  "kernelspec": {
   "display_name": "Python 3",
   "language": "python",
   "name": "python3"
  },
  "language_info": {
   "codemirror_mode": {
    "name": "ipython",
    "version": 3
   },
   "file_extension": ".py",
   "mimetype": "text/x-python",
   "name": "python",
   "nbconvert_exporter": "python",
   "pygments_lexer": "ipython3",
   "version": "3.7.11"
  }
 },
 "nbformat": 4,
 "nbformat_minor": 5
}
