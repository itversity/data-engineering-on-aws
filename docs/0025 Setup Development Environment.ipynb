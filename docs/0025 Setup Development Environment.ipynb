{
 "cells": [
  {
   "cell_type": "markdown",
   "metadata": {},
   "source": [
    "* Setup Ubuntu using WSL\n",
    "* Validate Installed Python Version\n",
    "* Setup Pip on WSL Ubuntu\n",
    "* Installing Multiple Versions of Python\n",
    "* Setup Visual Studio Code\n",
    "* Install VS Code Remote Development Pack\n",
    "* Setup VS Code Workspace for Python using WSL Ubuntu\n",
    "* Exercise and Solution - Setup another version of Python"
   ]
  },
  {
   "cell_type": "markdown",
   "metadata": {},
   "source": [
    "* Setup Ubuntu using WSL\n",
    "\n",
    "1. Launch Powershell\n",
    "2. Review wsl commands\n",
    "3. Setup Ubuntu using WSL\n",
    "4. Connect to Ubuntu"
   ]
  },
  {
   "cell_type": "markdown",
   "metadata": {},
   "source": [
    "* Validate Installed Python Version\n",
    "\n",
    "The WSL Ubuntu comes with default Python Version. We can validate by following below steps.\n",
    "\n",
    "1. Launch Ubuntu using WSL\n",
    "2. Run `python --version` or `python3 --version` command to confirm if the Python is installed or not. It will also confirm the version of Python installed."
   ]
  },
  {
   "cell_type": "markdown",
   "metadata": {},
   "source": [
    "* Setup Pip on WSL Ubuntu\n",
    "\n",
    "1. Validate if pip is available or not by using `python -m pip --version`.\n",
    "2. If the command is not working install pip using `apt`."
   ]
  },
  {
   "cell_type": "markdown",
   "metadata": {},
   "source": [
    "* Installing Multiple Versions of Python\n",
    "\n",
    "As we might end up building multiple applications using different versions of Python, it is important to have at least 2 version of Python. In case, if you need a different version later, you can use this lecture as reference and take care of setting up multiple versions.\n",
    "\n",
    "1. Validate existing versions of Python\n",
    "2. Install at least 2 versions of Python (Python 3.9, Python 3.11)."
   ]
  },
  {
   "cell_type": "markdown",
   "metadata": {},
   "source": [
    "* Setup Visual Studio Code\n",
    "\n",
    "1. Download VS Code from official website\n",
    "2. Install VS Code using downloaded file\n",
    "\n",
    "Visual Studio Code is a generic IDE which can used to develop applications using any programming language (such as Python, Java, Java Script, Go, etc)."
   ]
  },
  {
   "cell_type": "markdown",
   "metadata": {},
   "source": [
    "* Install VS Code Remote Development Pack\n",
    "\n",
    "VS Code Remote Development Pack will facilitate us to develop applications using remote servers via SSH, WSL, Docker Containers, etc.\n",
    "\n",
    "1. Go to VS Code Market Place and search for **Remote Development**.\n",
    "2. Install **Remote Development Pack**.\n",
    "3. Validate VS Code connection with WSL Ubuntu.\n",
    "4. Launch Terminal and run Linux Commands."
   ]
  },
  {
   "cell_type": "markdown",
   "metadata": {},
   "source": [
    "* Setup VS Code Workspace for Python using WSL Ubuntu"
   ]
  },
  {
   "cell_type": "markdown",
   "metadata": {},
   "source": [
    "Exercise - Setup another version of Python"
   ]
  },
  {
   "cell_type": "markdown",
   "metadata": {},
   "source": [
    "Solution - Setup another version of Python"
   ]
  }
 ],
 "metadata": {
  "language_info": {
   "name": "python"
  },
  "orig_nbformat": 4
 },
 "nbformat": 4,
 "nbformat_minor": 2
}
