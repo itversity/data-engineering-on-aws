{
 "cells": [
  {
   "cell_type": "markdown",
   "metadata": {},
   "source": [
    "* Setup VS Code Project for AWS\n",
    "* Install AWS Extension from VS Code Marketplace\n",
    "* Install AWS Boto3 using pip\n",
    "* List VPCs using AWS Boto3\n",
    "* Using AWS Boto3 with Profile\n",
    "* Exercise and Solution - AWS Boto3 using dev profile"
   ]
  },
  {
   "cell_type": "markdown",
   "metadata": {},
   "source": [
    "* Setup VS Code Project for AWS\n",
    "\n",
    "1. Create new VS Code Project for AWS\n",
    "2. Make sure to create Python Virtual Environment"
   ]
  },
  {
   "cell_type": "markdown",
   "metadata": {},
   "source": [
    "* Install AWS Boto3 using pip\n",
    "\n",
    "1. Make sure to activate Python Virtual Environment.\n",
    "2. Install boto3.\n",
    "3. Create VS Code Notebook."
   ]
  },
  {
   "cell_type": "markdown",
   "metadata": {},
   "source": [
    "* List VPCs using AWS Boto3"
   ]
  },
  {
   "cell_type": "code",
   "execution_count": null,
   "metadata": {},
   "outputs": [],
   "source": [
    "import boto3"
   ]
  },
  {
   "cell_type": "code",
   "execution_count": null,
   "metadata": {},
   "outputs": [],
   "source": [
    "ec2 = boto3.client('ec2')"
   ]
  },
  {
   "cell_type": "code",
   "execution_count": null,
   "metadata": {},
   "outputs": [],
   "source": [
    "ec2.describe_vpcs()"
   ]
  },
  {
   "cell_type": "code",
   "execution_count": null,
   "metadata": {},
   "outputs": [],
   "source": [
    "list(map(lambda item: item['VpcId'], ec2.describe_vpcs()['Vpcs']))"
   ]
  },
  {
   "cell_type": "code",
   "execution_count": null,
   "metadata": {},
   "outputs": [],
   "source": [
    "[item['VpcId'] for item in ec2.describe_vpcs()['Vpcs']]"
   ]
  },
  {
   "cell_type": "markdown",
   "metadata": {},
   "source": [
    "* Using AWS Boto3 with Profile\n",
    "\n",
    "1. Make sure to restart Notebook environment.\n",
    "2. Create ec2 client\n",
    "3. List VPCs using ec2 client"
   ]
  },
  {
   "cell_type": "code",
   "execution_count": null,
   "metadata": {},
   "outputs": [],
   "source": [
    "import os"
   ]
  },
  {
   "cell_type": "code",
   "execution_count": null,
   "metadata": {},
   "outputs": [],
   "source": [
    "import boto3"
   ]
  },
  {
   "cell_type": "code",
   "execution_count": null,
   "metadata": {},
   "outputs": [],
   "source": [
    "os.environ.setdefault('AWS_PROFILE', 'itvadmin1')"
   ]
  },
  {
   "cell_type": "code",
   "execution_count": null,
   "metadata": {},
   "outputs": [],
   "source": [
    "ec2 = boto3.client('ec2')"
   ]
  },
  {
   "cell_type": "code",
   "execution_count": null,
   "metadata": {},
   "outputs": [],
   "source": [
    "[item['VpcId'] for item in ec2.describe_vpcs()['Vpcs']]"
   ]
  },
  {
   "cell_type": "markdown",
   "metadata": {},
   "source": [
    "* Exercise - AWS Boto3 using dev profile\n",
    "\n",
    "1. Set profile to itvdev1\n",
    "2. Attempt to list VPCs using boto3\n",
    "3. It should throw error as itvdev1 doesn't have any permissions except for s3.\n",
    "4. You can also attempt to list buckets using boto3."
   ]
  },
  {
   "cell_type": "markdown",
   "metadata": {},
   "source": [
    "* Solution - AWS Boto3 using dev profile\n",
    "\n",
    "1. Set profile to itvdev1\n",
    "2. Attempt to list VPCs using boto3\n",
    "3. It should throw error as itvdev1 doesn't have any permissions except for s3.\n",
    "4. You can also attempt to list buckets using boto3."
   ]
  }
 ],
 "metadata": {
  "kernelspec": {
   "display_name": "Python 3",
   "language": "python",
   "name": "python3"
  },
  "language_info": {
   "codemirror_mode": {
    "name": "ipython",
    "version": 3
   },
   "file_extension": ".py",
   "mimetype": "text/x-python",
   "name": "python",
   "nbconvert_exporter": "python",
   "pygments_lexer": "ipython3",
   "version": "3.11.2"
  },
  "orig_nbformat": 4
 },
 "nbformat": 4,
 "nbformat_minor": 2
}
