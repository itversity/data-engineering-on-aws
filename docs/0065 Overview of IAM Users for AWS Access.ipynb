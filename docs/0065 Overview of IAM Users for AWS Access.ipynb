{
 "cells": [
  {
   "cell_type": "markdown",
   "metadata": {},
   "source": [
    "* Enabling MFA for root account\n",
    "* Best Practices for root account usage\n",
    "* Create IAM User with AWS Console Access\n",
    "* Create IAM Admin User with CLI Access\n",
    "* Overview of Access Key and Secret Key\n",
    "* Access AWS Web Console as IAM User\n",
    "* Exercise and Solution - Setup User with s3 Access"
   ]
  }
 ],
 "metadata": {
  "language_info": {
   "name": "python"
  },
  "orig_nbformat": 4
 },
 "nbformat": 4,
 "nbformat_minor": 2
}
