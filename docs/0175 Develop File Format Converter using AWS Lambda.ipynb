{
 "cells": [
  {
   "cell_type": "markdown",
   "metadata": {},
   "source": [
    "* Upload Data to AWS s3 Bucket\n",
    "* Review File Format Converter Logic\n",
    "* Update Lambda Function with the Logic\n",
    "* Run and Validate Lambda Function with the Logic\n",
    "* Exercise and Solution - Lambda Function for NYSE Data"
   ]
  }
 ],
 "metadata": {
  "language_info": {
   "name": "python"
  },
  "orig_nbformat": 4
 },
 "nbformat": 4,
 "nbformat_minor": 2
}
