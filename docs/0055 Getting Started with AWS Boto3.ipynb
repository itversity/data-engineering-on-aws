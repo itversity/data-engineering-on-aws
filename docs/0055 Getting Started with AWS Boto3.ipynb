{
 "cells": [
  {
   "cell_type": "markdown",
   "metadata": {},
   "source": [
    "* Setup VS Code Workspace for AWS\n",
    "* Install AWS Extension from VS Code Marketplace\n",
    "* Install AWS Boto3 using pip\n",
    "* List VPCs using AWS Boto3\n",
    "* Using AWS Boto3 with Profile"
   ]
  }
 ],
 "metadata": {
  "language_info": {
   "name": "python"
  },
  "orig_nbformat": 4
 },
 "nbformat": 4,
 "nbformat_minor": 2
}
