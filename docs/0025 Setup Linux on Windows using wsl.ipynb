{
 "cells": [
  {
   "cell_type": "markdown",
   "metadata": {},
   "source": [
    "* Overview of WSL\n",
    "* Setup Ubuntu using WSL\n",
    "* Managing WSL Ubuntu\n",
    "* Overview of Ubuntu\n",
    "* Exercise and Solution - Setup and Delete VM"
   ]
  },
  {
   "cell_type": "markdown",
   "metadata": {},
   "source": [
    "* Setup Ubuntu using WSL\n",
    "\n",
    "1. Launch Powershell\n",
    "2. Review wsl commands\n",
    "3. Setup Ubuntu using WSL\n",
    "4. Connect to Ubuntu"
   ]
  }
 ],
 "metadata": {
  "language_info": {
   "name": "python"
  },
  "orig_nbformat": 4
 },
 "nbformat": 4,
 "nbformat_minor": 2
}
