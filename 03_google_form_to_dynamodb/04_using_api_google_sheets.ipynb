{
 "cells": [
  {
   "cell_type": "markdown",
   "metadata": {},
   "source": [
    "## Using API - Google Sheets\n",
    "\n",
    "Let us understand how we can leverage Google Sheets API to read the data from the sheet generated using the form. You can use [Python Quickstart for Google Sheets API](https://developers.google.com/sheets/api/quickstart/python) provided by Google for reference.\n",
    "* Import all relevant classes or functions.\n",
    "* Define Scopes - `readonly` is sufficient for us.\n",
    "* Make sure authentication flow is successful.\n",
    "* Define variables for spreadsheet id and data range.\n",
    "* Create sheet object and get title.\n",
    "* Read the data from the range of your choice using the sheet name.\n",
    "\n",
    "Let us import all the libraries and then get on to the authentication."
   ]
  },
  {
   "cell_type": "code",
   "execution_count": null,
   "metadata": {},
   "outputs": [],
   "source": [
    "import pickle\n",
    "import os.path\n",
    "from googleapiclient.discovery import build\n",
    "from google_auth_oauthlib.flow import InstalledAppFlow\n",
    "from google.auth.transport.requests import Request"
   ]
  }
 ],
 "metadata": {
  "kernelspec": {
   "display_name": "Python 3",
   "language": "python",
   "name": "python3"
  },
  "language_info": {
   "codemirror_mode": {
    "name": "ipython",
    "version": 3
   },
   "file_extension": ".py",
   "mimetype": "text/x-python",
   "name": "python",
   "nbconvert_exporter": "python",
   "pygments_lexer": "ipython3",
   "version": "3.7.9"
  }
 },
 "nbformat": 4,
 "nbformat_minor": 4
}
