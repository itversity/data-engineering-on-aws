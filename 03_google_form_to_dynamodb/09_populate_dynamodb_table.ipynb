{
 "cells": [
  {
   "cell_type": "markdown",
   "metadata": {},
   "source": [
    "## Populate Dynamodb Table\n",
    "\n",
    "As we are ready with the list, now it is time for us to populate the Dynamodb table. Here are the steps we need to follow:\n",
    "\n",
    "* Create dynamo resource using `boto3`.\n",
    "* Create table object.\n",
    "* Develop a function to populate the list.\n",
    "* Load the data into table and validate.\n"
   ]
  },
  {
   "cell_type": "code",
   "execution_count": null,
   "metadata": {},
   "outputs": [],
   "source": [
    "import boto3"
   ]
  },
  {
   "cell_type": "code",
   "execution_count": null,
   "metadata": {},
   "outputs": [],
   "source": [
    "dynamodb = boto3.resource('dynamodb')"
   ]
  },
  {
   "cell_type": "code",
   "execution_count": null,
   "metadata": {},
   "outputs": [],
   "source": [
    "emails_table = dynamodb.Table('emails')\n",
    "\n",
    "# email_item = {\n",
    "#     'email_id': 'a@b.com',\n",
    "#     'first_name': 'A',\n",
    "#     'last_name': 'B',\n",
    "#     'forms': ['form1', 'form2']\n",
    "# }\n",
    "\n",
    "# emails.put_item(Item=email_item)"
   ]
  },
  {
   "cell_type": "code",
   "execution_count": null,
   "metadata": {},
   "outputs": [],
   "source": [
    "def load_emails(emails_list, emails_table):\n",
    "    for email in emails_list:\n",
    "        # changing the forms to list\n",
    "        # User might fill the form multiple times\n",
    "        email['forms'] = [email['forms']] \n",
    "        emails_table.put_item(Item=email)"
   ]
  },
  {
   "cell_type": "code",
   "execution_count": null,
   "metadata": {},
   "outputs": [],
   "source": [
    "%%time\n",
    "\n",
    "load_emails(emails_list[:5], emails_table)"
   ]
  },
  {
   "cell_type": "code",
   "execution_count": null,
   "metadata": {},
   "outputs": [],
   "source": [
    "emails_batch_writer = emails_table.batch_writer()"
   ]
  },
  {
   "cell_type": "code",
   "execution_count": null,
   "metadata": {},
   "outputs": [],
   "source": [
    "type(emails_batch_writer)"
   ]
  },
  {
   "cell_type": "code",
   "execution_count": null,
   "metadata": {},
   "outputs": [],
   "source": [
    "help(emails_batch_writer.put_item)"
   ]
  },
  {
   "cell_type": "code",
   "execution_count": null,
   "metadata": {},
   "outputs": [],
   "source": [
    "def load_emails(emails_list, emails_table, batch_size=50):\n",
    "    with emails_table.batch_writer() as batch:\n",
    "    \n",
    "        emails_count = len(emails_list)\n",
    "        for i in range(0, emails_count, batch_size):\n",
    "            print(f'Processing from {i} to {i+batch_size}')\n",
    "            for email in emails_list[i:i+batch_size]:\n",
    "                # changing the forms to list\n",
    "                # User might fill the form multiple times\n",
    "                email['forms'] = [email['forms']]\n",
    "                batch.put_item(Item=email)  "
   ]
  },
  {
   "cell_type": "code",
   "execution_count": null,
   "metadata": {},
   "outputs": [],
   "source": [
    "list(range(0, 406, 50))"
   ]
  },
  {
   "cell_type": "code",
   "execution_count": null,
   "metadata": {},
   "outputs": [],
   "source": [
    "%%time\n",
    "\n",
    "load_emails(emails_list[:10], emails_table, batch_size=25)"
   ]
  },
  {
   "cell_type": "code",
   "execution_count": null,
   "metadata": {},
   "outputs": [],
   "source": [
    "rs = emails_table.scan()"
   ]
  },
  {
   "cell_type": "code",
   "execution_count": null,
   "metadata": {},
   "outputs": [],
   "source": [
    "len(rs['Items'])"
   ]
  },
  {
   "cell_type": "code",
   "execution_count": null,
   "metadata": {},
   "outputs": [],
   "source": [
    "rs['Items'][0]"
   ]
  },
  {
   "cell_type": "code",
   "execution_count": null,
   "metadata": {},
   "outputs": [],
   "source": [
    "from boto3.dynamodb.conditions import Key, Attr\n",
    "item = emails_table.query(KeyConditionExpression=Key('email_id').eq('anil.kakara@gmail.com'))"
   ]
  },
  {
   "cell_type": "code",
   "execution_count": null,
   "metadata": {},
   "outputs": [],
   "source": [
    "item"
   ]
  }
 ],
 "metadata": {
  "kernelspec": {
   "display_name": "Python 3",
   "language": "python",
   "name": "python3"
  },
  "language_info": {
   "codemirror_mode": {
    "name": "ipython",
    "version": 3
   },
   "file_extension": ".py",
   "mimetype": "text/x-python",
   "name": "python",
   "nbconvert_exporter": "python",
   "pygments_lexer": "ipython3",
   "version": "3.7.9"
  }
 },
 "nbformat": 4,
 "nbformat_minor": 4
}
