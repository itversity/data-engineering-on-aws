{
 "cells": [
  {
   "cell_type": "markdown",
   "metadata": {},
   "source": [
    "## Setup Jupyter Lab on AWS\n",
    "\n",
    "Let us setup Jupyter Lab to learn technologies in interactive fashion.\n",
    "\n",
    "* Make sure to install Python 3\n",
    "* Setup Virtual Environment\n",
    "* Install Jupyter Lab\n",
    "* Open port number 8888 in the security group\n",
    "\n",
    "```shell\n",
    "sudo yum -y install python3\n",
    "python3 -m venv demo-env\n",
    "source demo-env/bin/activate\n",
    "pip install jupyterlab\n",
    "nohup jupyter lab --ip 0.0.0.0 &\n",
    "```"
   ]
  },
  {
   "cell_type": "code",
   "execution_count": null,
   "metadata": {},
   "outputs": [],
   "source": []
  }
 ],
 "metadata": {
  "kernelspec": {
   "display_name": "Python 3",
   "language": "python",
   "name": "python3"
  },
  "language_info": {
   "codemirror_mode": {
    "name": "ipython",
    "version": 3
   },
   "file_extension": ".py",
   "mimetype": "text/x-python",
   "name": "python",
   "nbconvert_exporter": "python",
   "pygments_lexer": "ipython3",
   "version": "3.7.9"
  }
 },
 "nbformat": 4,
 "nbformat_minor": 4
}
