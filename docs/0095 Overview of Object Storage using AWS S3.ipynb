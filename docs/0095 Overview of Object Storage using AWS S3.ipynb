{
 "cells": [
  {
   "cell_type": "markdown",
   "metadata": {},
   "source": [
    "* Key Concepts of AWS s3\n",
    "* Review AWS s3 Buckets using Management Console\n",
    "* Upload Files and Folders to AWS s3\n",
    "* List AWS s3 Buckets and Objects using AWS CLI\n",
    "* Review Important AWS CLI s3 Commands\n",
    "* Exercise and Solution - Manage Buckets and Objects in AWS s3"
   ]
  },
  {
   "cell_type": "markdown",
   "metadata": {},
   "source": [
    "* Key Concepts of AWS s3\n",
    "\n",
    "1. AWS s3 is object storage.\n",
    "2. Key Components of s3 - Buckets and Objects\n",
    "3. We can manage buckets using AWS Console, AWS CLI Commands as well as using SDKs such as boto3."
   ]
  },
  {
   "cell_type": "markdown",
   "metadata": {},
   "source": [
    "* Review AWS s3 Buckets using Management Console\n",
    "\n",
    "1. Login into AWS Console and go to s3 Console.\n",
    "2. You should see 2 buckets - itvawsdemo and itvawsdata.\n",
    "3. We can upload files and folders using s3 Console. However, we will use AWS CLI Commands."
   ]
  },
  {
   "cell_type": "markdown",
   "metadata": {},
   "source": [
    "* Upload Files and Folders to AWS s3\n",
    "\n",
    "1. Review `aws s3` commands and also make sure CLI is configured with correct credentials using profile (`itvdev1`).\n",
    "2. The files are made available to you in `data` folder. You can upload `retail_db` recursively to AWS s3 bucket `itvawsdata`.\n",
    "\n",
    "```shell\n",
    "aws s3 cp data/retail_db \\\n",
    "    s3://itvawsdata/retail_db \\\n",
    "    --recursive \\\n",
    "    --profile itvdev1\n",
    "```"
   ]
  },
  {
   "cell_type": "markdown",
   "metadata": {},
   "source": [
    "* List AWS s3 Buckets and Objects using AWS CLI\n",
    "\n",
    "1. You can list the buckets using `aws s3 ls --profile itvdev1` command.\n",
    "2. You can review the details of the files and folders that are uploaded to s3 using `aws s3 ls` command.\n",
    "\n",
    "```shell\n",
    "aws s3 ls s3://itvawsdata/retail_db \\\n",
    "    --recursive \\\n",
    "    --profile itvdev1\n",
    "```"
   ]
  },
  {
   "cell_type": "markdown",
   "metadata": {},
   "source": [
    "* Review Important AWS CLI s3 Commands\n",
    "\n",
    "Here are the important AWS CLI s3 Commands.\n",
    "1. `aws s3 mb` to create bucket.\n",
    "2. `aws s3 rb` to delete bucket. However, the bucket should be empty to run the command successfully.\n",
    "3. `aws s3 cp` to copy the files from local file system to s3 and vice versa. We can also use `aws s3 cp` to copy files from s3 to s3.\n",
    "4. `aws s3 ls` to list objects or files in s3.\n",
    "5. `aws s3 rm` to delete objects or files in s3.\n",
    "\n",
    "Note: We can use `--recursive` with `cp`, `ls`, or `rm` commands."
   ]
  },
  {
   "cell_type": "markdown",
   "metadata": {},
   "source": [
    "* Exercise - Manage Buckets and Objects in AWS s3\n",
    "\n",
    "1. List the objects from the bucket ends with awsdata.\n",
    "2. Review the files under `data/retail_db_json`.\n",
    "3. Make sure to copy the folder `retail_db_json` recursively to the bucket ends with awsdata.\n",
    "4. List the files or objects from `retail_db_json` folder or prefix recursively."
   ]
  },
  {
   "cell_type": "markdown",
   "metadata": {},
   "source": [
    "* Solution - Manage Buckets and Objects in AWS s3\n",
    "\n",
    "1. List the objects from the bucket ends with awsdata.\n",
    "2. Review the files under `data/retail_db_json`.\n",
    "3. Make sure to copy the folder `retail_db_json` recursively to the bucket ends with awsdata.\n",
    "4. List the files or objects from `retail_db_json` folder or prefix recursively.\n",
    "\n",
    "```shell\n",
    "aws s3 ls s3://itvawsdata/ --profile itvdev1\n",
    "\n",
    "find data/retail_db_json\n",
    "\n",
    "aws s3 cp data/retail_db_json s3://itvawsdata/retail_db_json \\\n",
    "    --recursive \\\n",
    "    --profile itvdev1\n",
    "\n",
    "aws s3 ls s3://itvawsdata/retail_db_json \\\n",
    "    --recursive \\\n",
    "    --profile itvdev1\n",
    "```"
   ]
  }
 ],
 "metadata": {
  "language_info": {
   "name": "python"
  },
  "orig_nbformat": 4
 },
 "nbformat": 4,
 "nbformat_minor": 2
}
