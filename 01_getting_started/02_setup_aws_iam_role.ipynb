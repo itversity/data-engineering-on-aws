{
 "cells": [
  {
   "cell_type": "markdown",
   "metadata": {},
   "source": [
    "## Setup AWS IAM Role\n",
    "\n",
    "Let us get started with setting up IAM Role in AWS. We will grant full administrator access to that role.\n",
    "* IAM Roles are primarily used to grant permissions to use services on your behalf.\n",
    "* In this case we will assign Administrator role to the bastion server while creating it at a later point in time.\n",
    "* With this role, bastion server will be able to interact with AWS Services using AWS CLI or Python based boto3 library.\n",
    "* Make sure to have Admin access to AWS Web Console (preferably personal accounts)\n",
    "* If you are using your organization account, make sure to get Administrator Role to begin with\n",
    "* Create Administrator Role with Full Access to AWS"
   ]
  }
 ],
 "metadata": {
  "kernelspec": {
   "display_name": "Python 3",
   "language": "python",
   "name": "python3"
  },
  "language_info": {
   "codemirror_mode": {
    "name": "ipython",
    "version": 3
   },
   "file_extension": ".py",
   "mimetype": "text/x-python",
   "name": "python",
   "nbconvert_exporter": "python",
   "pygments_lexer": "ipython3",
   "version": "3.7.9"
  }
 },
 "nbformat": 4,
 "nbformat_minor": 4
}
