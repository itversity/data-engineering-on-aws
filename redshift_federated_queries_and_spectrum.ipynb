{
 "cells": [
  {
   "cell_type": "markdown",
   "metadata": {},
   "source": [
    "* Overview of integrating different Database Servers"
   ]
  },
  {
   "cell_type": "markdown",
   "metadata": {},
   "source": [
    "* Create IAM Role for Redshift Federated Queries and Spectrum"
   ]
  },
  {
   "cell_type": "markdown",
   "metadata": {},
   "source": [
    "* Create Postgres Database Server"
   ]
  },
  {
   "cell_type": "markdown",
   "metadata": {},
   "source": [
    "* Create Postgres Database, User and Tables\n",
    "\n",
    "```shell\n",
    "psql -h retail.cfrxujtpbrro.us-east-1.rds.amazonaws.com \\\n",
    "  -p 5432 \\\n",
    "  -U postgres \\\n",
    "  -W\n",
    "```\n",
    "\n",
    "```sql\n",
    "CREATE DATABASE retail_db;\n",
    "CREATE USER retail_user WITH ENCRYPTED PASSWORD 'itversity123';\n",
    "GRANT ALL ON DATABASE retail_db TO retail_user;\n",
    "\n",
    "\\q\n",
    "```\n",
    "\n",
    "```shell\n",
    "psql -h retail.cfrxujtpbrro.us-east-1.rds.amazonaws.com \\\n",
    "  -p 5432 \\\n",
    "  -U retail_user \\\n",
    "  -d retail_db \\\n",
    "  -W\n",
    "```\n",
    "\n",
    "```sql\n",
    "\\i /Users/itversity/Research/data/retail_db_json/create_db_tables_pg.sql\n",
    "\\d\n",
    "\n",
    "\\q\n",
    "```"
   ]
  },
  {
   "cell_type": "markdown",
   "metadata": {},
   "source": [
    "* Store new Secret using Secrets Manager\n",
    "\n",
    "\n",
    "**retail.password** is the secret name."
   ]
  },
  {
   "cell_type": "markdown",
   "metadata": {},
   "source": [
    "* Accessing Secrets Manager using Python boto3"
   ]
  },
  {
   "cell_type": "code",
   "execution_count": null,
   "metadata": {},
   "outputs": [],
   "source": [
    "import boto3"
   ]
  },
  {
   "cell_type": "code",
   "execution_count": null,
   "metadata": {},
   "outputs": [],
   "source": [
    "secret_name = \"retail.secrets\"\n",
    "region_name = \"us-east-1\""
   ]
  },
  {
   "cell_type": "code",
   "execution_count": null,
   "metadata": {},
   "outputs": [],
   "source": [
    "session = boto3.session.Session()\n",
    "client = session.client(\n",
    "    service_name='secretsmanager',\n",
    "    region_name=region_name\n",
    ")"
   ]
  },
  {
   "cell_type": "code",
   "execution_count": null,
   "metadata": {},
   "outputs": [],
   "source": [
    "get_secret_value_response = client.get_secret_value(\n",
    "    SecretId=secret_name\n",
    ")"
   ]
  },
  {
   "cell_type": "code",
   "execution_count": null,
   "metadata": {},
   "outputs": [],
   "source": [
    "get_secret_value_response"
   ]
  },
  {
   "cell_type": "code",
   "execution_count": null,
   "metadata": {},
   "outputs": [],
   "source": [
    "get_secret_value_response['SecretString']"
   ]
  },
  {
   "cell_type": "code",
   "execution_count": null,
   "metadata": {},
   "outputs": [],
   "source": [
    "import json"
   ]
  },
  {
   "cell_type": "code",
   "execution_count": null,
   "metadata": {},
   "outputs": [],
   "source": [
    "secrets = json.loads(get_secret_value_response['SecretString'])"
   ]
  },
  {
   "cell_type": "code",
   "execution_count": null,
   "metadata": {},
   "outputs": [],
   "source": [
    "secrets"
   ]
  },
  {
   "cell_type": "markdown",
   "metadata": {},
   "source": [
    "* Integrating Secrets Manager with Applications"
   ]
  },
  {
   "cell_type": "code",
   "execution_count": null,
   "metadata": {},
   "outputs": [],
   "source": [
    "import pandas as pd"
   ]
  },
  {
   "cell_type": "code",
   "execution_count": null,
   "metadata": {},
   "outputs": [],
   "source": [
    "table_name = input('Enter table name: ')"
   ]
  },
  {
   "cell_type": "code",
   "execution_count": null,
   "metadata": {},
   "outputs": [],
   "source": [
    "BASE_DIR = f'/Users/itversity/Research/data/retail_db_json/{table_name}'"
   ]
  },
  {
   "cell_type": "code",
   "execution_count": null,
   "metadata": {},
   "outputs": [],
   "source": [
    "import os"
   ]
  },
  {
   "cell_type": "code",
   "execution_count": null,
   "metadata": {},
   "outputs": [],
   "source": [
    "file_name = os.listdir(BASE_DIR)[0]"
   ]
  },
  {
   "cell_type": "code",
   "execution_count": null,
   "metadata": {},
   "outputs": [],
   "source": [
    "file_name"
   ]
  },
  {
   "cell_type": "code",
   "execution_count": null,
   "metadata": {},
   "outputs": [],
   "source": [
    "file_path = f'{BASE_DIR}/{file_name}'"
   ]
  },
  {
   "cell_type": "code",
   "execution_count": null,
   "metadata": {},
   "outputs": [],
   "source": [
    "df = pd.read_json(file_path, lines=True)"
   ]
  },
  {
   "cell_type": "code",
   "execution_count": null,
   "metadata": {},
   "outputs": [],
   "source": [
    "import boto3\n",
    "\n",
    "secret_name = \"retail.secrets\"\n",
    "region_name = \"us-east-1\"\n",
    "\n",
    "session = boto3.session.Session()\n",
    "client = session.client(\n",
    "    service_name='secretsmanager',\n",
    "    region_name=region_name\n",
    ")\n",
    "\n",
    "get_secret_value_response = client.get_secret_value(\n",
    "    SecretId=secret_name\n",
    ")\n",
    "\n",
    "import json\n",
    "\n",
    "s = json.loads(get_secret_value_response['SecretString'])\n",
    "\n",
    "s"
   ]
  },
  {
   "cell_type": "code",
   "execution_count": null,
   "metadata": {},
   "outputs": [],
   "source": [
    "get_secret_value_response = client.get_secret_value(\n",
    "    SecretId=secret_name\n",
    ")"
   ]
  },
  {
   "cell_type": "code",
   "execution_count": null,
   "metadata": {},
   "outputs": [],
   "source": [
    "db_name = 'retail_db'"
   ]
  },
  {
   "cell_type": "code",
   "execution_count": null,
   "metadata": {},
   "outputs": [],
   "source": [
    "conn = f\"\"\"postgresql://{s['username']}:{s['password']}@{s['host']}:{s['port']}/{db_name}\"\"\""
   ]
  },
  {
   "cell_type": "code",
   "execution_count": null,
   "metadata": {},
   "outputs": [],
   "source": [
    "df.to_sql(table_name, conn, if_exists='append', index=False)"
   ]
  },
  {
   "cell_type": "code",
   "execution_count": 1,
   "metadata": {},
   "outputs": [],
   "source": [
    "import boto3\n",
    "import json\n",
    "\n",
    "def get_secrets(secret_name):\n",
    "    region_name = \"us-east-1\"\n",
    "\n",
    "    session = boto3.session.Session()\n",
    "    client = session.client(\n",
    "        service_name='secretsmanager',\n",
    "        region_name=region_name\n",
    "    )\n",
    "\n",
    "    get_secret_value_response = client.get_secret_value(\n",
    "        SecretId=secret_name\n",
    "    )\n",
    "\n",
    "    return json.loads(get_secret_value_response['SecretString'])"
   ]
  },
  {
   "cell_type": "code",
   "execution_count": 2,
   "metadata": {},
   "outputs": [],
   "source": [
    "import os\n",
    "import pandas as pd\n",
    "\n",
    "def json_to_df(BASE_DIR, table_name):\n",
    "    file_name = os.listdir(BASE_DIR.format(table_name=table_name))[0]\n",
    "    file_path = f'{BASE_DIR.format(table_name=table_name)}/{file_name}'\n",
    "    return pd.read_json(file_path, lines=True)"
   ]
  },
  {
   "cell_type": "code",
   "execution_count": 6,
   "metadata": {},
   "outputs": [
    {
     "name": "stdout",
     "output_type": "stream",
     "text": [
      "departments failed\n",
      "\n",
      "psycopg2 ERROR: (psycopg2.errors.UniqueViolation) duplicate key value violates unique constraint \"departments_pkey\"\n",
      "DETAIL:  Key (department_id)=(2) already exists.\n",
      "\n",
      "[SQL: INSERT INTO departments (department_id, department_name) VALUES (%(department_id)s, %(department_name)s)]\n",
      "[parameters: ({'department_id': 2, 'department_name': 'Fitness'}, {'department_id': 3, 'department_name': 'Footwear'}, {'department_id': 4, 'department_name': 'Apparel'}, {'department_id': 5, 'department_name': 'Golf'}, {'department_id': 6, 'department_name': 'Outdoors'}, {'department_id': 7, 'department_name': 'Fan Shop'})]\n",
      "(Background on this error at: https://sqlalche.me/e/14/gkpj) on line number: 10\n",
      "psycopg2 traceback: <traceback object at 0x1a29773c0> -- type: <class 'sqlalchemy.exc.IntegrityError'>\n",
      "categories failed\n",
      "\n",
      "psycopg2 ERROR: (psycopg2.errors.UniqueViolation) duplicate key value violates unique constraint \"categories_pkey\"\n",
      "DETAIL:  Key (category_id)=(1) already exists.\n",
      "\n",
      "[SQL: INSERT INTO categories (category_id, category_department_id, category_name) VALUES (%(category_id)s, %(category_department_id)s, %(category_name)s)]\n",
      "[parameters: ({'category_id': 1, 'category_department_id': 2, 'category_name': 'Football'}, {'category_id': 2, 'category_department_id': 2, 'category_name': 'Soccer'}, {'category_id': 3, 'category_department_id': 2, 'category_name': 'Baseball & Softball'}, {'category_id': 4, 'category_department_id': 2, 'category_name': 'Basketball'}, {'category_id': 5, 'category_department_id': 2, 'category_name': 'Lacrosse'}, {'category_id': 6, 'category_department_id': 2, 'category_name': 'Tennis & Racquet'}, {'category_id': 7, 'category_department_id': 2, 'category_name': 'Hockey'}, {'category_id': 8, 'category_department_id': 2, 'category_name': 'More Sports'}  ... displaying 10 of 58 total bound parameter sets ...  {'category_id': 57, 'category_department_id': 8, 'category_name': 'MLB Players'}, {'category_id': 58, 'category_department_id': 8, 'category_name': 'NFL Players'})]\n",
      "(Background on this error at: https://sqlalche.me/e/14/gkpj) on line number: 10\n",
      "psycopg2 traceback: <traceback object at 0x1a1d95550> -- type: <class 'sqlalchemy.exc.IntegrityError'>\n",
      "products failed\n",
      "\n",
      "psycopg2 ERROR: (psycopg2.errors.StringDataRightTruncation) value too long for type character varying(45)\n",
      "\n",
      "[SQL: INSERT INTO products (product_id, product_category_id, product_name, product_description, product_price, product_image) VALUES (%(product_id)s, %(product_category_id)s, %(product_name)s, %(product_description)s, %(product_price)s, %(product_image)s)]\n",
      "[parameters: ({'product_id': 1, 'product_category_id': 2, 'product_name': 'Quest Q64 10 FT. x 10 FT. Slant Leg Instant U', 'product_description': '', 'product_price': 59.98, 'product_image': 'http://images.acmesports.sports/Quest+Q64+10+FT.+x+10+FT.+Slant+Leg+Instant+Up+Canopy'}, {'product_id': 2, 'product_category_id': 2, 'product_name': \"Under Armour Men's Highlight MC Football Clea\", 'product_description': '', 'product_price': 129.99, 'product_image': 'http://images.acmesports.sports/Under+Armour+Men%27s+Highlight+MC+Football+Cleat'}, {'product_id': 3, 'product_category_id': 2, 'product_name': \"Under Armour Men's Renegade D Mid Football Cl\", 'product_description': '', 'product_price': 89.99, 'product_image': 'http://images.acmesports.sports/Under+Armour+Men%27s+Renegade+D+Mid+Football+Cleat'}, {'product_id': 4, 'product_category_id': 2, 'product_name': \"Under Armour Men's Renegade D Mid Football Cl\", 'product_description': '', 'product_price': 89.99, 'product_image': 'http://images.acmesports.sports/Under+Armour+Men%27s+Renegade+D+Mid+Football+Cleat'}, {'product_id': 5, 'product_category_id': 2, 'product_name': 'Riddell Youth Revolution Speed Custom Footbal', 'product_description': '', 'product_price': 199.99, 'product_image': 'http://images.acmesports.sports/Riddell+Youth+Revolution+Speed+Custom+Football+Helmet'}, {'product_id': 6, 'product_category_id': 2, 'product_name': \"Jordan Men's VI Retro TD Football Cleat\", 'product_description': '', 'product_price': 134.99, 'product_image': 'http://images.acmesports.sports/Jordan+Men%27s+VI+Retro+TD+Football+Cleat'}, {'product_id': 7, 'product_category_id': 2, 'product_name': 'Schutt Youth Recruit Hybrid Custom Football H', 'product_description': '', 'product_price': 99.99, 'product_image': 'http://images.acmesports.sports/Schutt+Youth+Recruit+Hybrid+Custom+Football+Helmet+2014'}, {'product_id': 8, 'product_category_id': 2, 'product_name': \"Nike Men's Vapor Carbon Elite TD Football Cle\", 'product_description': '', 'product_price': 129.99, 'product_image': 'http://images.acmesports.sports/Nike+Men%27s+Vapor+Carbon+Elite+TD+Football+Cleat'}  ... displaying 10 of 1345 total bound parameter sets ...  {'product_id': 1344, 'product_category_id': 59, 'product_name': \"Nike Men's Home Game Jersey St. Louis Rams Aa\", 'product_description': '', 'product_price': 100.0, 'product_image': 'http://images.acmesports.sports/Nike+Men%27s+Home+Game+Jersey+St.+Louis+Rams+Aaron+Donald+%2399'}, {'product_id': 1345, 'product_category_id': 59, 'product_name': \"Nike Men's Home Game Jersey St. Louis Rams Gr\", 'product_description': '', 'product_price': 100.0, 'product_image': 'http://images.acmesports.sports/Nike+Men%27s+Home+Game+Jersey+St.+Louis+Rams+Greg+Robinson...'})]\n",
      "(Background on this error at: https://sqlalche.me/e/14/9h9h) on line number: 10\n",
      "psycopg2 traceback: <traceback object at 0x1a2d675f0> -- type: <class 'sqlalchemy.exc.DataError'>\n",
      "order_items succesfully populated...\n",
      "customers succesfully populated...\n"
     ]
    }
   ],
   "source": [
    "import sys\n",
    "s = get_secrets('retail.secrets')\n",
    "db_name = 'retail_db'\n",
    "conn = f\"\"\"postgresql://{s['username']}:{s['password']}@{s['host']}:{s['port']}/{db_name}\"\"\"\n",
    "\n",
    "BASE_DIR = '/Users/itversity/Research/data/retail_db_json/{table_name}'\n",
    "for table_name in ['departments', 'categories', 'products', 'order_items', 'customers']:\n",
    "    try:\n",
    "        df = json_to_df(BASE_DIR, table_name)\n",
    "        df.to_sql(table_name, conn, if_exists='append', index=False)\n",
    "        print(f'{table_name} succesfully populated...')\n",
    "    except Exception as err:\n",
    "        print(f'{table_name} failed')\n",
    "        err_type, err_obj, traceback = sys.exc_info()\n",
    "\n",
    "        line_num = traceback.tb_lineno\n",
    "        print (\"\\npsycopg2 ERROR:\", err, \"on line number:\", line_num)\n",
    "        print (\"psycopg2 traceback:\", traceback, \"-- type:\", err_type)"
   ]
  },
  {
   "cell_type": "markdown",
   "metadata": {},
   "source": [
    "* Create IAM Policy for Secrets Manager"
   ]
  },
  {
   "cell_type": "markdown",
   "metadata": {},
   "source": [
    "* Associate IAM Policy to IAM Role for Federated Queries and Spectrum"
   ]
  },
  {
   "cell_type": "markdown",
   "metadata": {},
   "source": [
    "* Create Redshift External Schema for Postgres Database"
   ]
  },
  {
   "cell_type": "markdown",
   "metadata": {},
   "source": [
    "* Run Redshift Federated Queries"
   ]
  },
  {
   "cell_type": "markdown",
   "metadata": {},
   "source": [
    "* Quick recap of Glue Databases and Tables"
   ]
  },
  {
   "cell_type": "markdown",
   "metadata": {},
   "source": [
    "* Associate IAM Policy to Redshift Role to grant permissions on Glue"
   ]
  },
  {
   "cell_type": "markdown",
   "metadata": {},
   "source": [
    "* Create Redshift External Schema for Glue Database using Spectrum"
   ]
  },
  {
   "cell_type": "markdown",
   "metadata": {},
   "source": [
    "* Run Redshift Spectrum Queries"
   ]
  },
  {
   "cell_type": "code",
   "execution_count": null,
   "metadata": {},
   "outputs": [],
   "source": []
  }
 ],
 "metadata": {
  "kernelspec": {
   "display_name": "Python 3",
   "language": "python",
   "name": "python3"
  },
  "language_info": {
   "codemirror_mode": {
    "name": "ipython",
    "version": 3
   },
   "file_extension": ".py",
   "mimetype": "text/x-python",
   "name": "python",
   "nbconvert_exporter": "python",
   "pygments_lexer": "ipython3",
   "version": "3.7.11"
  }
 },
 "nbformat": 4,
 "nbformat_minor": 4
}
