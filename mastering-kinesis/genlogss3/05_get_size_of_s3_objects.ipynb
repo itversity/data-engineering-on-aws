{
 "cells": [
  {
   "cell_type": "markdown",
   "id": "official-fourth",
   "metadata": {},
   "source": [
    "## Get Size of s3 objects\n",
    "\n",
    "Let us go through the details about how we can get size of s3 objects using `MaxKeys` and `Marker`. We will improvise on top of getting count of s3 objects.\n",
    "\n",
    "* Here is the code used to get count of objects in s3.\n",
    "\n",
    "```python\n",
    "marker = ''\n",
    "object_count = 0\n",
    "while True:\n",
    "    s3_objects = s3_client.list_objects(\n",
    "        Bucket='itv-genlogs',\n",
    "        Prefix='logs/year',\n",
    "        Marker=marker,\n",
    "        MaxKeys=200\n",
    "    ).get('Contents')\n",
    "    if not s3_objects:\n",
    "        break\n",
    "    object_count += len(s3_objects)\n",
    "    marker = s3_objects[-1]['Key']\n",
    "    print(marker)\n",
    "```\n",
    "\n",
    "* Create client with appropriate profile.\n",
    "* Invoke `list_objects` in pages using `MaxKeys` and `Marker`.\n",
    "* Each entry in the output of `list_objects` contain `Size` along with `Key` and other details.\n",
    "* Add the Size of each entry to get the total size of our s3 Bucket. The size in each entry will be in Bytes and you might have to convert to mega bytes."
   ]
  },
  {
   "cell_type": "code",
   "execution_count": 1,
   "id": "lesser-session",
   "metadata": {},
   "outputs": [],
   "source": [
    "import boto3"
   ]
  },
  {
   "cell_type": "code",
   "execution_count": 2,
   "id": "express-husband",
   "metadata": {},
   "outputs": [
    {
     "data": {
      "text/plain": [
       "'itvgenlogs'"
      ]
     },
     "execution_count": 2,
     "metadata": {},
     "output_type": "execute_result"
    }
   ],
   "source": [
    "import os\n",
    "os.environ.setdefault('AWS_PROFILE', 'itvgenlogs')"
   ]
  },
  {
   "cell_type": "code",
   "execution_count": 3,
   "id": "expired-timothy",
   "metadata": {},
   "outputs": [],
   "source": [
    "s3_client = boto3.client('s3')"
   ]
  },
  {
   "cell_type": "code",
   "execution_count": 4,
   "id": "monetary-match",
   "metadata": {},
   "outputs": [],
   "source": [
    "s3_objects = s3_client.list_objects(\n",
    "    Bucket='itv-genlogs',\n",
    "    Prefix='logs/year'\n",
    ")"
   ]
  },
  {
   "cell_type": "code",
   "execution_count": 5,
   "id": "decimal-chance",
   "metadata": {},
   "outputs": [
    {
     "data": {
      "text/plain": [
       "dict_keys(['ResponseMetadata', 'IsTruncated', 'Marker', 'Contents', 'Name', 'Prefix', 'MaxKeys', 'EncodingType'])"
      ]
     },
     "execution_count": 5,
     "metadata": {},
     "output_type": "execute_result"
    }
   ],
   "source": [
    "s3_objects.keys()"
   ]
  },
  {
   "cell_type": "code",
   "execution_count": 6,
   "id": "unlimited-sudan",
   "metadata": {},
   "outputs": [
    {
     "data": {
      "text/plain": [
       "{'Key': 'logs/year=2021/month=01/day=19/gen_logs_s3-3-2021-01-19-23-25-20-5e0bdd17-4852-4923-8bda-907badd4f180',\n",
       " 'LastModified': datetime.datetime(2021, 1, 19, 23, 26, 22, tzinfo=tzutc()),\n",
       " 'ETag': '\"63414c2398f48cd7c5affe0ae3af2132\"',\n",
       " 'Size': 24460,\n",
       " 'StorageClass': 'STANDARD'}"
      ]
     },
     "execution_count": 6,
     "metadata": {},
     "output_type": "execute_result"
    }
   ],
   "source": [
    "s3_objects['Contents'][0]"
   ]
  },
  {
   "cell_type": "code",
   "execution_count": 7,
   "id": "brilliant-developer",
   "metadata": {},
   "outputs": [
    {
     "data": {
      "text/plain": [
       "24460"
      ]
     },
     "execution_count": 7,
     "metadata": {},
     "output_type": "execute_result"
    }
   ],
   "source": [
    "s3_objects['Contents'][0]['Size']"
   ]
  },
  {
   "cell_type": "code",
   "execution_count": 9,
   "id": "oriental-jones",
   "metadata": {},
   "outputs": [],
   "source": [
    "objects_size = 0.0\n",
    "\n",
    "for s3_object in s3_objects['Contents']:\n",
    "    objects_size += s3_object['Size']"
   ]
  },
  {
   "cell_type": "code",
   "execution_count": 10,
   "id": "skilled-learning",
   "metadata": {},
   "outputs": [
    {
     "data": {
      "text/plain": [
       "15745760.0"
      ]
     },
     "execution_count": 10,
     "metadata": {},
     "output_type": "execute_result"
    }
   ],
   "source": [
    "objects_size"
   ]
  },
  {
   "cell_type": "code",
   "execution_count": 11,
   "id": "instant-pacific",
   "metadata": {},
   "outputs": [
    {
     "name": "stdout",
     "output_type": "stream",
     "text": [
      "Collecting hurry.filesize\n",
      "  Using cached hurry.filesize-0.9.tar.gz (2.8 kB)\n",
      "Requirement already satisfied: setuptools in ./genlogss3-venv/lib/python3.7/site-packages (from hurry.filesize) (47.1.0)\n",
      "Using legacy setup.py install for hurry.filesize, since package 'wheel' is not installed.\n",
      "Installing collected packages: hurry.filesize\n",
      "    Running setup.py install for hurry.filesize ... \u001b[?25ldone\n",
      "\u001b[?25hSuccessfully installed hurry.filesize-0.9\n",
      "\u001b[33mWARNING: You are using pip version 20.1.1; however, version 20.3.3 is available.\n",
      "You should consider upgrading via the '/Users/itversity/Projects/Internal/bootcamp/itversity-material/data-engineering-on-aws/mastering-kinesis/genlogss3/genlogss3-venv/bin/python3.7 -m pip install --upgrade pip' command.\u001b[0m\n"
     ]
    }
   ],
   "source": [
    "!pip install hurry.filesize"
   ]
  },
  {
   "cell_type": "code",
   "execution_count": 12,
   "id": "national-package",
   "metadata": {},
   "outputs": [
    {
     "data": {
      "text/plain": [
       "'15M'"
      ]
     },
     "execution_count": 12,
     "metadata": {},
     "output_type": "execute_result"
    }
   ],
   "source": [
    "from hurry.filesize import size\n",
    "size(objects_size)"
   ]
  },
  {
   "cell_type": "code",
   "execution_count": 16,
   "id": "russian-special",
   "metadata": {},
   "outputs": [
    {
     "name": "stdout",
     "output_type": "stream",
     "text": [
      "logs/year=2021/month=01/day=20/gen_logs_s3-3-2021-01-20-03-50-42-3dee3808-1a7c-4d75-b435-b97d97c04d17\n",
      "logs/year=2021/month=01/day=20/gen_logs_s3-3-2021-01-20-08-13-00-2ac79807-47d1-4d43-8929-9cd492e1be0d\n",
      "logs/year=2021/month=01/day=20/gen_logs_s3-3-2021-01-20-12-40-24-359c1ed3-ed6e-4465-a5ac-cbbe04ea6fb6\n",
      "logs/year=2021/month=01/day=20/gen_logs_s3-3-2021-01-20-16-57-37-37df71b3-9571-46b5-afa3-723d42323fd4\n",
      "logs/year=2021/month=01/day=20/gen_logs_s3-3-2021-01-20-21-26-01-e132440e-9f75-4c02-a94d-8c6d09f2c087\n",
      "logs/year=2021/month=01/day=21/gen_logs_s3-3-2021-01-21-01-52-25-8585ddba-c5e1-4b0d-8491-7c730dd09f6c\n",
      "logs/year=2021/month=01/day=21/gen_logs_s3-3-2021-01-21-06-15-22-4d987e84-d7c2-45a4-abf1-0c0b3d646e1c\n"
     ]
    }
   ],
   "source": [
    "marker = ''\n",
    "objects_size = 0.0\n",
    "while True:\n",
    "    s3_objects = s3_client.list_objects(\n",
    "        Bucket='itv-genlogs',\n",
    "        Prefix='logs/year',\n",
    "        Marker=marker,\n",
    "        MaxKeys=200\n",
    "    ).get('Contents')\n",
    "    if not s3_objects:\n",
    "        break\n",
    "    for s3_object in s3_objects:\n",
    "        objects_size += s3_object['Size']\n",
    "    marker = s3_objects[-1]['Key']\n",
    "    print(marker)"
   ]
  },
  {
   "cell_type": "code",
   "execution_count": 14,
   "id": "metallic-wheel",
   "metadata": {},
   "outputs": [
    {
     "data": {
      "text/plain": [
       "21736595.0"
      ]
     },
     "execution_count": 14,
     "metadata": {},
     "output_type": "execute_result"
    }
   ],
   "source": [
    "objects_size"
   ]
  },
  {
   "cell_type": "code",
   "execution_count": 15,
   "id": "prepared-mentor",
   "metadata": {},
   "outputs": [
    {
     "data": {
      "text/plain": [
       "'20M'"
      ]
     },
     "execution_count": 15,
     "metadata": {},
     "output_type": "execute_result"
    }
   ],
   "source": [
    "size(objects_size)"
   ]
  },
  {
   "cell_type": "code",
   "execution_count": null,
   "id": "natural-climate",
   "metadata": {},
   "outputs": [],
   "source": []
  }
 ],
 "metadata": {
  "kernelspec": {
   "display_name": "Python 3",
   "language": "python",
   "name": "python3"
  },
  "language_info": {
   "codemirror_mode": {
    "name": "ipython",
    "version": 3
   },
   "file_extension": ".py",
   "mimetype": "text/x-python",
   "name": "python",
   "nbconvert_exporter": "python",
   "pygments_lexer": "ipython3",
   "version": "3.7.9"
  }
 },
 "nbformat": 4,
 "nbformat_minor": 5
}
