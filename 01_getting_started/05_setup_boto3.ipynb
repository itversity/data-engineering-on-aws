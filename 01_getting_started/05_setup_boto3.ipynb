{
 "cells": [
  {
   "cell_type": "markdown",
   "metadata": {},
   "source": [
    "## Setup boto3\n",
    "* Login to jupyter based environment by using http://aws_public_ip/lab\n",
    "* Install boto3 and validate whether you can talk with s3 as well as glue or not."
   ]
  },
  {
   "cell_type": "code",
   "execution_count": null,
   "metadata": {},
   "outputs": [],
   "source": [
    "!pip install boto3"
   ]
  },
  {
   "cell_type": "markdown",
   "metadata": {},
   "source": [
    "* We need to create the client by passing the service such as `s3` or `glue`."
   ]
  },
  {
   "cell_type": "code",
   "execution_count": 6,
   "metadata": {},
   "outputs": [],
   "source": [
    "import boto3"
   ]
  },
  {
   "cell_type": "markdown",
   "metadata": {},
   "source": [
    "* Create s3 client and use `list_buckets` to get details about all the s3 buckets under the account."
   ]
  },
  {
   "cell_type": "code",
   "execution_count": 7,
   "metadata": {},
   "outputs": [],
   "source": [
    "s3_client = boto3.client('s3')"
   ]
  },
  {
   "cell_type": "code",
   "execution_count": 9,
   "metadata": {},
   "outputs": [
    {
     "data": {
      "text/plain": [
       "{'ResponseMetadata': {'RequestId': 'CEE77831A65523AF',\n",
       "  'HostId': 'uu1Qvl9vj6e88/n1cZ1NnKSY3au1yek2B89ShE97PnLHEA/6Uxnu5DPmMBe8hCvLyz75Ms5oYl8=',\n",
       "  'HTTPStatusCode': 200,\n",
       "  'HTTPHeaders': {'x-amz-id-2': 'uu1Qvl9vj6e88/n1cZ1NnKSY3au1yek2B89ShE97PnLHEA/6Uxnu5DPmMBe8hCvLyz75Ms5oYl8=',\n",
       "   'x-amz-request-id': 'CEE77831A65523AF',\n",
       "   'date': 'Tue, 19 Jan 2021 06:39:40 GMT',\n",
       "   'content-type': 'application/xml',\n",
       "   'transfer-encoding': 'chunked',\n",
       "   'server': 'AmazonS3'},\n",
       "  'RetryAttempts': 0},\n",
       " 'Buckets': [{'Name': 'ask-dg.com',\n",
       "   'CreationDate': datetime.datetime(2016, 11, 30, 9, 17, 19, tzinfo=tzutc())},\n",
       "  {'Name': 'aws-cloudtrail-logs-582845781536-85a675a2',\n",
       "   'CreationDate': datetime.datetime(2020, 11, 22, 6, 41, 36, tzinfo=tzutc())},\n",
       "  {'Name': 'aws-emr-resources-582845781536-us-east-1',\n",
       "   'CreationDate': datetime.datetime(2020, 8, 27, 14, 41, 4, tzinfo=tzutc())},\n",
       "  {'Name': 'aws-glue-assets-582845781536-us-east-1',\n",
       "   'CreationDate': datetime.datetime(2020, 10, 15, 17, 2, 19, tzinfo=tzutc())},\n",
       "  {'Name': 'aws-logs-582845781536-us-east-1',\n",
       "   'CreationDate': datetime.datetime(2017, 6, 30, 5, 28, 52, tzinfo=tzutc())},\n",
       "  {'Name': 'aws-logs-582845781536-us-east-2',\n",
       "   'CreationDate': datetime.datetime(2018, 8, 11, 2, 34, 2, tzinfo=tzutc())},\n",
       "  {'Name': 'bdclouddemo',\n",
       "   'CreationDate': datetime.datetime(2018, 8, 12, 16, 44, 22, tzinfo=tzutc())},\n",
       "  {'Name': 'bigdata-labs.com',\n",
       "   'CreationDate': datetime.datetime(2017, 1, 21, 9, 9, 28, tzinfo=tzutc())},\n",
       "  {'Name': 'corpitversity',\n",
       "   'CreationDate': datetime.datetime(2017, 7, 6, 23, 56, 55, tzinfo=tzutc())},\n",
       "  {'Name': 'emrlabs',\n",
       "   'CreationDate': datetime.datetime(2018, 2, 6, 19, 42, 32, tzinfo=tzutc())},\n",
       "  {'Name': 'itc-app-images',\n",
       "   'CreationDate': datetime.datetime(2019, 10, 1, 4, 56, 24, tzinfo=tzutc())},\n",
       "  {'Name': 'itc-course-images',\n",
       "   'CreationDate': datetime.datetime(2019, 9, 18, 11, 31, 29, tzinfo=tzutc())},\n",
       "  {'Name': 'itc-course-images-uat',\n",
       "   'CreationDate': datetime.datetime(2019, 10, 1, 4, 46, 36, tzinfo=tzutc())},\n",
       "  {'Name': 'itc-uat-images',\n",
       "   'CreationDate': datetime.datetime(2019, 10, 1, 4, 49, 17, tzinfo=tzutc())},\n",
       "  {'Name': 'itv-app-images',\n",
       "   'CreationDate': datetime.datetime(2019, 10, 1, 5, 0, 59, tzinfo=tzutc())},\n",
       "  {'Name': 'itv-genlogs',\n",
       "   'CreationDate': datetime.datetime(2021, 1, 19, 0, 54, 16, tzinfo=tzutc())},\n",
       "  {'Name': 'itv-jupyterlogs',\n",
       "   'CreationDate': datetime.datetime(2021, 1, 12, 12, 41, 1, tzinfo=tzutc())},\n",
       "  {'Name': 'itvcdp',\n",
       "   'CreationDate': datetime.datetime(2021, 1, 6, 18, 57, 51, tzinfo=tzutc())},\n",
       "  {'Name': 'itvdemo',\n",
       "   'CreationDate': datetime.datetime(2021, 1, 11, 4, 59, 56, tzinfo=tzutc())},\n",
       "  {'Name': 'itversity',\n",
       "   'CreationDate': datetime.datetime(2016, 10, 30, 4, 6, 27, tzinfo=tzutc())},\n",
       "  {'Name': 'itversity-databricks',\n",
       "   'CreationDate': datetime.datetime(2019, 8, 15, 5, 6, 55, tzinfo=tzutc())},\n",
       "  {'Name': 'itversity-databricks-data',\n",
       "   'CreationDate': datetime.datetime(2019, 9, 27, 15, 38, 28, tzinfo=tzutc())},\n",
       "  {'Name': 'itversity-student-enroll',\n",
       "   'CreationDate': datetime.datetime(2018, 5, 10, 18, 49, 3, tzinfo=tzutc())},\n",
       "  {'Name': 'itversitydata',\n",
       "   'CreationDate': datetime.datetime(2017, 7, 1, 0, 48, 3, tzinfo=tzutc())},\n",
       "  {'Name': 'kaizen.itversity.com',\n",
       "   'CreationDate': datetime.datetime(2021, 1, 7, 16, 10, 18, tzinfo=tzutc())},\n",
       "  {'Name': 'labs.itversity.com',\n",
       "   'CreationDate': datetime.datetime(2017, 1, 21, 5, 58, 18, tzinfo=tzutc())},\n",
       "  {'Name': 'notifyme.itversity.com',\n",
       "   'CreationDate': datetime.datetime(2019, 8, 17, 3, 55, 20, tzinfo=tzutc())},\n",
       "  {'Name': 'pdcdemo',\n",
       "   'CreationDate': datetime.datetime(2019, 3, 16, 8, 34, 1, tzinfo=tzutc())},\n",
       "  {'Name': 'uat.bigdata-labs.com',\n",
       "   'CreationDate': datetime.datetime(2017, 1, 17, 18, 35, 54, tzinfo=tzutc())},\n",
       "  {'Name': 'uatlabs.itversity.com',\n",
       "   'CreationDate': datetime.datetime(2017, 1, 17, 18, 36, 31, tzinfo=tzutc())},\n",
       "  {'Name': 'usingboto3',\n",
       "   'CreationDate': datetime.datetime(2018, 12, 2, 6, 18, 9, tzinfo=tzutc())},\n",
       "  {'Name': 'www.bigdata-labs.com',\n",
       "   'CreationDate': datetime.datetime(2017, 1, 21, 9, 10, 36, tzinfo=tzutc())},\n",
       "  {'Name': 'www.itversity.com',\n",
       "   'CreationDate': datetime.datetime(2017, 1, 26, 1, 1, 38, tzinfo=tzutc())}],\n",
       " 'Owner': {'DisplayName': 'dgadiraju',\n",
       "  'ID': 'af3f4735121b445e3ce11fbf7c9260feee5879b1e45e0b6142690bc5065c78a1'}}"
      ]
     },
     "execution_count": 9,
     "metadata": {},
     "output_type": "execute_result"
    }
   ],
   "source": [
    "s3_client.list_buckets()"
   ]
  },
  {
   "cell_type": "code",
   "execution_count": null,
   "metadata": {},
   "outputs": [],
   "source": [
    "%%sh\n",
    "\n",
    "aws s3 ls s3://itv-jupyterlogs/2021/01/18/11/"
   ]
  },
  {
   "cell_type": "code",
   "execution_count": null,
   "metadata": {},
   "outputs": [],
   "source": [
    "s3_client.list_objects?"
   ]
  },
  {
   "cell_type": "code",
   "execution_count": 14,
   "metadata": {},
   "outputs": [
    {
     "name": "stdout",
     "output_type": "stream",
     "text": [
      "2021/01/19/06/jupyterlog_events-1-2021-01-19-06-00-41-c895151e-11c5-4afb-b9e0-1dfaff6032a5\n",
      "2021/01/19/06/jupyterlog_events-1-2021-01-19-06-06-02-8c363cdd-30f4-491e-9542-9fb83ee63f31\n",
      "2021/01/19/06/jupyterlog_events-1-2021-01-19-06-11-49-955b233f-f3d5-4379-9bc8-a7f8abb18dc0\n",
      "2021/01/19/06/jupyterlog_events-1-2021-01-19-06-17-59-3ebf730d-2a43-4a60-a873-726603a2663f\n",
      "2021/01/19/06/jupyterlog_events-1-2021-01-19-06-23-14-f277296a-671f-4dc6-8371-d572666c7ebe\n",
      "2021/01/19/06/jupyterlog_events-1-2021-01-19-06-31-02-4d05feb2-a5c5-41c0-991a-21f4bffab7de\n",
      "2021/01/19/06/jupyterlog_events-1-2021-01-19-06-38-32-7b9065a7-9e9d-49d4-b05b-894639b8671c\n"
     ]
    }
   ],
   "source": [
    "for object_details in s3_client.list_objects(\n",
    "    Bucket='itv-jupyterlogs',\n",
    "    Prefix='',\n",
    "    Marker='2021/01/19/05/jupyterlog_events-1-2021-01-19-05-52-57-253304aa-638b-4ed2-a951-cae52cb3c4f2'\n",
    ")['Contents']:\n",
    "    print(object_details['Key'])"
   ]
  },
  {
   "cell_type": "code",
   "execution_count": null,
   "metadata": {},
   "outputs": [],
   "source": [
    "s3_client.get_object?"
   ]
  },
  {
   "cell_type": "code",
   "execution_count": null,
   "metadata": {},
   "outputs": [],
   "source": [
    "import json\n",
    "for object_details in s3_client.list_objects(\n",
    "    Bucket='itv-jupyterlogs',\n",
    "    Prefix='2021/01/18/11/'\n",
    ")['Contents']:\n",
    "    content_object = s3_client.get_object(\n",
    "        Bucket='itv-jupyterlogs', Key=object_details['Key']\n",
    "    )\n",
    "    file_content = content_object['Body'].read().decode('utf-8')\n",
    "    d"
   ]
  },
  {
   "cell_type": "code",
   "execution_count": null,
   "metadata": {},
   "outputs": [],
   "source": [
    "boto3.client?"
   ]
  },
  {
   "cell_type": "markdown",
   "metadata": {},
   "source": [
    "* Create glue client with region and use `list_jobs` to get details about all the glue jobs under the account. It is mandatory to specify the region to interact with Glue."
   ]
  },
  {
   "cell_type": "code",
   "execution_count": null,
   "metadata": {},
   "outputs": [],
   "source": [
    "glue_client = boto3.client('glue', 'us-east-1')"
   ]
  },
  {
   "cell_type": "code",
   "execution_count": null,
   "metadata": {},
   "outputs": [],
   "source": [
    "glue_client.list_jobs()"
   ]
  }
 ],
 "metadata": {
  "kernelspec": {
   "display_name": "Python 3",
   "language": "python",
   "name": "python3"
  },
  "language_info": {
   "codemirror_mode": {
    "name": "ipython",
    "version": 3
   },
   "file_extension": ".py",
   "mimetype": "text/x-python",
   "name": "python",
   "nbconvert_exporter": "python",
   "pygments_lexer": "ipython3",
   "version": "3.7.9"
  }
 },
 "nbformat": 4,
 "nbformat_minor": 4
}
