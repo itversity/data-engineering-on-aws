{
 "cells": [
  {
   "cell_type": "markdown",
   "metadata": {},
   "source": [
    "* Getting Started with AWS Boto3 for s3\n",
    "* Manage AWS s3 Buckets using Boto3\n",
    "* List AWS s3 objects using Boto3\n",
    "* Upload Files to AWS s3 using Boto3\n",
    "* Understand AWS s3 object Metadata\n",
    "* Exercise and Solution - Upload and List AWS s3 Objects"
   ]
  }
 ],
 "metadata": {
  "language_info": {
   "name": "python"
  },
  "orig_nbformat": 4
 },
 "nbformat": 4,
 "nbformat_minor": 2
}
