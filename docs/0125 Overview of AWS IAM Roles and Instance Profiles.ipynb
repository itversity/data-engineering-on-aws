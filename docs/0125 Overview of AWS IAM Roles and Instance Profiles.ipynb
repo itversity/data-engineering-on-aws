{
 "cells": [
  {
   "cell_type": "markdown",
   "metadata": {},
   "source": [
    "* Overview of AWS IAM Roles\n",
    "* Create AWS IAM Role using Management Console\n",
    "* Review AWS IAM Policies Assigned to Role\n",
    "* Create Instance Profile\n",
    "* Attach Instance Profile to AWS EC2 Instance\n",
    "* Validate Instance Profile using AWS EC2 Instance\n",
    "* Exercise and Solution - Update Instance Profile and Validate Permissions"
   ]
  }
 ],
 "metadata": {
  "language_info": {
   "name": "python"
  },
  "orig_nbformat": 4
 },
 "nbformat": 4,
 "nbformat_minor": 2
}
