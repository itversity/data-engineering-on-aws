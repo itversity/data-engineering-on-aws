{
 "cells": [
  {
   "cell_type": "code",
   "execution_count": 1,
   "id": "static-blocking",
   "metadata": {},
   "outputs": [],
   "source": [
    "import requests"
   ]
  },
  {
   "cell_type": "code",
   "execution_count": 2,
   "id": "velvet-denver",
   "metadata": {},
   "outputs": [],
   "source": [
    "filename = '2021-01-20-21.json.gz'"
   ]
  },
  {
   "cell_type": "code",
   "execution_count": 3,
   "id": "daily-texas",
   "metadata": {},
   "outputs": [],
   "source": [
    "res = requests.get(f'https://data.gharchive.org/{filename}')"
   ]
  },
  {
   "cell_type": "code",
   "execution_count": 6,
   "id": "failing-warrant",
   "metadata": {},
   "outputs": [],
   "source": [
    "file = open(filename, 'wb')"
   ]
  },
  {
   "cell_type": "code",
   "execution_count": 7,
   "id": "veterinary-aurora",
   "metadata": {},
   "outputs": [
    {
     "data": {
      "text/plain": [
       "86405208"
      ]
     },
     "execution_count": 7,
     "metadata": {},
     "output_type": "execute_result"
    }
   ],
   "source": [
    "file.write(res.content)"
   ]
  },
  {
   "cell_type": "code",
   "execution_count": 8,
   "id": "outdoor-onion",
   "metadata": {},
   "outputs": [],
   "source": [
    "file.close()"
   ]
  },
  {
   "cell_type": "code",
   "execution_count": null,
   "id": "further-listing",
   "metadata": {},
   "outputs": [],
   "source": []
  }
 ],
 "metadata": {
  "kernelspec": {
   "display_name": "Python 3",
   "language": "python",
   "name": "python3"
  },
  "language_info": {
   "codemirror_mode": {
    "name": "ipython",
    "version": 3
   },
   "file_extension": ".py",
   "mimetype": "text/x-python",
   "name": "python",
   "nbconvert_exporter": "python",
   "pygments_lexer": "ipython3",
   "version": "3.7.9"
  }
 },
 "nbformat": 4,
 "nbformat_minor": 5
}
