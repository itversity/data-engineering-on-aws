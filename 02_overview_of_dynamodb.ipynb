{
 "cells": [
  {
   "cell_type": "markdown",
   "metadata": {},
   "source": [
    "As part of this topic we will get an overview of DynamoDB. We will create table and load data into the table."
   ]
  },
  {
   "cell_type": "markdown",
   "metadata": {},
   "source": [
    "## Create Dynamodb Table\n",
    "\n",
    "Here are the steps you need to follow to create DynamoDB table.\n",
    "* Go to AWS Web Console\n",
    "* Go to tables and click on **Create table**\n",
    "* You need to enter following details.\n",
    "  * Table name - emails\n",
    "  * Primary key (Hash) - email_id\n",
    "  * We can also create composite Primary key with hash and then sort.\n",
    "* For demo purpose we will try to upload the data from Google Sheet to Dynamo DB Table.\n",
    "* Here is the table structure we are going to use. As Dynamodb tables does not have predefined schemas we will not specify columns while creating the tables.\n",
    "  * Email Id (Primary Key)\n",
    "  * First Name\n",
    "  * Last Name\n",
    "  * Forms Filled (list)"
   ]
  },
  {
   "cell_type": "code",
   "execution_count": 49,
   "metadata": {},
   "outputs": [
    {
     "name": "stdout",
     "output_type": "stream",
     "text": [
      "{\n",
      "    \"TableNames\": [\n",
      "        \"emails\",\n",
      "        \"posts\"\n",
      "    ]\n",
      "}\n"
     ]
    }
   ],
   "source": [
    "%%sh\n",
    "\n",
    "aws dynamodb list-tables"
   ]
  },
  {
   "cell_type": "code",
   "execution_count": null,
   "metadata": {},
   "outputs": [],
   "source": [
    "%%sh\n",
    "\n",
    "aws dynamodb delete-table \\\n",
    "    --table-name posts"
   ]
  },
  {
   "cell_type": "code",
   "execution_count": 3,
   "metadata": {},
   "outputs": [
    {
     "name": "stdout",
     "output_type": "stream",
     "text": [
      "{\n",
      "    \"TableDescription\": {\n",
      "        \"AttributeDefinitions\": [\n",
      "            {\n",
      "                \"AttributeName\": \"content_url\",\n",
      "                \"AttributeType\": \"S\"\n",
      "            }\n",
      "        ],\n",
      "        \"TableName\": \"posts\",\n",
      "        \"KeySchema\": [\n",
      "            {\n",
      "                \"AttributeName\": \"content_url\",\n",
      "                \"KeyType\": \"HASH\"\n",
      "            }\n",
      "        ],\n",
      "        \"TableStatus\": \"CREATING\",\n",
      "        \"CreationDateTime\": \"2021-01-02T19:43:44.332000+05:30\",\n",
      "        \"ProvisionedThroughput\": {\n",
      "            \"NumberOfDecreasesToday\": 0,\n",
      "            \"ReadCapacityUnits\": 0,\n",
      "            \"WriteCapacityUnits\": 0\n",
      "        },\n",
      "        \"TableSizeBytes\": 0,\n",
      "        \"ItemCount\": 0,\n",
      "        \"TableArn\": \"arn:aws:dynamodb:us-east-1:582845781536:table/posts\",\n",
      "        \"TableId\": \"3a7ce881-9898-479b-b613-843229628007\",\n",
      "        \"BillingModeSummary\": {\n",
      "            \"BillingMode\": \"PAY_PER_REQUEST\"\n",
      "        }\n",
      "    }\n",
      "}\n"
     ]
    }
   ],
   "source": [
    "%%sh\n",
    "\n",
    "aws dynamodb create-table \\\n",
    "    --table-name posts \\\n",
    "    --attribute-definitions AttributeName=content_url,AttributeType=S \\\n",
    "    --key-schema AttributeName=content_url,KeyType=HASH \\\n",
    "    --billing-mode PAY_PER_REQUEST"
   ]
  },
  {
   "cell_type": "code",
   "execution_count": 51,
   "metadata": {},
   "outputs": [
    {
     "name": "stdout",
     "output_type": "stream",
     "text": [
      "{\n",
      "    \"Table\": {\n",
      "        \"AttributeDefinitions\": [\n",
      "            {\n",
      "                \"AttributeName\": \"content_url\",\n",
      "                \"AttributeType\": \"S\"\n",
      "            }\n",
      "        ],\n",
      "        \"TableName\": \"posts\",\n",
      "        \"KeySchema\": [\n",
      "            {\n",
      "                \"AttributeName\": \"content_url\",\n",
      "                \"KeyType\": \"HASH\"\n",
      "            }\n",
      "        ],\n",
      "        \"TableStatus\": \"ACTIVE\",\n",
      "        \"CreationDateTime\": \"2021-01-02T19:43:44.332000+05:30\",\n",
      "        \"ProvisionedThroughput\": {\n",
      "            \"NumberOfDecreasesToday\": 0,\n",
      "            \"ReadCapacityUnits\": 0,\n",
      "            \"WriteCapacityUnits\": 0\n",
      "        },\n",
      "        \"TableSizeBytes\": 0,\n",
      "        \"ItemCount\": 0,\n",
      "        \"TableArn\": \"arn:aws:dynamodb:us-east-1:582845781536:table/posts\",\n",
      "        \"TableId\": \"3a7ce881-9898-479b-b613-843229628007\",\n",
      "        \"BillingModeSummary\": {\n",
      "            \"BillingMode\": \"PAY_PER_REQUEST\",\n",
      "            \"LastUpdateToPayPerRequestDateTime\": \"2021-01-02T19:43:44.332000+05:30\"\n",
      "        }\n",
      "    }\n",
      "}\n"
     ]
    }
   ],
   "source": [
    "%%sh\n",
    "\n",
    "aws dynamodb \\\n",
    "    describe-table \\\n",
    "    --table-name posts"
   ]
  },
  {
   "cell_type": "markdown",
   "metadata": {},
   "source": [
    "## Inserts using Web Console\n",
    "\n",
    "Here are the steps you can follow to insert items manually using AWS Web Console.\n",
    "* Go to Dynamodb Dashboard\n",
    "* Click on the table\n",
    "* Go to Items\n",
    "* Click on Create item\n",
    "* Choose Tree (default) or Text\n",
    "* You can enter JSON directly by clicking on Text."
   ]
  },
  {
   "cell_type": "markdown",
   "metadata": {},
   "source": [
    "Here is the example for insert using CLI command`aws dynamodb put-item`. Even though we can take care of updates (conditional put items) using CLI, it is a bit cumbersome."
   ]
  },
  {
   "cell_type": "code",
   "execution_count": 10,
   "metadata": {},
   "outputs": [
    {
     "data": {
      "text/plain": [
       "{'content_url': {'S': 'https://example.com'},\n",
       " 'content_title': {'S': 'Some Title'},\n",
       " 'contents': {'S': '<h1>Hello World</h1>'},\n",
       " 'post_details': {'M': {'post_id': {'N': 10},\n",
       "   'post_link': {'S': 'https://post.com/some-title'}}}}"
      ]
     },
     "execution_count": 10,
     "metadata": {},
     "output_type": "execute_result"
    }
   ],
   "source": [
    "{\n",
    "    \"content_url\": {\n",
    "        \"S\": \"https://example.com\"\n",
    "    },\n",
    "    \"content_title\": {\n",
    "        \"S\": \"Some Title\"\n",
    "    },\n",
    "    \"contents\": {\n",
    "        \"S\": \"<h1>Hello World</h1>\"\n",
    "    },\n",
    "    \"post_details\": {\n",
    "        \"M\": {\n",
    "            \"post_id\": {\n",
    "                \"N\": \"10\"\n",
    "            }, \n",
    "            \"post_link\": {\n",
    "                \"S\": \"https://post.com/some-title\"\n",
    "            }\n",
    "        }\n",
    "    }\n",
    "}"
   ]
  },
  {
   "cell_type": "code",
   "execution_count": null,
   "metadata": {},
   "outputs": [],
   "source": [
    "%%sh\n",
    "\n",
    "aws dynamodb put-item \\\n",
    "              --table-name posts \\\n",
    "              --item file://post_item.json \\\n",
    "              --return-consumed-capacity TOTAL \\\n",
    "              --return-item-collection-metrics SIZE"
   ]
  },
  {
   "cell_type": "code",
   "execution_count": 11,
   "metadata": {},
   "outputs": [
    {
     "name": "stdout",
     "output_type": "stream",
     "text": [
      "{\n",
      "    \"Item\": {\n",
      "        \"contents\": {\n",
      "            \"S\": \"<h1>Hello World</h1>\"\n",
      "        },\n",
      "        \"content_title\": {\n",
      "            \"S\": \"Some Title\"\n",
      "        },\n",
      "        \"post_details\": {\n",
      "            \"M\": {\n",
      "                \"post_id\": {\n",
      "                    \"N\": \"10\"\n",
      "                },\n",
      "                \"post_link\": {\n",
      "                    \"S\": \"https://post.com/some-title\"\n",
      "                }\n",
      "            }\n",
      "        },\n",
      "        \"content_url\": {\n",
      "            \"S\": \"https://example.com\"\n",
      "        }\n",
      "    }\n",
      "}\n"
     ]
    }
   ],
   "source": [
    "%%sh\n",
    "\n",
    "aws dynamodb get-item \\\n",
    "              --table-name posts \\\n",
    "              --key '{\"content_url\": {\"S\": \"https://example.com\"}}' \\"
   ]
  },
  {
   "cell_type": "markdown",
   "metadata": {},
   "source": [
    "## CRUD Operations - Prerequisites\n",
    "\n",
    "Let us understand the prerequisites to perform CRUD operations on Dynamodb tables.\n",
    "* We need to ensure boto library is installed - pip install boto3.\n",
    "* We need to import boto3 and then follow these steps to insert an item to dynamodb table.\n",
    "  * Create boto3 resource using dynamodb. Let's name it as dynamodb.\n",
    "  * Once resource is created, we need to create table object invoking `Table`.\n",
    "  * Using the table object, we should be able to perform CRUD Operations such as create or insert, read or query, update as well as delete."
   ]
  },
  {
   "cell_type": "code",
   "execution_count": 18,
   "metadata": {},
   "outputs": [
    {
     "name": "stdout",
     "output_type": "stream",
     "text": [
      "Collecting boto3\n",
      "  Downloading boto3-1.16.40-py2.py3-none-any.whl (130 kB)\n",
      "\u001b[K     |████████████████████████████████| 130 kB 3.2 MB/s eta 0:00:01\n",
      "\u001b[?25hCollecting botocore<1.20.0,>=1.19.40\n",
      "  Downloading botocore-1.19.40-py2.py3-none-any.whl (7.1 MB)\n",
      "\u001b[K     |████████████████████████████████| 7.1 MB 9.9 MB/s eta 0:00:01\n",
      "\u001b[?25hCollecting s3transfer<0.4.0,>=0.3.0\n",
      "  Using cached s3transfer-0.3.3-py2.py3-none-any.whl (69 kB)\n",
      "Collecting jmespath<1.0.0,>=0.7.1\n",
      "  Using cached jmespath-0.10.0-py2.py3-none-any.whl (24 kB)\n",
      "Requirement already satisfied: python-dateutil<3.0.0,>=2.1 in ./deaws-env/lib/python3.7/site-packages (from botocore<1.20.0,>=1.19.40->boto3) (2.8.1)\n",
      "Requirement already satisfied: urllib3<1.27,>=1.25.4; python_version != \"3.4\" in ./deaws-env/lib/python3.7/site-packages (from botocore<1.20.0,>=1.19.40->boto3) (1.26.2)\n",
      "Requirement already satisfied: six>=1.5 in ./deaws-env/lib/python3.7/site-packages (from python-dateutil<3.0.0,>=2.1->botocore<1.20.0,>=1.19.40->boto3) (1.15.0)\n",
      "Installing collected packages: jmespath, botocore, s3transfer, boto3\n",
      "Successfully installed boto3-1.16.40 botocore-1.19.40 jmespath-0.10.0 s3transfer-0.3.3\n",
      "\u001b[33mWARNING: You are using pip version 20.1.1; however, version 20.3.3 is available.\n",
      "You should consider upgrading via the '/Users/itversity/Projects/Internal/bootcamp/itversity-material/data-engineering-on-aws/deaws-env/bin/python3.7 -m pip install --upgrade pip' command.\u001b[0m\n"
     ]
    }
   ],
   "source": [
    "!pip install boto3"
   ]
  },
  {
   "cell_type": "code",
   "execution_count": 12,
   "metadata": {},
   "outputs": [],
   "source": [
    "import boto3"
   ]
  },
  {
   "cell_type": "code",
   "execution_count": 13,
   "metadata": {},
   "outputs": [],
   "source": [
    "dynamodb = boto3.resource('dynamodb')"
   ]
  },
  {
   "cell_type": "code",
   "execution_count": 14,
   "metadata": {},
   "outputs": [
    {
     "data": {
      "text/plain": [
       "boto3.resources.factory.dynamodb.ServiceResource"
      ]
     },
     "execution_count": 14,
     "metadata": {},
     "output_type": "execute_result"
    }
   ],
   "source": [
    "type(dynamodb)"
   ]
  },
  {
   "cell_type": "code",
   "execution_count": 15,
   "metadata": {},
   "outputs": [],
   "source": [
    "posts = dynamodb.Table('posts')"
   ]
  },
  {
   "cell_type": "code",
   "execution_count": 16,
   "metadata": {},
   "outputs": [
    {
     "data": {
      "text/plain": [
       "boto3.resources.factory.dynamodb.Table"
      ]
     },
     "execution_count": 16,
     "metadata": {},
     "output_type": "execute_result"
    }
   ],
   "source": [
    "type(posts)"
   ]
  },
  {
   "cell_type": "markdown",
   "metadata": {},
   "source": [
    "## Dynamodb put using Python\n",
    "\n",
    "Let us take care of inserting data or items into dynamodb table using Python as Programming language. We need to use `put_item` on the dynamodb table.\n",
    "* We need to import boto3 and then follow these steps to insert an item to dynamodb table.\n",
    "  * Create boto3 resource using dynamodb. Let's name it as **dynamodb**.\n",
    "  * Using resource **dynamodb** we can create table object by invoking `Table` - `emails = dynamodb.Table`.\n",
    "  * Create JSON object\n",
    "  * Invoke `put_item` on `emails` to insert the record\n",
    "* We can read the entire table using `scan` to validate whether the record is inserted or not."
   ]
  },
  {
   "cell_type": "code",
   "execution_count": 17,
   "metadata": {},
   "outputs": [],
   "source": [
    "import boto3"
   ]
  },
  {
   "cell_type": "code",
   "execution_count": 18,
   "metadata": {},
   "outputs": [],
   "source": [
    "dynamodb = boto3.resource('dynamodb')"
   ]
  },
  {
   "cell_type": "code",
   "execution_count": 19,
   "metadata": {},
   "outputs": [],
   "source": [
    "posts = dynamodb.Table('posts')"
   ]
  },
  {
   "cell_type": "code",
   "execution_count": null,
   "metadata": {},
   "outputs": [],
   "source": [
    "# emails.put_item?"
   ]
  },
  {
   "cell_type": "code",
   "execution_count": null,
   "metadata": {},
   "outputs": [],
   "source": [
    "{\n",
    "    \"content_url\": {\n",
    "        \"S\": \"https://example.com\"\n",
    "    },\n",
    "    \"content_title\": {\n",
    "        \"S\": \"Some Title\"\n",
    "    },\n",
    "    \"contents\": {\n",
    "        \"S\": \"<h1>Hello World</h1>\"\n",
    "    },\n",
    "    \"post_details\": {\n",
    "        \"M\": {\n",
    "            \"post_id\": {\n",
    "                \"N\": \"10\"\n",
    "            }, \n",
    "            \"post_link\": {\n",
    "                \"S\": \"https://post.com/some-title\"\n",
    "            }\n",
    "        }\n",
    "    }\n",
    "}"
   ]
  },
  {
   "cell_type": "code",
   "execution_count": 21,
   "metadata": {},
   "outputs": [],
   "source": [
    "post_item = {\n",
    "    'content_url': 'https://example.com/index.html',\n",
    "    'content_title': 'Index Title',\n",
    "    'contents': '<h1>Another Example</h1>',\n",
    "    'post_details': {\"post_id\": \"11\", \"post_link\": \"https://post.com/index-title\"}\n",
    "}"
   ]
  },
  {
   "cell_type": "code",
   "execution_count": 22,
   "metadata": {},
   "outputs": [],
   "source": [
    "response = posts.put_item(Item=post_item)"
   ]
  },
  {
   "cell_type": "code",
   "execution_count": 23,
   "metadata": {},
   "outputs": [
    {
     "data": {
      "text/plain": [
       "{'ResponseMetadata': {'RequestId': '85SVO1C9IDBD0D7TM5ES61LBSFVV4KQNSO5AEMVJF66Q9ASUAAJG',\n",
       "  'HTTPStatusCode': 200,\n",
       "  'HTTPHeaders': {'server': 'Server',\n",
       "   'date': 'Sat, 02 Jan 2021 16:26:07 GMT',\n",
       "   'content-type': 'application/x-amz-json-1.0',\n",
       "   'content-length': '2',\n",
       "   'connection': 'keep-alive',\n",
       "   'x-amzn-requestid': '85SVO1C9IDBD0D7TM5ES61LBSFVV4KQNSO5AEMVJF66Q9ASUAAJG',\n",
       "   'x-amz-crc32': '2745614147'},\n",
       "  'RetryAttempts': 0}}"
      ]
     },
     "execution_count": 23,
     "metadata": {},
     "output_type": "execute_result"
    }
   ],
   "source": [
    "response"
   ]
  },
  {
   "cell_type": "code",
   "execution_count": 24,
   "metadata": {},
   "outputs": [],
   "source": [
    "posts_all = posts.scan()"
   ]
  },
  {
   "cell_type": "code",
   "execution_count": 26,
   "metadata": {},
   "outputs": [
    {
     "data": {
      "text/plain": [
       "{'Items': [{'contents': '<h1>Another Example</h1>',\n",
       "   'content_title': 'Index Title',\n",
       "   'post_details': {'post_id': '11',\n",
       "    'post_link': 'https://post.com/index-title'},\n",
       "   'content_url': 'https://example.com/index.html'},\n",
       "  {'contents': '<h1>Hello World</h1>',\n",
       "   'content_title': 'Some Title',\n",
       "   'post_details': {'post_id': Decimal('10'),\n",
       "    'post_link': 'https://post.com/some-title'},\n",
       "   'content_url': 'https://example.com'}],\n",
       " 'Count': 2,\n",
       " 'ScannedCount': 2,\n",
       " 'ResponseMetadata': {'RequestId': 'M9QS453C85AH815S7RV631UT8FVV4KQNSO5AEMVJF66Q9ASUAAJG',\n",
       "  'HTTPStatusCode': 200,\n",
       "  'HTTPHeaders': {'server': 'Server',\n",
       "   'date': 'Sat, 02 Jan 2021 16:26:23 GMT',\n",
       "   'content-type': 'application/x-amz-json-1.0',\n",
       "   'content-length': '477',\n",
       "   'connection': 'keep-alive',\n",
       "   'x-amzn-requestid': 'M9QS453C85AH815S7RV631UT8FVV4KQNSO5AEMVJF66Q9ASUAAJG',\n",
       "   'x-amz-crc32': '963829506'},\n",
       "  'RetryAttempts': 0}}"
      ]
     },
     "execution_count": 26,
     "metadata": {},
     "output_type": "execute_result"
    }
   ],
   "source": [
    "posts_all"
   ]
  },
  {
   "cell_type": "code",
   "execution_count": 28,
   "metadata": {},
   "outputs": [
    {
     "data": {
      "text/plain": [
       "2"
      ]
     },
     "execution_count": 28,
     "metadata": {},
     "output_type": "execute_result"
    }
   ],
   "source": [
    "posts_all['Count']"
   ]
  },
  {
   "cell_type": "markdown",
   "metadata": {},
   "source": [
    "## Dynamodb get using Python\n",
    "\n",
    "Let us take care of querying data from dynamodb table using Python as Programming language. We need to use `get_item` on the dynamodb table.\n",
    "* We need to import boto3 and then follow these steps to get an item to dynamodb table.\n",
    "  * Create boto3 resource using dynamodb. Let's name it as **dynamodb**.\n",
    "  * Using resource **dynamodb** we can create table object by invoking `Table` - `emails = dynamodb.Table`.\n",
    "  * Invoke `get_item` on `emails` to get the record. We need to pass a dict to get or query the item based up on the key"
   ]
  },
  {
   "cell_type": "code",
   "execution_count": 29,
   "metadata": {},
   "outputs": [],
   "source": [
    "import boto3"
   ]
  },
  {
   "cell_type": "code",
   "execution_count": 30,
   "metadata": {},
   "outputs": [],
   "source": [
    "dynamodb = boto3.resource('dynamodb')"
   ]
  },
  {
   "cell_type": "code",
   "execution_count": 31,
   "metadata": {},
   "outputs": [],
   "source": [
    "posts = dynamodb.Table('posts')"
   ]
  },
  {
   "cell_type": "code",
   "execution_count": null,
   "metadata": {},
   "outputs": [],
   "source": [
    "# emails.get_item?"
   ]
  },
  {
   "cell_type": "code",
   "execution_count": 37,
   "metadata": {},
   "outputs": [],
   "source": [
    "response = posts.get_item(Key={'content_url': 'https://example.com'})"
   ]
  },
  {
   "cell_type": "code",
   "execution_count": 38,
   "metadata": {},
   "outputs": [
    {
     "data": {
      "text/plain": [
       "{'Item': {'contents': '<h1>Hello World</h1>',\n",
       "  'content_title': 'Some Title',\n",
       "  'post_details': {'post_id': Decimal('10'),\n",
       "   'post_link': 'https://post.com/some-title'},\n",
       "  'content_url': 'https://example.com'},\n",
       " 'ResponseMetadata': {'RequestId': 'N6ATKLIULVK0FRI7OPTJJJSLI7VV4KQNSO5AEMVJF66Q9ASUAAJG',\n",
       "  'HTTPStatusCode': 200,\n",
       "  'HTTPHeaders': {'server': 'Server',\n",
       "   'date': 'Sat, 02 Jan 2021 16:28:11 GMT',\n",
       "   'content-type': 'application/x-amz-json-1.0',\n",
       "   'content-length': '219',\n",
       "   'connection': 'keep-alive',\n",
       "   'x-amzn-requestid': 'N6ATKLIULVK0FRI7OPTJJJSLI7VV4KQNSO5AEMVJF66Q9ASUAAJG',\n",
       "   'x-amz-crc32': '1775742202'},\n",
       "  'RetryAttempts': 0}}"
      ]
     },
     "execution_count": 38,
     "metadata": {},
     "output_type": "execute_result"
    }
   ],
   "source": [
    "response"
   ]
  },
  {
   "cell_type": "code",
   "execution_count": 34,
   "metadata": {},
   "outputs": [
    {
     "data": {
      "text/plain": [
       "dict"
      ]
     },
     "execution_count": 34,
     "metadata": {},
     "output_type": "execute_result"
    }
   ],
   "source": [
    "type(response)"
   ]
  },
  {
   "cell_type": "code",
   "execution_count": 39,
   "metadata": {},
   "outputs": [
    {
     "data": {
      "text/plain": [
       "{'contents': '<h1>Hello World</h1>',\n",
       " 'content_title': 'Some Title',\n",
       " 'post_details': {'post_id': Decimal('10'),\n",
       "  'post_link': 'https://post.com/some-title'},\n",
       " 'content_url': 'https://example.com'}"
      ]
     },
     "execution_count": 39,
     "metadata": {},
     "output_type": "execute_result"
    }
   ],
   "source": [
    "response['Item']"
   ]
  },
  {
   "cell_type": "code",
   "execution_count": 40,
   "metadata": {},
   "outputs": [
    {
     "data": {
      "text/plain": [
       "2"
      ]
     },
     "execution_count": 40,
     "metadata": {},
     "output_type": "execute_result"
    }
   ],
   "source": [
    "posts.scan()['Count']"
   ]
  },
  {
   "cell_type": "markdown",
   "metadata": {},
   "source": [
    "## Dynamodb delete using Python\n",
    "\n",
    "Let us take care of deleting data from dynamodb table using Python as Programming language. We need to use `delete_item` on the dynamodb table.\n",
    "* We need to import boto3 and then follow these steps to get an item to dynamodb table.\n",
    "  * Create boto3 resource using dynamodb. Let's name it as **dynamodb**.\n",
    "  * Using resource **dynamodb** we can create table object by invoking `Table` - `emails = dynamodb.Table`.\n",
    "  * Create JSON object\n",
    "  * Invoke `delete_item` on `emails` to get the record. We need to pass a dict to get or query the item based up on the key"
   ]
  },
  {
   "cell_type": "code",
   "execution_count": 41,
   "metadata": {},
   "outputs": [],
   "source": [
    "import boto3"
   ]
  },
  {
   "cell_type": "code",
   "execution_count": 42,
   "metadata": {},
   "outputs": [],
   "source": [
    "dynamodb = boto3.resource('dynamodb')"
   ]
  },
  {
   "cell_type": "code",
   "execution_count": 43,
   "metadata": {},
   "outputs": [],
   "source": [
    "posts = dynamodb.Table('posts')"
   ]
  },
  {
   "cell_type": "code",
   "execution_count": null,
   "metadata": {},
   "outputs": [],
   "source": [
    "posts.delete_item?"
   ]
  },
  {
   "cell_type": "code",
   "execution_count": 45,
   "metadata": {},
   "outputs": [],
   "source": [
    "response = posts.delete_item(Key={'content_url': 'https://example.com'})"
   ]
  },
  {
   "cell_type": "code",
   "execution_count": 46,
   "metadata": {},
   "outputs": [
    {
     "data": {
      "text/plain": [
       "{'ResponseMetadata': {'RequestId': '4GS52MEP8713VSHBEJB5F7J0JJVV4KQNSO5AEMVJF66Q9ASUAAJG',\n",
       "  'HTTPStatusCode': 200,\n",
       "  'HTTPHeaders': {'server': 'Server',\n",
       "   'date': 'Sat, 02 Jan 2021 16:29:21 GMT',\n",
       "   'content-type': 'application/x-amz-json-1.0',\n",
       "   'content-length': '2',\n",
       "   'connection': 'keep-alive',\n",
       "   'x-amzn-requestid': '4GS52MEP8713VSHBEJB5F7J0JJVV4KQNSO5AEMVJF66Q9ASUAAJG',\n",
       "   'x-amz-crc32': '2745614147'},\n",
       "  'RetryAttempts': 0}}"
      ]
     },
     "execution_count": 46,
     "metadata": {},
     "output_type": "execute_result"
    }
   ],
   "source": [
    "response"
   ]
  },
  {
   "cell_type": "code",
   "execution_count": 48,
   "metadata": {},
   "outputs": [
    {
     "data": {
      "text/plain": [
       "1"
      ]
     },
     "execution_count": 48,
     "metadata": {},
     "output_type": "execute_result"
    }
   ],
   "source": [
    "posts.scan()['Count']"
   ]
  },
  {
   "cell_type": "code",
   "execution_count": null,
   "metadata": {},
   "outputs": [],
   "source": []
  }
 ],
 "metadata": {
  "kernelspec": {
   "display_name": "Python 3",
   "language": "python",
   "name": "python3"
  },
  "language_info": {
   "codemirror_mode": {
    "name": "ipython",
    "version": 3
   },
   "file_extension": ".py",
   "mimetype": "text/x-python",
   "name": "python",
   "nbconvert_exporter": "python",
   "pygments_lexer": "ipython3",
   "version": "3.7.9"
  }
 },
 "nbformat": 4,
 "nbformat_minor": 4
}
